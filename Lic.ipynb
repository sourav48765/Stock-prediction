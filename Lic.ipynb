{
 "cells": [
  {
   "attachments": {},
   "cell_type": "markdown",
   "metadata": {},
   "source": [
    "### Stock Market Prediction And Forecasting Using Stacked LSTM"
   ]
  },
  {
   "cell_type": "code",
   "execution_count": 55,
   "metadata": {},
   "outputs": [],
   "source": [
    "### Keras and Tensorflow >2.0"
   ]
  },
  {
   "cell_type": "code",
   "execution_count": 56,
   "metadata": {},
   "outputs": [
    {
     "name": "stdout",
     "output_type": "stream",
     "text": [
      "[*********************100%***********************]  1 of 1 completed\n"
     ]
    }
   ],
   "source": [
    "import pandas as pd\n",
    "from pandas_datareader import data as pdr\n",
    "import yfinance as yf\n",
    "\n",
    "yf.pdr_override()\n",
    "\n",
    "df = pdr.get_data_yahoo(\"LICI.NS\")"
   ]
  },
  {
   "cell_type": "code",
   "execution_count": 57,
   "metadata": {},
   "outputs": [
    {
     "data": {
      "text/html": [
       "<div>\n",
       "<style scoped>\n",
       "    .dataframe tbody tr th:only-of-type {\n",
       "        vertical-align: middle;\n",
       "    }\n",
       "\n",
       "    .dataframe tbody tr th {\n",
       "        vertical-align: top;\n",
       "    }\n",
       "\n",
       "    .dataframe thead th {\n",
       "        text-align: right;\n",
       "    }\n",
       "</style>\n",
       "<table border=\"1\" class=\"dataframe\">\n",
       "  <thead>\n",
       "    <tr style=\"text-align: right;\">\n",
       "      <th></th>\n",
       "      <th>Open</th>\n",
       "      <th>High</th>\n",
       "      <th>Low</th>\n",
       "      <th>Close</th>\n",
       "      <th>Adj Close</th>\n",
       "      <th>Volume</th>\n",
       "    </tr>\n",
       "    <tr>\n",
       "      <th>Date</th>\n",
       "      <th></th>\n",
       "      <th></th>\n",
       "      <th></th>\n",
       "      <th></th>\n",
       "      <th></th>\n",
       "      <th></th>\n",
       "    </tr>\n",
       "  </thead>\n",
       "  <tbody>\n",
       "    <tr>\n",
       "      <th>2022-05-17</th>\n",
       "      <td>872.000000</td>\n",
       "      <td>918.950012</td>\n",
       "      <td>860.000000</td>\n",
       "      <td>875.250000</td>\n",
       "      <td>865.802429</td>\n",
       "      <td>48792877</td>\n",
       "    </tr>\n",
       "    <tr>\n",
       "      <th>2022-05-18</th>\n",
       "      <td>885.549988</td>\n",
       "      <td>891.000000</td>\n",
       "      <td>874.099976</td>\n",
       "      <td>876.349976</td>\n",
       "      <td>866.890564</td>\n",
       "      <td>8919761</td>\n",
       "    </tr>\n",
       "    <tr>\n",
       "      <th>2022-05-19</th>\n",
       "      <td>867.000000</td>\n",
       "      <td>867.000000</td>\n",
       "      <td>838.000000</td>\n",
       "      <td>840.849976</td>\n",
       "      <td>831.773743</td>\n",
       "      <td>7372427</td>\n",
       "    </tr>\n",
       "    <tr>\n",
       "      <th>2022-05-20</th>\n",
       "      <td>848.549988</td>\n",
       "      <td>856.799988</td>\n",
       "      <td>825.000000</td>\n",
       "      <td>826.150024</td>\n",
       "      <td>817.232422</td>\n",
       "      <td>7078291</td>\n",
       "    </tr>\n",
       "    <tr>\n",
       "      <th>2022-05-23</th>\n",
       "      <td>826.150024</td>\n",
       "      <td>852.700012</td>\n",
       "      <td>803.650024</td>\n",
       "      <td>816.849976</td>\n",
       "      <td>808.032776</td>\n",
       "      <td>12444648</td>\n",
       "    </tr>\n",
       "  </tbody>\n",
       "</table>\n",
       "</div>"
      ],
      "text/plain": [
       "                  Open        High         Low       Close   Adj Close  \\\n",
       "Date                                                                     \n",
       "2022-05-17  872.000000  918.950012  860.000000  875.250000  865.802429   \n",
       "2022-05-18  885.549988  891.000000  874.099976  876.349976  866.890564   \n",
       "2022-05-19  867.000000  867.000000  838.000000  840.849976  831.773743   \n",
       "2022-05-20  848.549988  856.799988  825.000000  826.150024  817.232422   \n",
       "2022-05-23  826.150024  852.700012  803.650024  816.849976  808.032776   \n",
       "\n",
       "              Volume  \n",
       "Date                  \n",
       "2022-05-17  48792877  \n",
       "2022-05-18   8919761  \n",
       "2022-05-19   7372427  \n",
       "2022-05-20   7078291  \n",
       "2022-05-23  12444648  "
      ]
     },
     "execution_count": 57,
     "metadata": {},
     "output_type": "execute_result"
    }
   ],
   "source": [
    "df.head()"
   ]
  },
  {
   "cell_type": "code",
   "execution_count": 58,
   "metadata": {},
   "outputs": [
    {
     "data": {
      "text/html": [
       "<div>\n",
       "<style scoped>\n",
       "    .dataframe tbody tr th:only-of-type {\n",
       "        vertical-align: middle;\n",
       "    }\n",
       "\n",
       "    .dataframe tbody tr th {\n",
       "        vertical-align: top;\n",
       "    }\n",
       "\n",
       "    .dataframe thead th {\n",
       "        text-align: right;\n",
       "    }\n",
       "</style>\n",
       "<table border=\"1\" class=\"dataframe\">\n",
       "  <thead>\n",
       "    <tr style=\"text-align: right;\">\n",
       "      <th></th>\n",
       "      <th>Open</th>\n",
       "      <th>High</th>\n",
       "      <th>Low</th>\n",
       "      <th>Close</th>\n",
       "      <th>Adj Close</th>\n",
       "      <th>Volume</th>\n",
       "    </tr>\n",
       "    <tr>\n",
       "      <th>Date</th>\n",
       "      <th></th>\n",
       "      <th></th>\n",
       "      <th></th>\n",
       "      <th></th>\n",
       "      <th></th>\n",
       "      <th></th>\n",
       "    </tr>\n",
       "  </thead>\n",
       "  <tbody>\n",
       "    <tr>\n",
       "      <th>2024-03-26</th>\n",
       "      <td>909.099976</td>\n",
       "      <td>918.000000</td>\n",
       "      <td>892.200012</td>\n",
       "      <td>897.450012</td>\n",
       "      <td>897.450012</td>\n",
       "      <td>3883441</td>\n",
       "    </tr>\n",
       "    <tr>\n",
       "      <th>2024-03-27</th>\n",
       "      <td>900.950012</td>\n",
       "      <td>913.000000</td>\n",
       "      <td>888.950012</td>\n",
       "      <td>892.500000</td>\n",
       "      <td>892.500000</td>\n",
       "      <td>7788410</td>\n",
       "    </tr>\n",
       "    <tr>\n",
       "      <th>2024-03-28</th>\n",
       "      <td>902.650024</td>\n",
       "      <td>928.000000</td>\n",
       "      <td>901.750000</td>\n",
       "      <td>916.150024</td>\n",
       "      <td>916.150024</td>\n",
       "      <td>4191452</td>\n",
       "    </tr>\n",
       "    <tr>\n",
       "      <th>2024-04-01</th>\n",
       "      <td>925.000000</td>\n",
       "      <td>984.450012</td>\n",
       "      <td>924.000000</td>\n",
       "      <td>970.599976</td>\n",
       "      <td>970.599976</td>\n",
       "      <td>4863536</td>\n",
       "    </tr>\n",
       "    <tr>\n",
       "      <th>2024-04-02</th>\n",
       "      <td>972.650024</td>\n",
       "      <td>1001.799988</td>\n",
       "      <td>961.299988</td>\n",
       "      <td>998.400024</td>\n",
       "      <td>998.400024</td>\n",
       "      <td>5915915</td>\n",
       "    </tr>\n",
       "  </tbody>\n",
       "</table>\n",
       "</div>"
      ],
      "text/plain": [
       "                  Open         High         Low       Close   Adj Close  \\\n",
       "Date                                                                      \n",
       "2024-03-26  909.099976   918.000000  892.200012  897.450012  897.450012   \n",
       "2024-03-27  900.950012   913.000000  888.950012  892.500000  892.500000   \n",
       "2024-03-28  902.650024   928.000000  901.750000  916.150024  916.150024   \n",
       "2024-04-01  925.000000   984.450012  924.000000  970.599976  970.599976   \n",
       "2024-04-02  972.650024  1001.799988  961.299988  998.400024  998.400024   \n",
       "\n",
       "             Volume  \n",
       "Date                 \n",
       "2024-03-26  3883441  \n",
       "2024-03-27  7788410  \n",
       "2024-03-28  4191452  \n",
       "2024-04-01  4863536  \n",
       "2024-04-02  5915915  "
      ]
     },
     "execution_count": 58,
     "metadata": {},
     "output_type": "execute_result"
    }
   ],
   "source": [
    "df.tail()"
   ]
  },
  {
   "cell_type": "code",
   "execution_count": 59,
   "metadata": {},
   "outputs": [],
   "source": [
    "df1=df.reset_index()['Close']"
   ]
  },
  {
   "cell_type": "code",
   "execution_count": 60,
   "metadata": {},
   "outputs": [
    {
     "data": {
      "text/plain": [
       "0      875.250000\n",
       "1      876.349976\n",
       "2      840.849976\n",
       "3      826.150024\n",
       "4      816.849976\n",
       "          ...    \n",
       "460    897.450012\n",
       "461    892.500000\n",
       "462    916.150024\n",
       "463    970.599976\n",
       "464    998.400024\n",
       "Name: Close, Length: 465, dtype: float64"
      ]
     },
     "execution_count": 60,
     "metadata": {},
     "output_type": "execute_result"
    }
   ],
   "source": [
    "df1"
   ]
  },
  {
   "cell_type": "code",
   "execution_count": 61,
   "metadata": {},
   "outputs": [
    {
     "data": {
      "text/plain": [
       "[<matplotlib.lines.Line2D at 0x294c1f82650>]"
      ]
     },
     "execution_count": 61,
     "metadata": {},
     "output_type": "execute_result"
    },
    {
     "data": {
      "image/png": "[encoded data removed]",
      "text/plain": [
       "<Figure size 640x480 with 1 Axes>"
      ]
     },
     "metadata": {},
     "output_type": "display_data"
    }
   ],
   "source": [
    "import matplotlib.pyplot as plt\n",
    "plt.plot(df1)"
   ]
  },
  {
   "cell_type": "code",
   "execution_count": 62,
   "metadata": {},
   "outputs": [],
   "source": [
    "### LSTM are sensitive to the scale of the data. so we apply MinMax scaler "
   ]
  },
  {
   "cell_type": "code",
   "execution_count": 63,
   "metadata": {},
   "outputs": [],
   "source": [
    "import numpy as np"
   ]
  },
  {
   "cell_type": "code",
   "execution_count": 64,
   "metadata": {},
   "outputs": [
    {
     "data": {
      "text/plain": [
       "0      875.250000\n",
       "1      876.349976\n",
       "2      840.849976\n",
       "3      826.150024\n",
       "4      816.849976\n",
       "          ...    \n",
       "460    897.450012\n",
       "461    892.500000\n",
       "462    916.150024\n",
       "463    970.599976\n",
       "464    998.400024\n",
       "Name: Close, Length: 465, dtype: float64"
      ]
     },
     "execution_count": 64,
     "metadata": {},
     "output_type": "execute_result"
    }
   ],
   "source": [
    "df1"
   ]
  },
  {
   "cell_type": "code",
   "execution_count": 65,
   "metadata": {},
   "outputs": [],
   "source": [
    "from sklearn.preprocessing import MinMaxScaler\n",
    "scaler=MinMaxScaler(feature_range=(0,1))\n",
    "df1=scaler.fit_transform(np.array(df1).reshape(-1,1))"
   ]
  },
  {
   "cell_type": "code",
   "execution_count": 66,
   "metadata": {},
   "outputs": [
    {
     "data": {
      "text/plain": [
       "array([[0.59888387],\n",
       "       [0.60080221],\n",
       "       [0.5388908 ],\n",
       "       [0.51325434],\n",
       "       [0.49703521],\n",
       "       [0.5079351 ],\n",
       "       [0.50305197],\n",
       "       [0.48796658],\n",
       "       [0.50531913],\n",
       "       [0.5334845 ],\n",
       "       [0.48735612],\n",
       "       [0.4857866 ],\n",
       "       [0.47758986],\n",
       "       [0.46808513],\n",
       "       [0.42814787],\n",
       "       [0.38568192],\n",
       "       [0.35960935],\n",
       "       [0.33109527],\n",
       "       [0.31016747],\n",
       "       [0.23787935],\n",
       "       [0.24843043],\n",
       "       [0.27607262],\n",
       "       [0.23979769],\n",
       "       [0.21398676],\n",
       "       [0.22593311],\n",
       "       [0.23256022],\n",
       "       [0.2384897 ],\n",
       "       [0.23247304],\n",
       "       [0.2263691 ],\n",
       "       [0.23186259],\n",
       "       [0.22933379],\n",
       "       [0.25575518],\n",
       "       [0.2477329 ],\n",
       "       [0.25252885],\n",
       "       [0.27982212],\n",
       "       [0.29787241],\n",
       "       [0.29839559],\n",
       "       [0.28985003],\n",
       "       [0.30737704],\n",
       "       [0.32499133],\n",
       "       [0.32394488],\n",
       "       [0.32612486],\n",
       "       [0.31470179],\n",
       "       [0.30807467],\n",
       "       [0.28714687],\n",
       "       [0.27380536],\n",
       "       [0.27179984],\n",
       "       [0.2715382 ],\n",
       "       [0.27345665],\n",
       "       [0.26525991],\n",
       "       [0.25026159],\n",
       "       [0.2485176 ],\n",
       "       [0.24947688],\n",
       "       [0.25453437],\n",
       "       [0.26342875],\n",
       "       [0.26796306],\n",
       "       [0.25540636],\n",
       "       [0.24738408],\n",
       "       [0.27118939],\n",
       "       [0.25837115],\n",
       "       [0.26290546],\n",
       "       [0.26299275],\n",
       "       [0.26255675],\n",
       "       [0.2891525 ],\n",
       "       [0.28967567],\n",
       "       [0.28671088],\n",
       "       [0.26874787],\n",
       "       [0.25017441],\n",
       "       [0.24284966],\n",
       "       [0.25183121],\n",
       "       [0.25462154],\n",
       "       [0.25636553],\n",
       "       [0.24119296],\n",
       "       [0.24703526],\n",
       "       [0.23866416],\n",
       "       [0.23160105],\n",
       "       [0.22314267],\n",
       "       [0.21093479],\n",
       "       [0.21154525],\n",
       "       [0.21276595],\n",
       "       [0.21180678],\n",
       "       [0.20988844],\n",
       "       [0.24136732],\n",
       "       [0.22950825],\n",
       "       [0.24546563],\n",
       "       [0.21442275],\n",
       "       [0.21433558],\n",
       "       [0.21712591],\n",
       "       [0.21032444],\n",
       "       [0.20561566],\n",
       "       [0.19349496],\n",
       "       [0.17213116],\n",
       "       [0.16907919],\n",
       "       [0.15626096],\n",
       "       [0.15294735],\n",
       "       [0.15660978],\n",
       "       [0.15477851],\n",
       "       [0.16995118],\n",
       "       [0.16925365],\n",
       "       [0.16158008],\n",
       "       [0.15268581],\n",
       "       [0.15286017],\n",
       "       [0.14614588],\n",
       "       [0.13908266],\n",
       "       [0.14117546],\n",
       "       [0.13411235],\n",
       "       [0.13254272],\n",
       "       [0.13114756],\n",
       "       [0.12059648],\n",
       "       [0.1000175 ],\n",
       "       [0.11850368],\n",
       "       [0.11109175],\n",
       "       [0.11109175],\n",
       "       [0.10612144],\n",
       "       [0.12574125],\n",
       "       [0.12792123],\n",
       "       [0.15268581],\n",
       "       [0.16358571],\n",
       "       [0.1677712 ],\n",
       "       [0.17683994],\n",
       "       [0.17343915],\n",
       "       [0.1552145 ],\n",
       "       [0.16716085],\n",
       "       [0.23160105],\n",
       "       [0.2142484 ],\n",
       "       [0.19323342],\n",
       "       [0.19532612],\n",
       "       [0.18651902],\n",
       "       [0.16602722],\n",
       "       [0.16384724],\n",
       "       [0.15582496],\n",
       "       [0.16114409],\n",
       "       [0.16724803],\n",
       "       [0.17082317],\n",
       "       [0.18303106],\n",
       "       [0.18215906],\n",
       "       [0.20762128],\n",
       "       [0.20823163],\n",
       "       [0.20971398],\n",
       "       [0.20901645],\n",
       "       [0.21328923],\n",
       "       [0.22758981],\n",
       "       [0.24415765],\n",
       "       [0.28836768],\n",
       "       [0.32516569],\n",
       "       [0.33562958],\n",
       "       [0.30851067],\n",
       "       [0.27328219],\n",
       "       [0.35359259],\n",
       "       [0.36292296],\n",
       "       [0.29612843],\n",
       "       [0.26116148],\n",
       "       [0.22131151],\n",
       "       [0.27232302],\n",
       "       [0.2803453 ],\n",
       "       [0.27066621],\n",
       "       [0.26482391],\n",
       "       [0.26639343],\n",
       "       [0.30981866],\n",
       "       [0.35359259],\n",
       "       [0.34731429],\n",
       "       [0.34173353],\n",
       "       [0.30598187],\n",
       "       [0.31348098],\n",
       "       [0.31941056],\n",
       "       [0.31958492],\n",
       "       [0.30266837],\n",
       "       [0.31557378],\n",
       "       [0.30929548],\n",
       "       [0.30319154],\n",
       "       [0.30476106],\n",
       "       [0.29604115],\n",
       "       [0.29072202],\n",
       "       [0.29482044],\n",
       "       [0.29691314],\n",
       "       [0.27476464],\n",
       "       [0.23386821],\n",
       "       [0.21738755],\n",
       "       [0.21180678],\n",
       "       [0.11614934],\n",
       "       [0.11728287],\n",
       "       [0.11719569],\n",
       "       [0.11867814],\n",
       "       [0.12417162],\n",
       "       [0.13672832],\n",
       "       [0.14178592],\n",
       "       [0.15381934],\n",
       "       [0.13053721],\n",
       "       [0.11545171],\n",
       "       [0.12059648],\n",
       "       [0.12373563],\n",
       "       [0.12347409],\n",
       "       [0.11623652],\n",
       "       [0.11388219],\n",
       "       [0.11178939],\n",
       "       [0.10298229],\n",
       "       [0.09199511],\n",
       "       [0.06260904],\n",
       "       [0.0811825 ],\n",
       "       [0.12181729],\n",
       "       [0.12077084],\n",
       "       [0.14579706],\n",
       "       [0.13916994],\n",
       "       [0.12399727],\n",
       "       [0.1163237 ],\n",
       "       [0.11100457],\n",
       "       [0.08763515],\n",
       "       [0.08135686],\n",
       "       [0.0795257 ],\n",
       "       [0.07080578],\n",
       "       [0.08379848],\n",
       "       [0.07507856],\n",
       "       [0.07098014],\n",
       "       [0.07132895],\n",
       "       [0.0644402 ],\n",
       "       [0.04909317],\n",
       "       [0.02136379],\n",
       "       [0.00863274],\n",
       "       [0.        ],\n",
       "       [0.00435996],\n",
       "       [0.02214861],\n",
       "       [0.03156616],\n",
       "       [0.03261251],\n",
       "       [0.03043253],\n",
       "       [0.03252533],\n",
       "       [0.03043253],\n",
       "       [0.03331014],\n",
       "       [0.02223579],\n",
       "       [0.02895018],\n",
       "       [0.0255494 ],\n",
       "       [0.03496695],\n",
       "       [0.02816537],\n",
       "       [0.03060699],\n",
       "       [0.02868854],\n",
       "       [0.02772938],\n",
       "       [0.02415423],\n",
       "       [0.03147898],\n",
       "       [0.03174052],\n",
       "       [0.03400767],\n",
       "       [0.03592612],\n",
       "       [0.04918035],\n",
       "       [0.05380195],\n",
       "       [0.04447157],\n",
       "       [0.04525638],\n",
       "       [0.05083715],\n",
       "       [0.05275549],\n",
       "       [0.06243468],\n",
       "       [0.06217304],\n",
       "       [0.066533  ],\n",
       "       [0.06330667],\n",
       "       [0.05781309],\n",
       "       [0.07961287],\n",
       "       [0.1016743 ],\n",
       "       [0.10821424],\n",
       "       [0.12513079],\n",
       "       [0.1263516 ],\n",
       "       [0.12792123],\n",
       "       [0.12042212],\n",
       "       [0.11039422],\n",
       "       [0.11388219],\n",
       "       [0.11335891],\n",
       "       [0.11292291],\n",
       "       [0.11492853],\n",
       "       [0.12120683],\n",
       "       [0.12478208],\n",
       "       [0.12225329],\n",
       "       [0.11370772],\n",
       "       [0.11693416],\n",
       "       [0.11187656],\n",
       "       [0.1125742 ],\n",
       "       [0.12661324],\n",
       "       [0.15076737],\n",
       "       [0.17178234],\n",
       "       [0.18172307],\n",
       "       [0.19166379],\n",
       "       [0.1623649 ],\n",
       "       [0.14658187],\n",
       "       [0.14815139],\n",
       "       [0.15373216],\n",
       "       [0.17509595],\n",
       "       [0.16951519],\n",
       "       [0.1640217 ],\n",
       "       [0.16550405],\n",
       "       [0.16750967],\n",
       "       [0.15826647],\n",
       "       [0.15120336],\n",
       "       [0.15687131],\n",
       "       [0.15451697],\n",
       "       [0.14623305],\n",
       "       [0.151465  ],\n",
       "       [0.15530179],\n",
       "       [0.15495297],\n",
       "       [0.15434251],\n",
       "       [0.16812002],\n",
       "       [0.1811999 ],\n",
       "       [0.16532969],\n",
       "       [0.15905129],\n",
       "       [0.16759685],\n",
       "       [0.17160799],\n",
       "       [0.16550405],\n",
       "       [0.18852465],\n",
       "       [0.2012557 ],\n",
       "       [0.1907918 ],\n",
       "       [0.19654693],\n",
       "       [0.22087551],\n",
       "       [0.21573074],\n",
       "       [0.19497741],\n",
       "       [0.19550058],\n",
       "       [0.19157662],\n",
       "       [0.22322985],\n",
       "       [0.21616674],\n",
       "       [0.20474367],\n",
       "       [0.22288114],\n",
       "       [0.20744682],\n",
       "       [0.20980126],\n",
       "       [0.23029306],\n",
       "       [0.22113715],\n",
       "       [0.21564356],\n",
       "       [0.20317404],\n",
       "       [0.21512039],\n",
       "       [0.20936527],\n",
       "       [0.20788282],\n",
       "       [0.19785491],\n",
       "       [0.19863973],\n",
       "       [0.22104987],\n",
       "       [0.22349149],\n",
       "       [0.25488318],\n",
       "       [0.25156957],\n",
       "       [0.24816889],\n",
       "       [0.25671435],\n",
       "       [0.22288114],\n",
       "       [0.22227068],\n",
       "       [0.22488665],\n",
       "       [0.23657136],\n",
       "       [0.22994425],\n",
       "       [0.2159052 ],\n",
       "       [0.21398676],\n",
       "       [0.20831881],\n",
       "       [0.20020935],\n",
       "       [0.19724456],\n",
       "       [0.19724456],\n",
       "       [0.20657483],\n",
       "       [0.20561566],\n",
       "       [0.19794209],\n",
       "       [0.18416469],\n",
       "       [0.18468786],\n",
       "       [0.19619811],\n",
       "       [0.18041508],\n",
       "       [0.1807639 ],\n",
       "       [0.18399023],\n",
       "       [0.18390305],\n",
       "       [0.17928156],\n",
       "       [0.18364151],\n",
       "       [0.20465649],\n",
       "       [0.18268224],\n",
       "       [0.17936873],\n",
       "       [0.17980473],\n",
       "       [0.14928502],\n",
       "       [0.13812349],\n",
       "       [0.12757241],\n",
       "       [0.13045003],\n",
       "       [0.12617725],\n",
       "       [0.12277646],\n",
       "       [0.1188525 ],\n",
       "       [0.12975239],\n",
       "       [0.13289154],\n",
       "       [0.13873395],\n",
       "       [0.13768749],\n",
       "       [0.14213463],\n",
       "       [0.14466343],\n",
       "       [0.13672832],\n",
       "       [0.12853158],\n",
       "       [0.13071156],\n",
       "       [0.13507152],\n",
       "       [0.14440189],\n",
       "       [0.13978029],\n",
       "       [0.13786196],\n",
       "       [0.13411235],\n",
       "       [0.14972102],\n",
       "       [0.25427283],\n",
       "       [0.24843043],\n",
       "       [0.25994078],\n",
       "       [0.25749916],\n",
       "       [0.24250095],\n",
       "       [0.3263865 ],\n",
       "       [0.31775376],\n",
       "       [0.37347404],\n",
       "       [0.4422742 ],\n",
       "       [0.41960242],\n",
       "       [0.41698644],\n",
       "       [0.45326127],\n",
       "       [0.47645623],\n",
       "       [0.49424488],\n",
       "       [0.46093484],\n",
       "       [0.47052675],\n",
       "       [0.45727241],\n",
       "       [0.40006978],\n",
       "       [0.40573773],\n",
       "       [0.45509243],\n",
       "       [0.43503663],\n",
       "       [0.50497042],\n",
       "       [0.51456232],\n",
       "       [0.52432859],\n",
       "       [0.57010815],\n",
       "       [0.53339732],\n",
       "       [0.53522848],\n",
       "       [0.52912454],\n",
       "       [0.54508203],\n",
       "       [0.50924309],\n",
       "       [0.52424141],\n",
       "       [0.53496684],\n",
       "       [0.52694456],\n",
       "       [0.51874782],\n",
       "       [0.51874782],\n",
       "       [0.62905476],\n",
       "       [0.62024766],\n",
       "       [0.64414025],\n",
       "       [0.64536106],\n",
       "       [0.59888387],\n",
       "       [0.65460415],\n",
       "       [0.64815139],\n",
       "       [0.66925355],\n",
       "       [0.69942454],\n",
       "       [0.72881061],\n",
       "       [0.70657483],\n",
       "       [0.72131151],\n",
       "       [0.81444015],\n",
       "       [0.86152769],\n",
       "       [0.89396574],\n",
       "       [1.        ],\n",
       "       [0.95744677],\n",
       "       [0.85559821],\n",
       "       [0.8364144 ],\n",
       "       [0.93939658],\n",
       "       [0.91428318],\n",
       "       [0.88594346],\n",
       "       [0.90748161],\n",
       "       [0.8899547 ],\n",
       "       [0.88542039],\n",
       "       [0.92875833],\n",
       "       [0.93242065],\n",
       "       [0.88821072],\n",
       "       [0.88655381],\n",
       "       [0.82856647],\n",
       "       [0.85620857],\n",
       "       [0.86824199],\n",
       "       [0.88079879],\n",
       "       [0.86396931],\n",
       "       [0.83440878],\n",
       "       [0.85969664],\n",
       "       [0.83719921],\n",
       "       [0.792466  ],\n",
       "       [0.65905129],\n",
       "       [0.74407047],\n",
       "       [0.68590867],\n",
       "       [0.64972102],\n",
       "       [0.60638297],\n",
       "       [0.58432165],\n",
       "       [0.6451866 ],\n",
       "       [0.6531217 ],\n",
       "       [0.63760032],\n",
       "       [0.62896758],\n",
       "       [0.67021282],\n",
       "       [0.76517262],\n",
       "       [0.81365544]])"
      ]
     },
     "execution_count": 66,
     "metadata": {},
     "output_type": "execute_result"
    }
   ],
   "source": [
    "df1"
   ]
  },
  {
   "cell_type": "code",
   "execution_count": 67,
   "metadata": {},
   "outputs": [],
   "source": [
    "##splitting dataset into train and test split\n",
    "training_size=int(len(df1)*0.65)\n",
    "test_size=len(df1)-training_size\n",
    "train_data,test_data=df1[0:training_size,:],df1[training_size:len(df1),:1]"
   ]
  },
  {
   "cell_type": "code",
   "execution_count": 68,
   "metadata": {},
   "outputs": [
    {
     "data": {
      "text/plain": [
       "(302, 163)"
      ]
     },
     "execution_count": 68,
     "metadata": {},
     "output_type": "execute_result"
    }
   ],
   "source": [
    "training_size,test_size"
   ]
  },
  {
   "cell_type": "code",
   "execution_count": 69,
   "metadata": {},
   "outputs": [
    {
     "data": {
      "text/plain": [
       "array([[0.59888387],\n",
       "       [0.60080221],\n",
       "       [0.5388908 ],\n",
       "       [0.51325434],\n",
       "       [0.49703521],\n",
       "       [0.5079351 ],\n",
       "       [0.50305197],\n",
       "       [0.48796658],\n",
       "       [0.50531913],\n",
       "       [0.5334845 ],\n",
       "       [0.48735612],\n",
       "       [0.4857866 ],\n",
       "       [0.47758986],\n",
       "       [0.46808513],\n",
       "       [0.42814787],\n",
       "       [0.38568192],\n",
       "       [0.35960935],\n",
       "       [0.33109527],\n",
       "       [0.31016747],\n",
       "       [0.23787935],\n",
       "       [0.24843043],\n",
       "       [0.27607262],\n",
       "       [0.23979769],\n",
       "       [0.21398676],\n",
       "       [0.22593311],\n",
       "       [0.23256022],\n",
       "       [0.2384897 ],\n",
       "       [0.23247304],\n",
       "       [0.2263691 ],\n",
       "       [0.23186259],\n",
       "       [0.22933379],\n",
       "       [0.25575518],\n",
       "       [0.2477329 ],\n",
       "       [0.25252885],\n",
       "       [0.27982212],\n",
       "       [0.29787241],\n",
       "       [0.29839559],\n",
       "       [0.28985003],\n",
       "       [0.30737704],\n",
       "       [0.32499133],\n",
       "       [0.32394488],\n",
       "       [0.32612486],\n",
       "       [0.31470179],\n",
       "       [0.30807467],\n",
       "       [0.28714687],\n",
       "       [0.27380536],\n",
       "       [0.27179984],\n",
       "       [0.2715382 ],\n",
       "       [0.27345665],\n",
       "       [0.26525991],\n",
       "       [0.25026159],\n",
       "       [0.2485176 ],\n",
       "       [0.24947688],\n",
       "       [0.25453437],\n",
       "       [0.26342875],\n",
       "       [0.26796306],\n",
       "       [0.25540636],\n",
       "       [0.24738408],\n",
       "       [0.27118939],\n",
       "       [0.25837115],\n",
       "       [0.26290546],\n",
       "       [0.26299275],\n",
       "       [0.26255675],\n",
       "       [0.2891525 ],\n",
       "       [0.28967567],\n",
       "       [0.28671088],\n",
       "       [0.26874787],\n",
       "       [0.25017441],\n",
       "       [0.24284966],\n",
       "       [0.25183121],\n",
       "       [0.25462154],\n",
       "       [0.25636553],\n",
       "       [0.24119296],\n",
       "       [0.24703526],\n",
       "       [0.23866416],\n",
       "       [0.23160105],\n",
       "       [0.22314267],\n",
       "       [0.21093479],\n",
       "       [0.21154525],\n",
       "       [0.21276595],\n",
       "       [0.21180678],\n",
       "       [0.20988844],\n",
       "       [0.24136732],\n",
       "       [0.22950825],\n",
       "       [0.24546563],\n",
       "       [0.21442275],\n",
       "       [0.21433558],\n",
       "       [0.21712591],\n",
       "       [0.21032444],\n",
       "       [0.20561566],\n",
       "       [0.19349496],\n",
       "       [0.17213116],\n",
       "       [0.16907919],\n",
       "       [0.15626096],\n",
       "       [0.15294735],\n",
       "       [0.15660978],\n",
       "       [0.15477851],\n",
       "       [0.16995118],\n",
       "       [0.16925365],\n",
       "       [0.16158008],\n",
       "       [0.15268581],\n",
       "       [0.15286017],\n",
       "       [0.14614588],\n",
       "       [0.13908266],\n",
       "       [0.14117546],\n",
       "       [0.13411235],\n",
       "       [0.13254272],\n",
       "       [0.13114756],\n",
       "       [0.12059648],\n",
       "       [0.1000175 ],\n",
       "       [0.11850368],\n",
       "       [0.11109175],\n",
       "       [0.11109175],\n",
       "       [0.10612144],\n",
       "       [0.12574125],\n",
       "       [0.12792123],\n",
       "       [0.15268581],\n",
       "       [0.16358571],\n",
       "       [0.1677712 ],\n",
       "       [0.17683994],\n",
       "       [0.17343915],\n",
       "       [0.1552145 ],\n",
       "       [0.16716085],\n",
       "       [0.23160105],\n",
       "       [0.2142484 ],\n",
       "       [0.19323342],\n",
       "       [0.19532612],\n",
       "       [0.18651902],\n",
       "       [0.16602722],\n",
       "       [0.16384724],\n",
       "       [0.15582496],\n",
       "       [0.16114409],\n",
       "       [0.16724803],\n",
       "       [0.17082317],\n",
       "       [0.18303106],\n",
       "       [0.18215906],\n",
       "       [0.20762128],\n",
       "       [0.20823163],\n",
       "       [0.20971398],\n",
       "       [0.20901645],\n",
       "       [0.21328923],\n",
       "       [0.22758981],\n",
       "       [0.24415765],\n",
       "       [0.28836768],\n",
       "       [0.32516569],\n",
       "       [0.33562958],\n",
       "       [0.30851067],\n",
       "       [0.27328219],\n",
       "       [0.35359259],\n",
       "       [0.36292296],\n",
       "       [0.29612843],\n",
       "       [0.26116148],\n",
       "       [0.22131151],\n",
       "       [0.27232302],\n",
       "       [0.2803453 ],\n",
       "       [0.27066621],\n",
       "       [0.26482391],\n",
       "       [0.26639343],\n",
       "       [0.30981866],\n",
       "       [0.35359259],\n",
       "       [0.34731429],\n",
       "       [0.34173353],\n",
       "       [0.30598187],\n",
       "       [0.31348098],\n",
       "       [0.31941056],\n",
       "       [0.31958492],\n",
       "       [0.30266837],\n",
       "       [0.31557378],\n",
       "       [0.30929548],\n",
       "       [0.30319154],\n",
       "       [0.30476106],\n",
       "       [0.29604115],\n",
       "       [0.29072202],\n",
       "       [0.29482044],\n",
       "       [0.29691314],\n",
       "       [0.27476464],\n",
       "       [0.23386821],\n",
       "       [0.21738755],\n",
       "       [0.21180678],\n",
       "       [0.11614934],\n",
       "       [0.11728287],\n",
       "       [0.11719569],\n",
       "       [0.11867814],\n",
       "       [0.12417162],\n",
       "       [0.13672832],\n",
       "       [0.14178592],\n",
       "       [0.15381934],\n",
       "       [0.13053721],\n",
       "       [0.11545171],\n",
       "       [0.12059648],\n",
       "       [0.12373563],\n",
       "       [0.12347409],\n",
       "       [0.11623652],\n",
       "       [0.11388219],\n",
       "       [0.11178939],\n",
       "       [0.10298229],\n",
       "       [0.09199511],\n",
       "       [0.06260904],\n",
       "       [0.0811825 ],\n",
       "       [0.12181729],\n",
       "       [0.12077084],\n",
       "       [0.14579706],\n",
       "       [0.13916994],\n",
       "       [0.12399727],\n",
       "       [0.1163237 ],\n",
       "       [0.11100457],\n",
       "       [0.08763515],\n",
       "       [0.08135686],\n",
       "       [0.0795257 ],\n",
       "       [0.07080578],\n",
       "       [0.08379848],\n",
       "       [0.07507856],\n",
       "       [0.07098014],\n",
       "       [0.07132895],\n",
       "       [0.0644402 ],\n",
       "       [0.04909317],\n",
       "       [0.02136379],\n",
       "       [0.00863274],\n",
       "       [0.        ],\n",
       "       [0.00435996],\n",
       "       [0.02214861],\n",
       "       [0.03156616],\n",
       "       [0.03261251],\n",
       "       [0.03043253],\n",
       "       [0.03252533],\n",
       "       [0.03043253],\n",
       "       [0.03331014],\n",
       "       [0.02223579],\n",
       "       [0.02895018],\n",
       "       [0.0255494 ],\n",
       "       [0.03496695],\n",
       "       [0.02816537],\n",
       "       [0.03060699],\n",
       "       [0.02868854],\n",
       "       [0.02772938],\n",
       "       [0.02415423],\n",
       "       [0.03147898],\n",
       "       [0.03174052],\n",
       "       [0.03400767],\n",
       "       [0.03592612],\n",
       "       [0.04918035],\n",
       "       [0.05380195],\n",
       "       [0.04447157],\n",
       "       [0.04525638],\n",
       "       [0.05083715],\n",
       "       [0.05275549],\n",
       "       [0.06243468],\n",
       "       [0.06217304],\n",
       "       [0.066533  ],\n",
       "       [0.06330667],\n",
       "       [0.05781309],\n",
       "       [0.07961287],\n",
       "       [0.1016743 ],\n",
       "       [0.10821424],\n",
       "       [0.12513079],\n",
       "       [0.1263516 ],\n",
       "       [0.12792123],\n",
       "       [0.12042212],\n",
       "       [0.11039422],\n",
       "       [0.11388219],\n",
       "       [0.11335891],\n",
       "       [0.11292291],\n",
       "       [0.11492853],\n",
       "       [0.12120683],\n",
       "       [0.12478208],\n",
       "       [0.12225329],\n",
       "       [0.11370772],\n",
       "       [0.11693416],\n",
       "       [0.11187656],\n",
       "       [0.1125742 ],\n",
       "       [0.12661324],\n",
       "       [0.15076737],\n",
       "       [0.17178234],\n",
       "       [0.18172307],\n",
       "       [0.19166379],\n",
       "       [0.1623649 ],\n",
       "       [0.14658187],\n",
       "       [0.14815139],\n",
       "       [0.15373216],\n",
       "       [0.17509595],\n",
       "       [0.16951519],\n",
       "       [0.1640217 ],\n",
       "       [0.16550405],\n",
       "       [0.16750967],\n",
       "       [0.15826647],\n",
       "       [0.15120336],\n",
       "       [0.15687131],\n",
       "       [0.15451697],\n",
       "       [0.14623305],\n",
       "       [0.151465  ],\n",
       "       [0.15530179],\n",
       "       [0.15495297],\n",
       "       [0.15434251],\n",
       "       [0.16812002],\n",
       "       [0.1811999 ],\n",
       "       [0.16532969],\n",
       "       [0.15905129],\n",
       "       [0.16759685],\n",
       "       [0.17160799],\n",
       "       [0.16550405],\n",
       "       [0.18852465],\n",
       "       [0.2012557 ]])"
      ]
     },
     "execution_count": 69,
     "metadata": {},
     "output_type": "execute_result"
    }
   ],
   "source": [
    "train_data"
   ]
  },
  {
   "cell_type": "code",
   "execution_count": 70,
   "metadata": {},
   "outputs": [],
   "source": [
    "import numpy\n",
    "# convert an array of values into a dataset matrix\n",
    "def create_dataset(dataset, time_step=1):\n",
    "\tdataX, dataY = [], []\n",
    "\tfor i in range(len(dataset)-time_step-1):\n",
    "\t\ta = dataset[i:(i+time_step), 0]   ###i=0, 0,1,2,3-----99   100 \n",
    "\t\tdataX.append(a)\n",
    "\t\tdataY.append(dataset[i + time_step, 0])\n",
    "\treturn numpy.array(dataX), numpy.array(dataY)"
   ]
  },
  {
   "cell_type": "code",
   "execution_count": 71,
   "metadata": {},
   "outputs": [],
   "source": [
    "# reshape into X=t,t+1,t+2,t+3 and Y=t+4\n",
    "time_step = 5\n",
    "X_train, y_train = create_dataset(train_data, time_step)\n",
    "X_test, ytest = create_dataset(test_data, time_step)"
   ]
  },
  {
   "cell_type": "code",
   "execution_count": 72,
   "metadata": {},
   "outputs": [
    {
     "name": "stdout",
     "output_type": "stream",
     "text": [
      "(296, 5)\n",
      "(296,)\n"
     ]
    },
    {
     "data": {
      "text/plain": [
       "(None, None)"
      ]
     },
     "execution_count": 72,
     "metadata": {},
     "output_type": "execute_result"
    }
   ],
   "source": [
    "print(X_train.shape), print(y_train.shape)"
   ]
  },
  {
   "cell_type": "code",
   "execution_count": 73,
   "metadata": {},
   "outputs": [
    {
     "name": "stdout",
     "output_type": "stream",
     "text": [
      "(157, 5)\n",
      "(157,)\n"
     ]
    },
    {
     "data": {
      "text/plain": [
       "(None, None)"
      ]
     },
     "execution_count": 73,
     "metadata": {},
     "output_type": "execute_result"
    }
   ],
   "source": [
    "print(X_test.shape), print(ytest.shape)"
   ]
  },
  {
   "cell_type": "code",
   "execution_count": 74,
   "metadata": {},
   "outputs": [],
   "source": [
    "# reshape input to be [samples, time steps, features] which is required for LSTM\n",
    "X_train =X_train.reshape(X_train.shape[0],X_train.shape[1] , 1)\n",
    "X_test = X_test.reshape(X_test.shape[0],X_test.shape[1] , 1)"
   ]
  },
  {
   "cell_type": "code",
   "execution_count": 75,
   "metadata": {},
   "outputs": [],
   "source": [
    "### Create the Stacked LSTM model\n",
    "from tensorflow.keras.models import Sequential\n",
    "from tensorflow.keras.layers import Dense\n",
    "from tensorflow.keras.layers import LSTM"
   ]
  },
  {
   "cell_type": "code",
   "execution_count": 76,
   "metadata": {},
   "outputs": [],
   "source": [
    "model=Sequential()\n",
    "model.add(LSTM(50,return_sequences=True,input_shape=(time_step,1)))\n",
    "model.add(LSTM(50,return_sequences=True))\n",
    "model.add(LSTM(50))\n",
    "model.add(Dense(1))\n",
    "model.compile(loss='mean_squared_error',optimizer='adam')\n"
   ]
  },
  {
   "cell_type": "code",
   "execution_count": 77,
   "metadata": {},
   "outputs": [
    {
     "name": "stdout",
     "output_type": "stream",
     "text": [
      "Model: \"sequential_1\"\n",
      "_________________________________________________________________\n",
      " Layer (type)                Output Shape              Param #   \n",
      "=================================================================\n",
      " lstm_3 (LSTM)               (None, 5, 50)             10400     \n",
      "                                                                 \n",
      " lstm_4 (LSTM)               (None, 5, 50)             20200     \n",
      "                                                                 \n",
      " lstm_5 (LSTM)               (None, 50)                20200     \n",
      "                                                                 \n",
      " dense_1 (Dense)             (None, 1)                 51        \n",
      "                                                                 \n",
      "=================================================================\n",
      "Total params: 50,851\n",
      "Trainable params: 50,851\n",
      "Non-trainable params: 0\n",
      "_________________________________________________________________\n"
     ]
    }
   ],
   "source": [
    "model.summary()"
   ]
  },
  {
   "cell_type": "code",
   "execution_count": 78,
   "metadata": {},
   "outputs": [
    {
     "name": "stdout",
     "output_type": "stream",
     "text": [
      "Model: \"sequential_1\"\n",
      "_________________________________________________________________\n",
      " Layer (type)                Output Shape              Param #   \n",
      "=================================================================\n",
      " lstm_3 (LSTM)               (None, 5, 50)             10400     \n",
      "                                                                 \n",
      " lstm_4 (LSTM)               (None, 5, 50)             20200     \n",
      "                                                                 \n",
      " lstm_5 (LSTM)               (None, 50)                20200     \n",
      "                                                                 \n",
      " dense_1 (Dense)             (None, 1)                 51        \n",
      "                                                                 \n",
      "=================================================================\n",
      "Total params: 50,851\n",
      "Trainable params: 50,851\n",
      "Non-trainable params: 0\n",
      "_________________________________________________________________\n"
     ]
    }
   ],
   "source": [
    "model.summary()"
   ]
  },
  {
   "cell_type": "code",
   "execution_count": null,
   "metadata": {},
   "outputs": [],
   "source": []
  },
  {
   "cell_type": "code",
   "execution_count": 79,
   "metadata": {},
   "outputs": [
    {
     "name": "stdout",
     "output_type": "stream",
     "text": [
      "Epoch 1/100\n"
     ]
    },
    {
     "name": "stdout",
     "output_type": "stream",
     "text": [
      "5/5 [==============================] - 8s 300ms/step - loss: 0.0348 - val_loss: 0.1612\n",
      "Epoch 2/100\n",
      "5/5 [==============================] - 0s 21ms/step - loss: 0.0131 - val_loss: 0.0686\n",
      "Epoch 3/100\n",
      "5/5 [==============================] - 0s 21ms/step - loss: 0.0080 - val_loss: 0.0370\n",
      "Epoch 4/100\n",
      "5/5 [==============================] - 0s 20ms/step - loss: 0.0075 - val_loss: 0.0594\n",
      "Epoch 5/100\n",
      "5/5 [==============================] - 0s 20ms/step - loss: 0.0053 - val_loss: 0.0727\n",
      "Epoch 6/100\n",
      "5/5 [==============================] - 0s 18ms/step - loss: 0.0055 - val_loss: 0.0565\n",
      "Epoch 7/100\n",
      "5/5 [==============================] - 0s 19ms/step - loss: 0.0039 - val_loss: 0.0285\n",
      "Epoch 8/100\n",
      "5/5 [==============================] - 0s 21ms/step - loss: 0.0032 - val_loss: 0.0140\n",
      "Epoch 9/100\n",
      "5/5 [==============================] - 0s 21ms/step - loss: 0.0023 - val_loss: 0.0133\n",
      "Epoch 10/100\n",
      "5/5 [==============================] - 0s 22ms/step - loss: 0.0016 - val_loss: 0.0056\n",
      "Epoch 11/100\n",
      "5/5 [==============================] - 0s 20ms/step - loss: 0.0013 - val_loss: 0.0058\n",
      "Epoch 12/100\n",
      "5/5 [==============================] - 0s 20ms/step - loss: 0.0013 - val_loss: 0.0056\n",
      "Epoch 13/100\n",
      "5/5 [==============================] - 0s 19ms/step - loss: 0.0013 - val_loss: 0.0055\n",
      "Epoch 14/100\n",
      "5/5 [==============================] - 0s 19ms/step - loss: 0.0012 - val_loss: 0.0044\n",
      "Epoch 15/100\n",
      "5/5 [==============================] - 0s 21ms/step - loss: 0.0012 - val_loss: 0.0042\n",
      "Epoch 16/100\n",
      "5/5 [==============================] - 0s 22ms/step - loss: 0.0012 - val_loss: 0.0045\n",
      "Epoch 17/100\n",
      "5/5 [==============================] - 0s 20ms/step - loss: 0.0012 - val_loss: 0.0045\n",
      "Epoch 18/100\n",
      "5/5 [==============================] - 0s 20ms/step - loss: 0.0012 - val_loss: 0.0048\n",
      "Epoch 19/100\n",
      "5/5 [==============================] - 0s 25ms/step - loss: 0.0012 - val_loss: 0.0044\n",
      "Epoch 20/100\n",
      "5/5 [==============================] - 0s 21ms/step - loss: 0.0011 - val_loss: 0.0041\n",
      "Epoch 21/100\n",
      "5/5 [==============================] - 0s 21ms/step - loss: 0.0011 - val_loss: 0.0043\n",
      "Epoch 22/100\n",
      "5/5 [==============================] - 0s 22ms/step - loss: 0.0011 - val_loss: 0.0041\n",
      "Epoch 23/100\n",
      "5/5 [==============================] - 0s 22ms/step - loss: 0.0011 - val_loss: 0.0045\n",
      "Epoch 24/100\n",
      "5/5 [==============================] - 0s 19ms/step - loss: 0.0011 - val_loss: 0.0046\n",
      "Epoch 25/100\n",
      "5/5 [==============================] - 0s 21ms/step - loss: 0.0011 - val_loss: 0.0047\n",
      "Epoch 26/100\n",
      "5/5 [==============================] - 0s 23ms/step - loss: 0.0011 - val_loss: 0.0050\n",
      "Epoch 27/100\n",
      "5/5 [==============================] - 0s 21ms/step - loss: 0.0011 - val_loss: 0.0050\n",
      "Epoch 28/100\n",
      "5/5 [==============================] - 0s 21ms/step - loss: 0.0011 - val_loss: 0.0048\n",
      "Epoch 29/100\n",
      "5/5 [==============================] - 0s 19ms/step - loss: 0.0011 - val_loss: 0.0054\n",
      "Epoch 30/100\n",
      "5/5 [==============================] - 0s 26ms/step - loss: 0.0011 - val_loss: 0.0049\n",
      "Epoch 31/100\n",
      "5/5 [==============================] - 0s 28ms/step - loss: 0.0011 - val_loss: 0.0059\n",
      "Epoch 32/100\n",
      "5/5 [==============================] - 0s 21ms/step - loss: 0.0011 - val_loss: 0.0053\n",
      "Epoch 33/100\n",
      "5/5 [==============================] - 0s 25ms/step - loss: 0.0011 - val_loss: 0.0058\n",
      "Epoch 34/100\n",
      "5/5 [==============================] - 0s 28ms/step - loss: 0.0011 - val_loss: 0.0055\n",
      "Epoch 35/100\n",
      "5/5 [==============================] - 0s 20ms/step - loss: 0.0011 - val_loss: 0.0064\n",
      "Epoch 36/100\n",
      "5/5 [==============================] - 0s 20ms/step - loss: 0.0011 - val_loss: 0.0054\n",
      "Epoch 37/100\n",
      "5/5 [==============================] - 0s 26ms/step - loss: 0.0011 - val_loss: 0.0069\n",
      "Epoch 38/100\n",
      "5/5 [==============================] - 0s 25ms/step - loss: 0.0011 - val_loss: 0.0058\n",
      "Epoch 39/100\n",
      "5/5 [==============================] - 0s 22ms/step - loss: 0.0011 - val_loss: 0.0069\n",
      "Epoch 40/100\n",
      "5/5 [==============================] - 0s 22ms/step - loss: 0.0011 - val_loss: 0.0064\n",
      "Epoch 41/100\n",
      "5/5 [==============================] - 0s 19ms/step - loss: 0.0011 - val_loss: 0.0058\n",
      "Epoch 42/100\n",
      "5/5 [==============================] - 0s 20ms/step - loss: 0.0011 - val_loss: 0.0065\n",
      "Epoch 43/100\n",
      "5/5 [==============================] - 0s 20ms/step - loss: 0.0011 - val_loss: 0.0058\n",
      "Epoch 44/100\n",
      "5/5 [==============================] - 0s 21ms/step - loss: 0.0011 - val_loss: 0.0071\n",
      "Epoch 45/100\n",
      "5/5 [==============================] - 0s 20ms/step - loss: 0.0011 - val_loss: 0.0073\n",
      "Epoch 46/100\n",
      "5/5 [==============================] - 0s 21ms/step - loss: 0.0011 - val_loss: 0.0070\n",
      "Epoch 47/100\n",
      "5/5 [==============================] - 0s 23ms/step - loss: 0.0011 - val_loss: 0.0073\n",
      "Epoch 48/100\n",
      "5/5 [==============================] - 0s 20ms/step - loss: 0.0011 - val_loss: 0.0065\n",
      "Epoch 49/100\n",
      "5/5 [==============================] - 0s 19ms/step - loss: 0.0011 - val_loss: 0.0072\n",
      "Epoch 50/100\n",
      "5/5 [==============================] - 0s 20ms/step - loss: 0.0011 - val_loss: 0.0063\n",
      "Epoch 51/100\n",
      "5/5 [==============================] - 0s 21ms/step - loss: 0.0011 - val_loss: 0.0083\n",
      "Epoch 52/100\n",
      "5/5 [==============================] - 0s 25ms/step - loss: 0.0011 - val_loss: 0.0070\n",
      "Epoch 53/100\n",
      "5/5 [==============================] - 0s 19ms/step - loss: 0.0011 - val_loss: 0.0088\n",
      "Epoch 54/100\n",
      "5/5 [==============================] - 0s 20ms/step - loss: 0.0011 - val_loss: 0.0066\n",
      "Epoch 55/100\n",
      "5/5 [==============================] - 0s 32ms/step - loss: 0.0011 - val_loss: 0.0086\n",
      "Epoch 56/100\n",
      "5/5 [==============================] - 0s 21ms/step - loss: 0.0011 - val_loss: 0.0073\n",
      "Epoch 57/100\n",
      "5/5 [==============================] - 0s 19ms/step - loss: 0.0011 - val_loss: 0.0093\n",
      "Epoch 58/100\n",
      "5/5 [==============================] - 0s 18ms/step - loss: 0.0010 - val_loss: 0.0063\n",
      "Epoch 59/100\n",
      "5/5 [==============================] - 0s 22ms/step - loss: 0.0011 - val_loss: 0.0082\n",
      "Epoch 60/100\n",
      "5/5 [==============================] - 0s 23ms/step - loss: 0.0011 - val_loss: 0.0072\n",
      "Epoch 61/100\n",
      "5/5 [==============================] - 0s 20ms/step - loss: 0.0011 - val_loss: 0.0079\n",
      "Epoch 62/100\n",
      "5/5 [==============================] - 0s 19ms/step - loss: 0.0011 - val_loss: 0.0093\n",
      "Epoch 63/100\n",
      "5/5 [==============================] - 0s 20ms/step - loss: 0.0011 - val_loss: 0.0075\n",
      "Epoch 64/100\n",
      "5/5 [==============================] - 0s 21ms/step - loss: 0.0010 - val_loss: 0.0095\n",
      "Epoch 65/100\n",
      "5/5 [==============================] - 0s 19ms/step - loss: 0.0010 - val_loss: 0.0069\n",
      "Epoch 66/100\n",
      "5/5 [==============================] - 0s 20ms/step - loss: 0.0011 - val_loss: 0.0083\n",
      "Epoch 67/100\n",
      "5/5 [==============================] - 0s 20ms/step - loss: 0.0010 - val_loss: 0.0077\n",
      "Epoch 68/100\n",
      "5/5 [==============================] - 0s 20ms/step - loss: 0.0010 - val_loss: 0.0080\n",
      "Epoch 69/100\n",
      "5/5 [==============================] - 0s 20ms/step - loss: 0.0010 - val_loss: 0.0083\n",
      "Epoch 70/100\n",
      "5/5 [==============================] - 0s 22ms/step - loss: 0.0010 - val_loss: 0.0083\n",
      "Epoch 71/100\n",
      "5/5 [==============================] - 0s 21ms/step - loss: 0.0011 - val_loss: 0.0077\n",
      "Epoch 72/100\n",
      "5/5 [==============================] - 0s 20ms/step - loss: 0.0011 - val_loss: 0.0078\n",
      "Epoch 73/100\n",
      "5/5 [==============================] - 0s 20ms/step - loss: 0.0010 - val_loss: 0.0074\n",
      "Epoch 74/100\n",
      "5/5 [==============================] - 0s 19ms/step - loss: 0.0010 - val_loss: 0.0084\n",
      "Epoch 75/100\n",
      "5/5 [==============================] - 0s 21ms/step - loss: 0.0010 - val_loss: 0.0077\n",
      "Epoch 76/100\n",
      "5/5 [==============================] - 0s 20ms/step - loss: 0.0010 - val_loss: 0.0088\n",
      "Epoch 77/100\n",
      "5/5 [==============================] - 0s 19ms/step - loss: 9.9913e-04 - val_loss: 0.0079\n",
      "Epoch 78/100\n",
      "5/5 [==============================] - 0s 20ms/step - loss: 0.0011 - val_loss: 0.0091\n",
      "Epoch 79/100\n",
      "5/5 [==============================] - 0s 19ms/step - loss: 0.0010 - val_loss: 0.0073\n",
      "Epoch 80/100\n",
      "5/5 [==============================] - 0s 21ms/step - loss: 0.0010 - val_loss: 0.0075\n",
      "Epoch 81/100\n",
      "5/5 [==============================] - 0s 22ms/step - loss: 9.9128e-04 - val_loss: 0.0080\n",
      "Epoch 82/100\n",
      "5/5 [==============================] - 0s 19ms/step - loss: 9.8523e-04 - val_loss: 0.0076\n",
      "Epoch 83/100\n",
      "5/5 [==============================] - 0s 23ms/step - loss: 9.9392e-04 - val_loss: 0.0084\n",
      "Epoch 84/100\n",
      "5/5 [==============================] - 0s 21ms/step - loss: 0.0010 - val_loss: 0.0073\n",
      "Epoch 85/100\n",
      "5/5 [==============================] - 0s 20ms/step - loss: 0.0010 - val_loss: 0.0075\n",
      "Epoch 86/100\n",
      "5/5 [==============================] - 0s 21ms/step - loss: 0.0010 - val_loss: 0.0075\n",
      "Epoch 87/100\n",
      "5/5 [==============================] - 0s 20ms/step - loss: 9.8820e-04 - val_loss: 0.0079\n",
      "Epoch 88/100\n",
      "5/5 [==============================] - 0s 20ms/step - loss: 0.0010 - val_loss: 0.0081\n",
      "Epoch 89/100\n",
      "5/5 [==============================] - 0s 31ms/step - loss: 0.0011 - val_loss: 0.0085\n",
      "Epoch 90/100\n",
      "5/5 [==============================] - 0s 20ms/step - loss: 9.8860e-04 - val_loss: 0.0086\n",
      "Epoch 91/100\n",
      "5/5 [==============================] - 0s 21ms/step - loss: 9.5821e-04 - val_loss: 0.0069\n",
      "Epoch 92/100\n",
      "5/5 [==============================] - 0s 20ms/step - loss: 9.8674e-04 - val_loss: 0.0080\n",
      "Epoch 93/100\n",
      "5/5 [==============================] - 0s 21ms/step - loss: 9.6582e-04 - val_loss: 0.0072\n",
      "Epoch 94/100\n",
      "5/5 [==============================] - 0s 20ms/step - loss: 9.6819e-04 - val_loss: 0.0077\n",
      "Epoch 95/100\n",
      "5/5 [==============================] - 0s 22ms/step - loss: 9.7375e-04 - val_loss: 0.0079\n",
      "Epoch 96/100\n",
      "5/5 [==============================] - 0s 21ms/step - loss: 9.6704e-04 - val_loss: 0.0081\n",
      "Epoch 97/100\n",
      "5/5 [==============================] - 0s 21ms/step - loss: 9.5226e-04 - val_loss: 0.0072\n",
      "Epoch 98/100\n",
      "5/5 [==============================] - 0s 21ms/step - loss: 9.5718e-04 - val_loss: 0.0079\n",
      "Epoch 99/100\n",
      "5/5 [==============================] - 0s 19ms/step - loss: 9.7821e-04 - val_loss: 0.0078\n",
      "Epoch 100/100\n",
      "5/5 [==============================] - 0s 21ms/step - loss: 9.7158e-04 - val_loss: 0.0075\n"
     ]
    },
    {
     "data": {
      "text/plain": [
       "<keras.callbacks.History at 0x294c3398650>"
      ]
     },
     "execution_count": 79,
     "metadata": {},
     "output_type": "execute_result"
    }
   ],
   "source": [
    "model.fit(X_train,y_train,validation_data=(X_test,ytest),epochs=100,batch_size=64,verbose=1)"
   ]
  },
  {
   "cell_type": "code",
   "execution_count": 80,
   "metadata": {},
   "outputs": [],
   "source": [
    "import tensorflow as tf"
   ]
  },
  {
   "cell_type": "code",
   "execution_count": 81,
   "metadata": {},
   "outputs": [
    {
     "data": {
      "text/plain": [
       "'2.12.0-rc1'"
      ]
     },
     "execution_count": 81,
     "metadata": {},
     "output_type": "execute_result"
    }
   ],
   "source": [
    "tf.__version__"
   ]
  },
  {
   "cell_type": "code",
   "execution_count": 82,
   "metadata": {},
   "outputs": [
    {
     "name": "stdout",
     "output_type": "stream",
     "text": [
      "10/10 [==============================] - 1s 4ms/step\n",
      "5/5 [==============================] - 0s 5ms/step\n"
     ]
    }
   ],
   "source": [
    "### Lets Do the prediction and check performance metrics\n",
    "train_predict=model.predict(X_train)\n",
    "test_predict=model.predict(X_test)"
   ]
  },
  {
   "cell_type": "code",
   "execution_count": 83,
   "metadata": {},
   "outputs": [],
   "source": [
    "##Transformback to original form\n",
    "train_predict=scaler.inverse_transform(train_predict)\n",
    "test_predict=scaler.inverse_transform(test_predict)"
   ]
  },
  {
   "cell_type": "code",
   "execution_count": 84,
   "metadata": {},
   "outputs": [
    {
     "data": {
      "text/plain": [
       "643.4133548056744"
      ]
     },
     "execution_count": 84,
     "metadata": {},
     "output_type": "execute_result"
    }
   ],
   "source": [
    "### Calculate RMSE performance metrics\n",
    "import math\n",
    "from sklearn.metrics import mean_squared_error\n",
    "math.sqrt(mean_squared_error(y_train,train_predict))"
   ]
  },
  {
   "cell_type": "code",
   "execution_count": 85,
   "metadata": {},
   "outputs": [
    {
     "data": {
      "text/plain": [
       "759.1745450611662"
      ]
     },
     "execution_count": 85,
     "metadata": {},
     "output_type": "execute_result"
    }
   ],
   "source": [
    "### Test Data RMSE\n",
    "math.sqrt(mean_squared_error(ytest,test_predict))"
   ]
  },
  {
   "cell_type": "code",
   "execution_count": 86,
   "metadata": {},
   "outputs": [
    {
     "data": {
      "image/png": "[encoded data removed]",
      "text/plain": [
       "<Figure size 640x480 with 1 Axes>"
      ]
     },
     "metadata": {},
     "output_type": "display_data"
    }
   ],
   "source": [
    "### Plotting \n",
    "# shift train predictions for plotting\n",
    "look_back=5\n",
    "trainPredictPlot = numpy.empty_like(df1)\n",
    "trainPredictPlot[:, :] = np.nan\n",
    "trainPredictPlot[look_back:len(train_predict)+look_back, :] = train_predict\n",
    "# shift test predictions for plotting\n",
    "testPredictPlot = numpy.empty_like(df1)\n",
    "testPredictPlot[:, :] = numpy.nan\n",
    "testPredictPlot[len(train_predict)+(look_back*2)+1:len(df1)-1, :] = test_predict\n",
    "# plot baseline and predictions\n",
    "plt.plot(scaler.inverse_transform(df1))\n",
    "plt.plot(trainPredictPlot)\n",
    "plt.plot(testPredictPlot)\n",
    "plt.show()"
   ]
  },
  {
   "cell_type": "code",
   "execution_count": 87,
   "metadata": {},
   "outputs": [
    {
     "data": {
      "text/plain": [
       "163"
      ]
     },
     "execution_count": 87,
     "metadata": {},
     "output_type": "execute_result"
    }
   ],
   "source": [
    "len(test_data)"
   ]
  },
  {
   "cell_type": "code",
   "execution_count": 105,
   "metadata": {},
   "outputs": [
    {
     "data": {
      "text/plain": [
       "(1, 5)"
      ]
     },
     "execution_count": 105,
     "metadata": {},
     "output_type": "execute_result"
    }
   ],
   "source": [
    "x_input=test_data[len(test_data)-time_step:].reshape(1,-1)\n",
    "x_input.shape\n"
   ]
  },
  {
   "cell_type": "code",
   "execution_count": 106,
   "metadata": {},
   "outputs": [],
   "source": [
    "temp_input=list(x_input)\n",
    "temp_input=temp_input[0].tolist()"
   ]
  },
  {
   "cell_type": "code",
   "execution_count": 107,
   "metadata": {},
   "outputs": [
    {
     "data": {
      "text/plain": [
       "[0.6376003157563304,\n",
       " 0.6289675777091188,\n",
       " 0.6702128225767479,\n",
       " 0.7651726217632155,\n",
       " 0.8136554394201085]"
      ]
     },
     "execution_count": 107,
     "metadata": {},
     "output_type": "execute_result"
    }
   ],
   "source": [
    "temp_input"
   ]
  },
  {
   "cell_type": "code",
   "execution_count": 108,
   "metadata": {},
   "outputs": [
    {
     "name": "stdout",
     "output_type": "stream",
     "text": [
      "[0.6003187]\n",
      "6\n",
      "1 day input [0.62896758 0.67021282 0.76517262 0.81365544 0.60031867]\n",
      "1 day output [[0.61389804]]\n",
      "2 day input [0.67021282 0.76517262 0.81365544 0.60031867 0.61389804]\n",
      "2 day output [[0.61992556]]\n",
      "3 day input [0.76517262 0.81365544 0.60031867 0.61389804 0.61992556]\n",
      "3 day output [[0.61188054]]\n",
      "4 day input [0.81365544 0.60031867 0.61389804 0.61992556 0.61188054]\n",
      "4 day output [[0.5837029]]\n",
      "5 day input [0.60031867 0.61389804 0.61992556 0.61188054 0.58370292]\n",
      "5 day output [[0.5445808]]\n",
      "6 day input [0.61389804 0.61992556 0.61188054 0.58370292 0.54458082]\n",
      "6 day output [[0.54022497]]\n",
      "7 day input [0.61992556 0.61188054 0.58370292 0.54458082 0.54022497]\n",
      "7 day output [[0.5290805]]\n",
      "8 day input [0.61188054 0.58370292 0.54458082 0.54022497 0.52908051]\n",
      "8 day output [[0.5135133]]\n",
      "9 day input [0.58370292 0.54458082 0.54022497 0.52908051 0.51351333]\n",
      "9 day output [[0.49673665]]\n",
      "10 day input [0.54458082 0.54022497 0.52908051 0.51351333 0.49673665]\n",
      "10 day output [[0.48266461]]\n",
      "11 day input [0.54022497 0.52908051 0.51351333 0.49673665 0.48266461]\n",
      "11 day output [[0.4732458]]\n",
      "12 day input [0.52908051 0.51351333 0.49673665 0.48266461 0.4732458 ]\n",
      "12 day output [[0.46200573]]\n",
      "13 day input [0.51351333 0.49673665 0.48266461 0.4732458  0.46200573]\n",
      "13 day output [[0.450582]]\n",
      "14 day input [0.49673665 0.48266461 0.4732458  0.46200573 0.450582  ]\n",
      "14 day output [[0.44000256]]\n",
      "15 day input [0.48266461 0.4732458  0.46200573 0.450582   0.44000256]\n",
      "15 day output [[0.43057993]]\n",
      "16 day input [0.4732458  0.46200573 0.450582   0.44000256 0.43057993]\n",
      "16 day output [[0.4218609]]\n",
      "17 day input [0.46200573 0.450582   0.44000256 0.43057993 0.4218609 ]\n",
      "17 day output [[0.41306376]]\n",
      "18 day input [0.450582   0.44000256 0.43057993 0.4218609  0.41306376]\n",
      "18 day output [[0.40468547]]\n",
      "19 day input [0.44000256 0.43057993 0.4218609  0.41306376 0.40468547]\n",
      "19 day output [[0.39685088]]\n",
      "20 day input [0.43057993 0.4218609  0.41306376 0.40468547 0.39685088]\n",
      "20 day output [[0.3894666]]\n",
      "21 day input [0.4218609  0.41306376 0.40468547 0.39685088 0.38946661]\n",
      "21 day output [[0.38238162]]\n",
      "22 day input [0.41306376 0.40468547 0.39685088 0.38946661 0.38238162]\n",
      "22 day output [[0.37554]]\n",
      "23 day input [0.40468547 0.39685088 0.38946661 0.38238162 0.37553999]\n",
      "23 day output [[0.36903346]]\n",
      "24 day input [0.39685088 0.38946661 0.38238162 0.37553999 0.36903346]\n",
      "24 day output [[0.3628412]]\n",
      "25 day input [0.38946661 0.38238162 0.37553999 0.36903346 0.36284119]\n",
      "25 day output [[0.35691383]]\n",
      "26 day input [0.38238162 0.37553999 0.36903346 0.36284119 0.35691383]\n",
      "26 day output [[0.35122055]]\n",
      "27 day input [0.37553999 0.36903346 0.36284119 0.35691383 0.35122055]\n",
      "27 day output [[0.34575772]]\n",
      "28 day input [0.36903346 0.36284119 0.35691383 0.35122055 0.34575772]\n",
      "28 day output [[0.3405281]]\n",
      "29 day input [0.36284119 0.35691383 0.35122055 0.34575772 0.3405281 ]\n",
      "29 day output [[0.33551168]]\n",
      "[[0.6003186702728271], [0.6138980388641357], [0.6199255585670471], [0.6118805408477783], [0.5837029218673706], [0.5445808172225952], [0.5402249693870544], [0.5290805101394653], [0.5135133266448975], [0.49673664569854736], [0.4826646149158478], [0.4732457995414734], [0.46200573444366455], [0.45058199763298035], [0.44000256061553955], [0.43057993054389954], [0.4218609035015106], [0.41306376457214355], [0.40468546748161316], [0.3968508839607239], [0.38946661353111267], [0.3823816180229187], [0.37553998827934265], [0.36903345584869385], [0.3628411889076233], [0.35691383481025696], [0.3512205481529236], [0.34575772285461426], [0.34052810072898865], [0.3355116844177246]]\n"
     ]
    }
   ],
   "source": [
    "# demonstrate prediction for next 30 days\n",
    "from numpy import array\n",
    "\n",
    "lst_output=[]\n",
    "n_steps=5\n",
    "i=0\n",
    "while(i<30):\n",
    "    \n",
    "    if(len(temp_input)>5):\n",
    "        #print(temp_input)\n",
    "        x_input=np.array(temp_input[1:])\n",
    "        print(\"{} day input {}\".format(i,x_input))\n",
    "        x_input=x_input.reshape(1,-1)\n",
    "        x_input = x_input.reshape((1, n_steps, 1))\n",
    "        #print(x_input)\n",
    "        yhat = model.predict(x_input, verbose=0)\n",
    "        print(\"{} day output {}\".format(i,yhat))\n",
    "        temp_input.extend(yhat[0].tolist())\n",
    "        temp_input=temp_input[1:]\n",
    "        #print(temp_input)\n",
    "        lst_output.extend(yhat.tolist())\n",
    "        i=i+1\n",
    "    else:\n",
    "        x_input = x_input.reshape((1, n_steps,1))\n",
    "        yhat = model.predict(x_input, verbose=0)\n",
    "        print(yhat[0])\n",
    "        temp_input.extend(yhat[0].tolist())\n",
    "        print(len(temp_input))\n",
    "        lst_output.extend(yhat.tolist())\n",
    "        i=i+1\n",
    "    \n",
    "\n",
    "print(lst_output)"
   ]
  },
  {
   "cell_type": "code",
   "execution_count": 109,
   "metadata": {},
   "outputs": [],
   "source": [
    "day_new=np.arange(1,6)\n",
    "day_pred=np.arange(6,36)"
   ]
  },
  {
   "cell_type": "code",
   "execution_count": 110,
   "metadata": {},
   "outputs": [],
   "source": [
    "import matplotlib.pyplot as plt"
   ]
  },
  {
   "cell_type": "code",
   "execution_count": 111,
   "metadata": {},
   "outputs": [
    {
     "data": {
      "text/plain": [
       "465"
      ]
     },
     "execution_count": 111,
     "metadata": {},
     "output_type": "execute_result"
    }
   ],
   "source": [
    "len(df1)"
   ]
  },
  {
   "cell_type": "code",
   "execution_count": 95,
   "metadata": {},
   "outputs": [
    {
     "data": {
      "text/plain": [
       "460"
      ]
     },
     "execution_count": 95,
     "metadata": {},
     "output_type": "execute_result"
    }
   ],
   "source": [
    "465-5"
   ]
  },
  {
   "cell_type": "code",
   "execution_count": 116,
   "metadata": {},
   "outputs": [
    {
     "data": {
      "text/plain": [
       "[<matplotlib.lines.Line2D at 0x294cd2a2310>]"
      ]
     },
     "execution_count": 116,
     "metadata": {},
     "output_type": "execute_result"
    },
    {
     "data": {
      "image/png": "[encoded data removed]",
      "text/plain": [
       "<Figure size 640x480 with 1 Axes>"
      ]
     },
     "metadata": {},
     "output_type": "display_data"
    }
   ],
   "source": [
    "plt.plot(day_new,scaler.inverse_transform(df1[len(df1)-time_step:]))\n",
    "plt.plot(day_pred,scaler.inverse_transform(lst_output))"
   ]
  },
  {
   "cell_type": "code",
   "execution_count": 113,
   "metadata": {},
   "outputs": [
    {
     "data": {
      "text/plain": [
       "[<matplotlib.lines.Line2D at 0x294cc160fd0>]"
      ]
     },
     "execution_count": 113,
     "metadata": {},
     "output_type": "execute_result"
    },
    {
     "data": {
      "image/png": "[encoded data removed]",
      "text/plain": [
       "<Figure size 640x480 with 1 Axes>"
      ]
     },
     "metadata": {},
     "output_type": "display_data"
    }
   ],
   "source": [
    "df3=df1.tolist()\n",
    "df3.extend(lst_output)\n",
    "plt.plot(df3[1:])"
   ]
  },
  {
   "cell_type": "code",
   "execution_count": 114,
   "metadata": {},
   "outputs": [],
   "source": [
    "df3=scaler.inverse_transform(df3).tolist()"
   ]
  },
  {
   "cell_type": "code",
   "execution_count": 115,
   "metadata": {},
   "outputs": [
    {
     "data": {
      "text/plain": [
       "[<matplotlib.lines.Line2D at 0x294cd26c5d0>]"
      ]
     },
     "execution_count": 115,
     "metadata": {},
     "output_type": "execute_result"
    },
    {
     "data": {
      "image/png": "[encoded data removed]",
      "text/plain": [
       "<Figure size 640x480 with 1 Axes>"
      ]
     },
     "metadata": {},
     "output_type": "display_data"
    }
   ],
   "source": [
    "plt.plot(df3)"
   ]
  },
  {
   "cell_type": "code",
   "execution_count": null,
   "metadata": {},
   "outputs": [],
   "source": []
  }
 ],
 "metadata": {
  "kernelspec": {
   "display_name": "Python 3",
   "language": "python",
   "name": "python3"
  },
  "language_info": {
   "codemirror_mode": {
    "name": "ipython",
    "version": 3
   },
   "file_extension": ".py",
   "mimetype": "text/x-python",
   "name": "python",
   "nbconvert_exporter": "python",
   "pygments_lexer": "ipython3",
   "version": "3.11.5"
  }
 },
 "nbformat": 4,
 "nbformat_minor": 2
}
