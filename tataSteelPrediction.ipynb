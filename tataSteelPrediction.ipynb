{
 "cells": [
  {
   "attachments": {},
   "cell_type": "markdown",
   "metadata": {},
   "source": [
    "### Stock Market Prediction And Forecasting Using Stacked LSTM"
   ]
  },
  {
   "cell_type": "code",
   "execution_count": 63,
   "metadata": {},
   "outputs": [],
   "source": [
    "### Keras and Tensorflow >2.0"
   ]
  },
  {
   "cell_type": "code",
   "execution_count": 64,
   "metadata": {},
   "outputs": [
    {
     "name": "stdout",
     "output_type": "stream",
     "text": [
      "[*********************100%***********************]  1 of 1 completed\n"
     ]
    }
   ],
   "source": [
    "import pandas as pd\n",
    "from pandas_datareader import data as pdr\n",
    "import yfinance as yf \n",
    "\n",
    "yf.pdr_override()\n",
    "\n",
    "df = pdr.get_data_yahoo(\"TATASTEEL.NS\", start = '2022-01-01', end = '2023-05-06')"
   ]
  },
  {
   "cell_type": "code",
   "execution_count": 65,
   "metadata": {},
   "outputs": [
    {
     "data": {
      "text/html": [
       "<div>\n",
       "<style scoped>\n",
       "    .dataframe tbody tr th:only-of-type {\n",
       "        vertical-align: middle;\n",
       "    }\n",
       "\n",
       "    .dataframe tbody tr th {\n",
       "        vertical-align: top;\n",
       "    }\n",
       "\n",
       "    .dataframe thead th {\n",
       "        text-align: right;\n",
       "    }\n",
       "</style>\n",
       "<table border=\"1\" class=\"dataframe\">\n",
       "  <thead>\n",
       "    <tr style=\"text-align: right;\">\n",
       "      <th></th>\n",
       "      <th>Open</th>\n",
       "      <th>High</th>\n",
       "      <th>Low</th>\n",
       "      <th>Close</th>\n",
       "      <th>Adj Close</th>\n",
       "      <th>Volume</th>\n",
       "    </tr>\n",
       "    <tr>\n",
       "      <th>Date</th>\n",
       "      <th></th>\n",
       "      <th></th>\n",
       "      <th></th>\n",
       "      <th></th>\n",
       "      <th></th>\n",
       "      <th></th>\n",
       "    </tr>\n",
       "  </thead>\n",
       "  <tbody>\n",
       "    <tr>\n",
       "      <th>2022-01-03</th>\n",
       "      <td>111.500000</td>\n",
       "      <td>115.099998</td>\n",
       "      <td>111.500000</td>\n",
       "      <td>114.245003</td>\n",
       "      <td>104.969955</td>\n",
       "      <td>38658030</td>\n",
       "    </tr>\n",
       "    <tr>\n",
       "      <th>2022-01-04</th>\n",
       "      <td>115.300003</td>\n",
       "      <td>115.970001</td>\n",
       "      <td>113.650002</td>\n",
       "      <td>114.879997</td>\n",
       "      <td>105.553398</td>\n",
       "      <td>59757310</td>\n",
       "    </tr>\n",
       "    <tr>\n",
       "      <th>2022-01-05</th>\n",
       "      <td>114.699997</td>\n",
       "      <td>118.080002</td>\n",
       "      <td>114.125000</td>\n",
       "      <td>117.760002</td>\n",
       "      <td>108.199585</td>\n",
       "      <td>61861760</td>\n",
       "    </tr>\n",
       "    <tr>\n",
       "      <th>2022-01-06</th>\n",
       "      <td>117.199997</td>\n",
       "      <td>118.300003</td>\n",
       "      <td>115.555000</td>\n",
       "      <td>116.324997</td>\n",
       "      <td>106.881081</td>\n",
       "      <td>53354000</td>\n",
       "    </tr>\n",
       "    <tr>\n",
       "      <th>2022-01-07</th>\n",
       "      <td>116.519997</td>\n",
       "      <td>117.400002</td>\n",
       "      <td>114.785004</td>\n",
       "      <td>116.035004</td>\n",
       "      <td>106.614632</td>\n",
       "      <td>39738570</td>\n",
       "    </tr>\n",
       "    <tr>\n",
       "      <th>...</th>\n",
       "      <td>...</td>\n",
       "      <td>...</td>\n",
       "      <td>...</td>\n",
       "      <td>...</td>\n",
       "      <td>...</td>\n",
       "      <td>...</td>\n",
       "    </tr>\n",
       "    <tr>\n",
       "      <th>2023-04-28</th>\n",
       "      <td>107.800003</td>\n",
       "      <td>108.500000</td>\n",
       "      <td>107.300003</td>\n",
       "      <td>107.949997</td>\n",
       "      <td>104.538055</td>\n",
       "      <td>30072920</td>\n",
       "    </tr>\n",
       "    <tr>\n",
       "      <th>2023-05-02</th>\n",
       "      <td>108.000000</td>\n",
       "      <td>110.849998</td>\n",
       "      <td>108.000000</td>\n",
       "      <td>110.300003</td>\n",
       "      <td>106.813789</td>\n",
       "      <td>52822162</td>\n",
       "    </tr>\n",
       "    <tr>\n",
       "      <th>2023-05-03</th>\n",
       "      <td>109.800003</td>\n",
       "      <td>111.000000</td>\n",
       "      <td>108.750000</td>\n",
       "      <td>109.699997</td>\n",
       "      <td>106.232742</td>\n",
       "      <td>51272624</td>\n",
       "    </tr>\n",
       "    <tr>\n",
       "      <th>2023-05-04</th>\n",
       "      <td>110.000000</td>\n",
       "      <td>111.900002</td>\n",
       "      <td>109.500000</td>\n",
       "      <td>111.050003</td>\n",
       "      <td>107.540085</td>\n",
       "      <td>38636907</td>\n",
       "    </tr>\n",
       "    <tr>\n",
       "      <th>2023-05-05</th>\n",
       "      <td>110.849998</td>\n",
       "      <td>110.849998</td>\n",
       "      <td>108.400002</td>\n",
       "      <td>108.650002</td>\n",
       "      <td>105.215935</td>\n",
       "      <td>32958346</td>\n",
       "    </tr>\n",
       "  </tbody>\n",
       "</table>\n",
       "<p>331 rows × 6 columns</p>\n",
       "</div>"
      ],
      "text/plain": [
       "                  Open        High         Low       Close   Adj Close  \\\n",
       "Date                                                                     \n",
       "2022-01-03  111.500000  115.099998  111.500000  114.245003  104.969955   \n",
       "2022-01-04  115.300003  115.970001  113.650002  114.879997  105.553398   \n",
       "2022-01-05  114.699997  118.080002  114.125000  117.760002  108.199585   \n",
       "2022-01-06  117.199997  118.300003  115.555000  116.324997  106.881081   \n",
       "2022-01-07  116.519997  117.400002  114.785004  116.035004  106.614632   \n",
       "...                ...         ...         ...         ...         ...   \n",
       "2023-04-28  107.800003  108.500000  107.300003  107.949997  104.538055   \n",
       "2023-05-02  108.000000  110.849998  108.000000  110.300003  106.813789   \n",
       "2023-05-03  109.800003  111.000000  108.750000  109.699997  106.232742   \n",
       "2023-05-04  110.000000  111.900002  109.500000  111.050003  107.540085   \n",
       "2023-05-05  110.849998  110.849998  108.400002  108.650002  105.215935   \n",
       "\n",
       "              Volume  \n",
       "Date                  \n",
       "2022-01-03  38658030  \n",
       "2022-01-04  59757310  \n",
       "2022-01-05  61861760  \n",
       "2022-01-06  53354000  \n",
       "2022-01-07  39738570  \n",
       "...              ...  \n",
       "2023-04-28  30072920  \n",
       "2023-05-02  52822162  \n",
       "2023-05-03  51272624  \n",
       "2023-05-04  38636907  \n",
       "2023-05-05  32958346  \n",
       "\n",
       "[331 rows x 6 columns]"
      ]
     },
     "execution_count": 65,
     "metadata": {},
     "output_type": "execute_result"
    }
   ],
   "source": [
    "df"
   ]
  },
  {
   "cell_type": "code",
   "execution_count": 66,
   "metadata": {},
   "outputs": [
    {
     "data": {
      "text/html": [
       "<div>\n",
       "<style scoped>\n",
       "    .dataframe tbody tr th:only-of-type {\n",
       "        vertical-align: middle;\n",
       "    }\n",
       "\n",
       "    .dataframe tbody tr th {\n",
       "        vertical-align: top;\n",
       "    }\n",
       "\n",
       "    .dataframe thead th {\n",
       "        text-align: right;\n",
       "    }\n",
       "</style>\n",
       "<table border=\"1\" class=\"dataframe\">\n",
       "  <thead>\n",
       "    <tr style=\"text-align: right;\">\n",
       "      <th></th>\n",
       "      <th>Open</th>\n",
       "      <th>High</th>\n",
       "      <th>Low</th>\n",
       "      <th>Close</th>\n",
       "      <th>Adj Close</th>\n",
       "      <th>Volume</th>\n",
       "    </tr>\n",
       "    <tr>\n",
       "      <th>Date</th>\n",
       "      <th></th>\n",
       "      <th></th>\n",
       "      <th></th>\n",
       "      <th></th>\n",
       "      <th></th>\n",
       "      <th></th>\n",
       "    </tr>\n",
       "  </thead>\n",
       "  <tbody>\n",
       "    <tr>\n",
       "      <th>2022-01-03</th>\n",
       "      <td>111.500000</td>\n",
       "      <td>115.099998</td>\n",
       "      <td>111.500000</td>\n",
       "      <td>114.245003</td>\n",
       "      <td>104.969955</td>\n",
       "      <td>38658030</td>\n",
       "    </tr>\n",
       "    <tr>\n",
       "      <th>2022-01-04</th>\n",
       "      <td>115.300003</td>\n",
       "      <td>115.970001</td>\n",
       "      <td>113.650002</td>\n",
       "      <td>114.879997</td>\n",
       "      <td>105.553398</td>\n",
       "      <td>59757310</td>\n",
       "    </tr>\n",
       "    <tr>\n",
       "      <th>2022-01-05</th>\n",
       "      <td>114.699997</td>\n",
       "      <td>118.080002</td>\n",
       "      <td>114.125000</td>\n",
       "      <td>117.760002</td>\n",
       "      <td>108.199585</td>\n",
       "      <td>61861760</td>\n",
       "    </tr>\n",
       "    <tr>\n",
       "      <th>2022-01-06</th>\n",
       "      <td>117.199997</td>\n",
       "      <td>118.300003</td>\n",
       "      <td>115.555000</td>\n",
       "      <td>116.324997</td>\n",
       "      <td>106.881081</td>\n",
       "      <td>53354000</td>\n",
       "    </tr>\n",
       "    <tr>\n",
       "      <th>2022-01-07</th>\n",
       "      <td>116.519997</td>\n",
       "      <td>117.400002</td>\n",
       "      <td>114.785004</td>\n",
       "      <td>116.035004</td>\n",
       "      <td>106.614632</td>\n",
       "      <td>39738570</td>\n",
       "    </tr>\n",
       "  </tbody>\n",
       "</table>\n",
       "</div>"
      ],
      "text/plain": [
       "                  Open        High         Low       Close   Adj Close  \\\n",
       "Date                                                                     \n",
       "2022-01-03  111.500000  115.099998  111.500000  114.245003  104.969955   \n",
       "2022-01-04  115.300003  115.970001  113.650002  114.879997  105.553398   \n",
       "2022-01-05  114.699997  118.080002  114.125000  117.760002  108.199585   \n",
       "2022-01-06  117.199997  118.300003  115.555000  116.324997  106.881081   \n",
       "2022-01-07  116.519997  117.400002  114.785004  116.035004  106.614632   \n",
       "\n",
       "              Volume  \n",
       "Date                  \n",
       "2022-01-03  38658030  \n",
       "2022-01-04  59757310  \n",
       "2022-01-05  61861760  \n",
       "2022-01-06  53354000  \n",
       "2022-01-07  39738570  "
      ]
     },
     "execution_count": 66,
     "metadata": {},
     "output_type": "execute_result"
    }
   ],
   "source": [
    "df.head()"
   ]
  },
  {
   "cell_type": "code",
   "execution_count": 67,
   "metadata": {},
   "outputs": [
    {
     "data": {
      "text/html": [
       "<div>\n",
       "<style scoped>\n",
       "    .dataframe tbody tr th:only-of-type {\n",
       "        vertical-align: middle;\n",
       "    }\n",
       "\n",
       "    .dataframe tbody tr th {\n",
       "        vertical-align: top;\n",
       "    }\n",
       "\n",
       "    .dataframe thead th {\n",
       "        text-align: right;\n",
       "    }\n",
       "</style>\n",
       "<table border=\"1\" class=\"dataframe\">\n",
       "  <thead>\n",
       "    <tr style=\"text-align: right;\">\n",
       "      <th></th>\n",
       "      <th>Open</th>\n",
       "      <th>High</th>\n",
       "      <th>Low</th>\n",
       "      <th>Close</th>\n",
       "      <th>Adj Close</th>\n",
       "      <th>Volume</th>\n",
       "    </tr>\n",
       "    <tr>\n",
       "      <th>Date</th>\n",
       "      <th></th>\n",
       "      <th></th>\n",
       "      <th></th>\n",
       "      <th></th>\n",
       "      <th></th>\n",
       "      <th></th>\n",
       "    </tr>\n",
       "  </thead>\n",
       "  <tbody>\n",
       "    <tr>\n",
       "      <th>2023-04-28</th>\n",
       "      <td>107.800003</td>\n",
       "      <td>108.500000</td>\n",
       "      <td>107.300003</td>\n",
       "      <td>107.949997</td>\n",
       "      <td>104.538055</td>\n",
       "      <td>30072920</td>\n",
       "    </tr>\n",
       "    <tr>\n",
       "      <th>2023-05-02</th>\n",
       "      <td>108.000000</td>\n",
       "      <td>110.849998</td>\n",
       "      <td>108.000000</td>\n",
       "      <td>110.300003</td>\n",
       "      <td>106.813789</td>\n",
       "      <td>52822162</td>\n",
       "    </tr>\n",
       "    <tr>\n",
       "      <th>2023-05-03</th>\n",
       "      <td>109.800003</td>\n",
       "      <td>111.000000</td>\n",
       "      <td>108.750000</td>\n",
       "      <td>109.699997</td>\n",
       "      <td>106.232742</td>\n",
       "      <td>51272624</td>\n",
       "    </tr>\n",
       "    <tr>\n",
       "      <th>2023-05-04</th>\n",
       "      <td>110.000000</td>\n",
       "      <td>111.900002</td>\n",
       "      <td>109.500000</td>\n",
       "      <td>111.050003</td>\n",
       "      <td>107.540085</td>\n",
       "      <td>38636907</td>\n",
       "    </tr>\n",
       "    <tr>\n",
       "      <th>2023-05-05</th>\n",
       "      <td>110.849998</td>\n",
       "      <td>110.849998</td>\n",
       "      <td>108.400002</td>\n",
       "      <td>108.650002</td>\n",
       "      <td>105.215935</td>\n",
       "      <td>32958346</td>\n",
       "    </tr>\n",
       "  </tbody>\n",
       "</table>\n",
       "</div>"
      ],
      "text/plain": [
       "                  Open        High         Low       Close   Adj Close  \\\n",
       "Date                                                                     \n",
       "2023-04-28  107.800003  108.500000  107.300003  107.949997  104.538055   \n",
       "2023-05-02  108.000000  110.849998  108.000000  110.300003  106.813789   \n",
       "2023-05-03  109.800003  111.000000  108.750000  109.699997  106.232742   \n",
       "2023-05-04  110.000000  111.900002  109.500000  111.050003  107.540085   \n",
       "2023-05-05  110.849998  110.849998  108.400002  108.650002  105.215935   \n",
       "\n",
       "              Volume  \n",
       "Date                  \n",
       "2023-04-28  30072920  \n",
       "2023-05-02  52822162  \n",
       "2023-05-03  51272624  \n",
       "2023-05-04  38636907  \n",
       "2023-05-05  32958346  "
      ]
     },
     "execution_count": 67,
     "metadata": {},
     "output_type": "execute_result"
    }
   ],
   "source": [
    "df.tail()"
   ]
  },
  {
   "cell_type": "code",
   "execution_count": 68,
   "metadata": {},
   "outputs": [],
   "source": [
    "df1=df.reset_index()['Close']"
   ]
  },
  {
   "cell_type": "code",
   "execution_count": 69,
   "metadata": {},
   "outputs": [
    {
     "data": {
      "text/plain": [
       "0      114.245003\n",
       "1      114.879997\n",
       "2      117.760002\n",
       "3      116.324997\n",
       "4      116.035004\n",
       "          ...    \n",
       "326    107.949997\n",
       "327    110.300003\n",
       "328    109.699997\n",
       "329    111.050003\n",
       "330    108.650002\n",
       "Name: Close, Length: 331, dtype: float64"
      ]
     },
     "execution_count": 69,
     "metadata": {},
     "output_type": "execute_result"
    }
   ],
   "source": [
    "df1"
   ]
  },
  {
   "cell_type": "code",
   "execution_count": 70,
   "metadata": {},
   "outputs": [
    {
     "data": {
      "text/plain": [
       "(331,)"
      ]
     },
     "execution_count": 70,
     "metadata": {},
     "output_type": "execute_result"
    }
   ],
   "source": [
    "df1.shape"
   ]
  },
  {
   "cell_type": "code",
   "execution_count": 71,
   "metadata": {},
   "outputs": [
    {
     "data": {
      "text/plain": [
       "[<matplotlib.lines.Line2D at 0x20f1fd3bf10>]"
      ]
     },
     "execution_count": 71,
     "metadata": {},
     "output_type": "execute_result"
    },
    {
     "data": {
      "image/png": "[encoded data removed]",
      "text/plain": [
       "<Figure size 640x480 with 1 Axes>"
      ]
     },
     "metadata": {},
     "output_type": "display_data"
    }
   ],
   "source": [
    "import matplotlib.pyplot as plt\n",
    "plt.plot(df1)"
   ]
  },
  {
   "cell_type": "code",
   "execution_count": 72,
   "metadata": {},
   "outputs": [],
   "source": [
    "### LSTM are sensitive to the scale of the data. so we apply MinMax scaler "
   ]
  },
  {
   "cell_type": "code",
   "execution_count": 73,
   "metadata": {},
   "outputs": [],
   "source": [
    "import numpy as np"
   ]
  },
  {
   "cell_type": "code",
   "execution_count": 74,
   "metadata": {},
   "outputs": [
    {
     "data": {
      "text/plain": [
       "0      114.245003\n",
       "1      114.879997\n",
       "2      117.760002\n",
       "3      116.324997\n",
       "4      116.035004\n",
       "          ...    \n",
       "326    107.949997\n",
       "327    110.300003\n",
       "328    109.699997\n",
       "329    111.050003\n",
       "330    108.650002\n",
       "Name: Close, Length: 331, dtype: float64"
      ]
     },
     "execution_count": 74,
     "metadata": {},
     "output_type": "execute_result"
    }
   ],
   "source": [
    "df1"
   ]
  },
  {
   "cell_type": "code",
   "execution_count": 75,
   "metadata": {},
   "outputs": [],
   "source": [
    "from sklearn.preprocessing import MinMaxScaler\n",
    "scaler=MinMaxScaler(feature_range=(0,1))\n",
    "df1=scaler.fit_transform(np.array(df1).reshape(-1,1))"
   ]
  },
  {
   "cell_type": "code",
   "execution_count": 76,
   "metadata": {},
   "outputs": [
    {
     "name": "stdout",
     "output_type": "stream",
     "text": [
      "[[0.57138845]\n",
      " [0.58330987]\n",
      " [0.63737924]\n",
      " [0.61043837]\n",
      " [0.60499402]\n",
      " [0.62132736]\n",
      " [0.54848408]\n",
      " [0.58030609]\n",
      " [0.71914016]\n",
      " [0.7049658 ]\n",
      " [0.73528586]\n",
      " [0.66976445]\n",
      " [0.69745615]\n",
      " [0.69201166]\n",
      " [0.62254772]\n",
      " [0.49019057]\n",
      " [0.50877699]\n",
      " [0.46982074]\n",
      " [0.46287429]\n",
      " [0.46456403]\n",
      " [0.6181358 ]\n",
      " [0.6184174 ]\n",
      " [0.6167278 ]\n",
      " [0.63493852]\n",
      " [0.64751724]\n",
      " [0.71623021]\n",
      " [0.7213931 ]\n",
      " [0.77020561]\n",
      " [0.7816578 ]\n",
      " [0.65474515]\n",
      " [0.693983  ]\n",
      " [0.66403836]\n",
      " [0.66244258]\n",
      " [0.66216098]\n",
      " [0.64535812]\n",
      " [0.56434817]\n",
      " [0.56491137]\n",
      " [0.44288002]\n",
      " [0.57683294]\n",
      " [0.71838918]\n",
      " [0.84717921]\n",
      " [0.87336909]\n",
      " [0.82418102]\n",
      " [0.85196668]\n",
      " [0.8099127 ]\n",
      " [0.78334754]\n",
      " [0.88350696]\n",
      " [0.87036518]\n",
      " [0.86154135]\n",
      " [0.74279551]\n",
      " [0.80193381]\n",
      " [0.87365069]\n",
      " [0.87271193]\n",
      " [0.87092838]\n",
      " [0.92537331]\n",
      " [0.96207633]\n",
      " [0.94029864]\n",
      " [0.94029864]\n",
      " [0.93222565]\n",
      " [0.8822866 ]\n",
      " [0.88069096]\n",
      " [0.89927738]\n",
      " [0.94583696]\n",
      " [0.95146923]\n",
      " [1.        ]\n",
      " [0.96010513]\n",
      " [1.        ]\n",
      " [0.97587527]\n",
      " [0.90519097]\n",
      " [0.90378297]\n",
      " [0.94058024]\n",
      " [0.91711268]\n",
      " [0.89392671]\n",
      " [0.87120997]\n",
      " [0.82502582]\n",
      " [0.71763835]\n",
      " [0.74251391]\n",
      " [0.76710788]\n",
      " [0.79367318]\n",
      " [0.8128228 ]\n",
      " [0.85816216]\n",
      " [0.79461194]\n",
      " [0.83760454]\n",
      " [0.83657182]\n",
      " [0.77752748]\n",
      " [0.61353611]\n",
      " [0.61503806]\n",
      " [0.52492255]\n",
      " [0.48606026]\n",
      " [0.49826342]\n",
      " [0.65821845]\n",
      " [0.64235435]\n",
      " [0.53327699]\n",
      " [0.62423731]\n",
      " [0.34703841]\n",
      " [0.31587355]\n",
      " [0.30226239]\n",
      " [0.40157701]\n",
      " [0.3856191 ]\n",
      " [0.39303493]\n",
      " [0.40842965]\n",
      " [0.42326117]\n",
      " [0.45705438]\n",
      " [0.43030144]\n",
      " [0.45057731]\n",
      " [0.43255423]\n",
      " [0.46681697]\n",
      " [0.38815363]\n",
      " [0.34844655]\n",
      " [0.28883887]\n",
      " [0.29672394]\n",
      " [0.22801097]\n",
      " [0.119403  ]\n",
      " [0.12879003]\n",
      " [0.04374358]\n",
      " [0.08767494]\n",
      " [0.        ]\n",
      " [0.00600769]\n",
      " [0.02769184]\n",
      " [0.05585293]\n",
      " [0.07659818]\n",
      " [0.08166725]\n",
      " [0.05435097]\n",
      " [0.06523995]\n",
      " [0.0308834 ]\n",
      " [0.04139682]\n",
      " [0.03764207]\n",
      " [0.11621144]\n",
      " [0.08973996]\n",
      " [0.14014839]\n",
      " [0.12015398]\n",
      " [0.12531687]\n",
      " [0.13123074]\n",
      " [0.08579742]\n",
      " [0.12428429]\n",
      " [0.15272697]\n",
      " [0.16962365]\n",
      " [0.18060646]\n",
      " [0.18389197]\n",
      " [0.23016995]\n",
      " [0.20914296]\n",
      " [0.22772937]\n",
      " [0.31052288]\n",
      " [0.44663477]\n",
      " [0.45883794]\n",
      " [0.43537037]\n",
      " [0.43630913]\n",
      " [0.44851215]\n",
      " [0.44194126]\n",
      " [0.43912512]\n",
      " [0.47667323]\n",
      " [0.47479585]\n",
      " [0.54144381]\n",
      " [0.5480147 ]\n",
      " [0.53862767]\n",
      " [0.53956643]\n",
      " [0.49263129]\n",
      " [0.39876102]\n",
      " [0.44663477]\n",
      " [0.4269221 ]\n",
      " [0.42128983]\n",
      " [0.44194126]\n",
      " [0.39500612]\n",
      " [0.4597767 ]\n",
      " [0.42410597]\n",
      " [0.40720929]\n",
      " [0.43349299]\n",
      " [0.46540883]\n",
      " [0.44663477]\n",
      " [0.41378018]\n",
      " [0.41096404]\n",
      " [0.44945091]\n",
      " [0.44945091]\n",
      " [0.47573461]\n",
      " [0.43537037]\n",
      " [0.41096404]\n",
      " [0.36215153]\n",
      " [0.41284156]\n",
      " [0.38749647]\n",
      " [0.37153856]\n",
      " [0.38468048]\n",
      " [0.30113585]\n",
      " [0.25983299]\n",
      " [0.21383647]\n",
      " [0.24481369]\n",
      " [0.29081021]\n",
      " [0.27297477]\n",
      " [0.32554218]\n",
      " [0.37059994]\n",
      " [0.36590642]\n",
      " [0.3640289 ]\n",
      " [0.31052288]\n",
      " [0.31427777]\n",
      " [0.30582936]\n",
      " [0.30582936]\n",
      " [0.29550372]\n",
      " [0.31615515]\n",
      " [0.30489075]\n",
      " [0.32084867]\n",
      " [0.30770674]\n",
      " [0.3264808 ]\n",
      " [0.3264808 ]\n",
      " [0.38280296]\n",
      " [0.33399045]\n",
      " [0.33305183]\n",
      " [0.3264808 ]\n",
      " [0.32741956]\n",
      " [0.3415001 ]\n",
      " [0.39312875]\n",
      " [0.4297381 ]\n",
      " [0.41847369]\n",
      " [0.39218999]\n",
      " [0.44569616]\n",
      " [0.4672862 ]\n",
      " [0.46447021]\n",
      " [0.4269221 ]\n",
      " [0.41378018]\n",
      " [0.40720929]\n",
      " [0.38374172]\n",
      " [0.40157701]\n",
      " [0.40627053]\n",
      " [0.40720929]\n",
      " [0.42035107]\n",
      " [0.39594488]\n",
      " [0.41847369]\n",
      " [0.44757353]\n",
      " [0.50577307]\n",
      " [0.52924064]\n",
      " [0.60152072]\n",
      " [0.54707594]\n",
      " [0.51422134]\n",
      " [0.5264245 ]\n",
      " [0.5001408 ]\n",
      " [0.52360837]\n",
      " [0.51422134]\n",
      " [0.54895346]\n",
      " [0.50952783]\n",
      " [0.51140535]\n",
      " [0.52548589]\n",
      " [0.50952783]\n",
      " [0.48042813]\n",
      " [0.44757353]\n",
      " [0.34619361]\n",
      " [0.39782226]\n",
      " [0.51328272]\n",
      " [0.49169253]\n",
      " [0.52454713]\n",
      " [0.54144381]\n",
      " [0.66535254]\n",
      " [0.65033324]\n",
      " [0.59964335]\n",
      " [0.61466265]\n",
      " [0.59776597]\n",
      " [0.6334367 ]\n",
      " [0.65784289]\n",
      " [0.65784289]\n",
      " [0.64376235]\n",
      " [0.68788134]\n",
      " [0.67849432]\n",
      " [0.66722991]\n",
      " [0.72542945]\n",
      " [0.74608103]\n",
      " [0.73481648]\n",
      " [0.71698119]\n",
      " [0.68694273]\n",
      " [0.69820713]\n",
      " [0.69163624]\n",
      " [0.65596551]\n",
      " [0.6738008 ]\n",
      " [0.71791995]\n",
      " [0.67849432]\n",
      " [0.68600397]\n",
      " [0.63155918]\n",
      " [0.51891485]\n",
      " [0.51891485]\n",
      " [0.5151601 ]\n",
      " [0.46916372]\n",
      " [0.46822496]\n",
      " [0.47761199]\n",
      " [0.49732481]\n",
      " [0.52924064]\n",
      " [0.53393416]\n",
      " [0.53581153]\n",
      " [0.55083083]\n",
      " [0.51328272]\n",
      " [0.5301794 ]\n",
      " [0.48699902]\n",
      " [0.41847369]\n",
      " [0.37810945]\n",
      " [0.40720929]\n",
      " [0.39125137]\n",
      " [0.43537037]\n",
      " [0.41002542]\n",
      " [0.42598334]\n",
      " [0.45789918]\n",
      " [0.4560218 ]\n",
      " [0.43161562]\n",
      " [0.42410597]\n",
      " [0.46634759]\n",
      " [0.39876102]\n",
      " [0.43537037]\n",
      " [0.38843523]\n",
      " [0.39312875]\n",
      " [0.39406751]\n",
      " [0.39594488]\n",
      " [0.34337747]\n",
      " [0.34713237]\n",
      " [0.35088712]\n",
      " [0.37153856]\n",
      " [0.38843523]\n",
      " [0.38092558]\n",
      " [0.39500612]\n",
      " [0.3856191 ]\n",
      " [0.3968835 ]\n",
      " [0.44569616]\n",
      " [0.44663477]\n",
      " [0.4447574 ]\n",
      " [0.43818651]\n",
      " [0.44663477]\n",
      " [0.4560218 ]\n",
      " [0.45414442]\n",
      " [0.41941245]\n",
      " [0.42598334]\n",
      " [0.43630913]\n",
      " [0.43255423]\n",
      " [0.44757353]\n",
      " [0.45320566]\n",
      " [0.49732481]\n",
      " [0.48606026]\n",
      " [0.51140535]\n",
      " [0.46634759]]\n"
     ]
    }
   ],
   "source": [
    "print(df1)"
   ]
  },
  {
   "cell_type": "code",
   "execution_count": 77,
   "metadata": {},
   "outputs": [
    {
     "data": {
      "text/plain": [
       "(331, 1)"
      ]
     },
     "execution_count": 77,
     "metadata": {},
     "output_type": "execute_result"
    }
   ],
   "source": [
    "df1.shape"
   ]
  },
  {
   "cell_type": "code",
   "execution_count": 78,
   "metadata": {},
   "outputs": [],
   "source": [
    "##splitting dataset into train and test split\n",
    "training_size=int(len(df1)*0.65)\n",
    "test_size=len(df1)-training_size\n",
    "train_data,test_data=df1[0:training_size,:],df1[training_size:len(df1),:1]"
   ]
  },
  {
   "cell_type": "code",
   "execution_count": 79,
   "metadata": {},
   "outputs": [
    {
     "data": {
      "text/plain": [
       "(215, 116)"
      ]
     },
     "execution_count": 79,
     "metadata": {},
     "output_type": "execute_result"
    }
   ],
   "source": [
    "training_size,test_size"
   ]
  },
  {
   "cell_type": "code",
   "execution_count": 80,
   "metadata": {},
   "outputs": [
    {
     "data": {
      "text/plain": [
       "array([[0.4269221 ],\n",
       "       [0.41378018],\n",
       "       [0.40720929],\n",
       "       [0.38374172],\n",
       "       [0.40157701],\n",
       "       [0.40627053],\n",
       "       [0.40720929],\n",
       "       [0.42035107],\n",
       "       [0.39594488],\n",
       "       [0.41847369],\n",
       "       [0.44757353],\n",
       "       [0.50577307],\n",
       "       [0.52924064],\n",
       "       [0.60152072],\n",
       "       [0.54707594],\n",
       "       [0.51422134],\n",
       "       [0.5264245 ],\n",
       "       [0.5001408 ],\n",
       "       [0.52360837],\n",
       "       [0.51422134],\n",
       "       [0.54895346],\n",
       "       [0.50952783],\n",
       "       [0.51140535],\n",
       "       [0.52548589],\n",
       "       [0.50952783],\n",
       "       [0.48042813],\n",
       "       [0.44757353],\n",
       "       [0.34619361],\n",
       "       [0.39782226],\n",
       "       [0.51328272],\n",
       "       [0.49169253],\n",
       "       [0.52454713],\n",
       "       [0.54144381],\n",
       "       [0.66535254],\n",
       "       [0.65033324],\n",
       "       [0.59964335],\n",
       "       [0.61466265],\n",
       "       [0.59776597],\n",
       "       [0.6334367 ],\n",
       "       [0.65784289],\n",
       "       [0.65784289],\n",
       "       [0.64376235],\n",
       "       [0.68788134],\n",
       "       [0.67849432],\n",
       "       [0.66722991],\n",
       "       [0.72542945],\n",
       "       [0.74608103],\n",
       "       [0.73481648],\n",
       "       [0.71698119],\n",
       "       [0.68694273],\n",
       "       [0.69820713],\n",
       "       [0.69163624],\n",
       "       [0.65596551],\n",
       "       [0.6738008 ],\n",
       "       [0.71791995],\n",
       "       [0.67849432],\n",
       "       [0.68600397],\n",
       "       [0.63155918],\n",
       "       [0.51891485],\n",
       "       [0.51891485],\n",
       "       [0.5151601 ],\n",
       "       [0.46916372],\n",
       "       [0.46822496],\n",
       "       [0.47761199],\n",
       "       [0.49732481],\n",
       "       [0.52924064],\n",
       "       [0.53393416],\n",
       "       [0.53581153],\n",
       "       [0.55083083],\n",
       "       [0.51328272],\n",
       "       [0.5301794 ],\n",
       "       [0.48699902],\n",
       "       [0.41847369],\n",
       "       [0.37810945],\n",
       "       [0.40720929],\n",
       "       [0.39125137],\n",
       "       [0.43537037],\n",
       "       [0.41002542],\n",
       "       [0.42598334],\n",
       "       [0.45789918],\n",
       "       [0.4560218 ],\n",
       "       [0.43161562],\n",
       "       [0.42410597],\n",
       "       [0.46634759],\n",
       "       [0.39876102],\n",
       "       [0.43537037],\n",
       "       [0.38843523],\n",
       "       [0.39312875],\n",
       "       [0.39406751],\n",
       "       [0.39594488],\n",
       "       [0.34337747],\n",
       "       [0.34713237],\n",
       "       [0.35088712],\n",
       "       [0.37153856],\n",
       "       [0.38843523],\n",
       "       [0.38092558],\n",
       "       [0.39500612],\n",
       "       [0.3856191 ],\n",
       "       [0.3968835 ],\n",
       "       [0.44569616],\n",
       "       [0.44663477],\n",
       "       [0.4447574 ],\n",
       "       [0.43818651],\n",
       "       [0.44663477],\n",
       "       [0.4560218 ],\n",
       "       [0.45414442],\n",
       "       [0.41941245],\n",
       "       [0.42598334],\n",
       "       [0.43630913],\n",
       "       [0.43255423],\n",
       "       [0.44757353],\n",
       "       [0.45320566],\n",
       "       [0.49732481],\n",
       "       [0.48606026],\n",
       "       [0.51140535],\n",
       "       [0.46634759]])"
      ]
     },
     "execution_count": 80,
     "metadata": {},
     "output_type": "execute_result"
    }
   ],
   "source": [
    "test_data"
   ]
  },
  {
   "cell_type": "code",
   "execution_count": 81,
   "metadata": {},
   "outputs": [],
   "source": [
    "import numpy\n",
    "# convert an array of values into a dataset matrix\n",
    "def create_dataset(dataset, time_step=1):\n",
    "\tdataX, dataY = [], []\n",
    "\tfor i in range(len(dataset)-time_step-1):\n",
    "\t\ta = dataset[i:(i+time_step), 0]   ###i=0, 0,1,2,3-----99   100 \n",
    "\t\tdataX.append(a)\n",
    "\t\tdataY.append(dataset[i + time_step, 0])\n",
    "\treturn numpy.array(dataX), numpy.array(dataY)"
   ]
  },
  {
   "cell_type": "code",
   "execution_count": 82,
   "metadata": {},
   "outputs": [],
   "source": [
    "# reshape into X=t,t+1,t+2,t+3 and Y=t+4\n",
    "time_step = 5\n",
    "X_train, y_train = create_dataset(train_data, time_step)\n",
    "X_test, ytest = create_dataset(test_data, time_step)"
   ]
  },
  {
   "cell_type": "code",
   "execution_count": 83,
   "metadata": {},
   "outputs": [
    {
     "data": {
      "text/plain": [
       "array([0.40627053, 0.40720929, 0.42035107, 0.39594488, 0.41847369,\n",
       "       0.44757353, 0.50577307, 0.52924064, 0.60152072, 0.54707594,\n",
       "       0.51422134, 0.5264245 , 0.5001408 , 0.52360837, 0.51422134,\n",
       "       0.54895346, 0.50952783, 0.51140535, 0.52548589, 0.50952783,\n",
       "       0.48042813, 0.44757353, 0.34619361, 0.39782226, 0.51328272,\n",
       "       0.49169253, 0.52454713, 0.54144381, 0.66535254, 0.65033324,\n",
       "       0.59964335, 0.61466265, 0.59776597, 0.6334367 , 0.65784289,\n",
       "       0.65784289, 0.64376235, 0.68788134, 0.67849432, 0.66722991,\n",
       "       0.72542945, 0.74608103, 0.73481648, 0.71698119, 0.68694273,\n",
       "       0.69820713, 0.69163624, 0.65596551, 0.6738008 , 0.71791995,\n",
       "       0.67849432, 0.68600397, 0.63155918, 0.51891485, 0.51891485,\n",
       "       0.5151601 , 0.46916372, 0.46822496, 0.47761199, 0.49732481,\n",
       "       0.52924064, 0.53393416, 0.53581153, 0.55083083, 0.51328272,\n",
       "       0.5301794 , 0.48699902, 0.41847369, 0.37810945, 0.40720929,\n",
       "       0.39125137, 0.43537037, 0.41002542, 0.42598334, 0.45789918,\n",
       "       0.4560218 , 0.43161562, 0.42410597, 0.46634759, 0.39876102,\n",
       "       0.43537037, 0.38843523, 0.39312875, 0.39406751, 0.39594488,\n",
       "       0.34337747, 0.34713237, 0.35088712, 0.37153856, 0.38843523,\n",
       "       0.38092558, 0.39500612, 0.3856191 , 0.3968835 , 0.44569616,\n",
       "       0.44663477, 0.4447574 , 0.43818651, 0.44663477, 0.4560218 ,\n",
       "       0.45414442, 0.41941245, 0.42598334, 0.43630913, 0.43255423,\n",
       "       0.44757353, 0.45320566, 0.49732481, 0.48606026, 0.51140535])"
      ]
     },
     "execution_count": 83,
     "metadata": {},
     "output_type": "execute_result"
    }
   ],
   "source": [
    "ytest"
   ]
  },
  {
   "cell_type": "code",
   "execution_count": 84,
   "metadata": {},
   "outputs": [
    {
     "name": "stdout",
     "output_type": "stream",
     "text": [
      "(209, 5)\n",
      "(209,)\n"
     ]
    },
    {
     "data": {
      "text/plain": [
       "(None, None)"
      ]
     },
     "execution_count": 84,
     "metadata": {},
     "output_type": "execute_result"
    }
   ],
   "source": [
    "print(X_train.shape), print(y_train.shape)"
   ]
  },
  {
   "cell_type": "code",
   "execution_count": 85,
   "metadata": {},
   "outputs": [
    {
     "name": "stdout",
     "output_type": "stream",
     "text": [
      "(110, 5)\n",
      "(110,)\n"
     ]
    },
    {
     "data": {
      "text/plain": [
       "(None, None)"
      ]
     },
     "execution_count": 85,
     "metadata": {},
     "output_type": "execute_result"
    }
   ],
   "source": [
    "print(X_test.shape), print(ytest.shape)"
   ]
  },
  {
   "cell_type": "code",
   "execution_count": 86,
   "metadata": {},
   "outputs": [],
   "source": [
    "# reshape input to be [samples, time steps, features] which is required for LSTM\n",
    "X_train =X_train.reshape(X_train.shape[0],X_train.shape[1] , 1)\n",
    "X_test = X_test.reshape(X_test.shape[0],X_test.shape[1] , 1)"
   ]
  },
  {
   "cell_type": "code",
   "execution_count": 87,
   "metadata": {},
   "outputs": [
    {
     "name": "stdout",
     "output_type": "stream",
     "text": [
      "(110, 5, 1)\n",
      "(110,)\n"
     ]
    },
    {
     "data": {
      "text/plain": [
       "(None, None)"
      ]
     },
     "execution_count": 87,
     "metadata": {},
     "output_type": "execute_result"
    }
   ],
   "source": [
    "print(X_test.shape), print(ytest.shape)"
   ]
  },
  {
   "cell_type": "code",
   "execution_count": 48,
   "metadata": {},
   "outputs": [],
   "source": [
    "### Create the Stacked LSTM model\n",
    "from tensorflow.keras.models import Sequential\n",
    "from tensorflow.keras.layers import Dense\n",
    "from tensorflow.keras.layers import LSTM"
   ]
  },
  {
   "cell_type": "code",
   "execution_count": 50,
   "metadata": {},
   "outputs": [],
   "source": [
    "model=Sequential()\n",
    "model.add(LSTM(50,return_sequences=True,input_shape=(time_step,1)))\n",
    "model.add(LSTM(50,return_sequences=True))\n",
    "model.add(LSTM(50))\n",
    "model.add(Dense(1))\n",
    "model.compile(loss='mean_squared_error',optimizer='adam')\n"
   ]
  },
  {
   "cell_type": "code",
   "execution_count": 88,
   "metadata": {},
   "outputs": [
    {
     "name": "stdout",
     "output_type": "stream",
     "text": [
      "Model: \"sequential\"\n",
      "_________________________________________________________________\n",
      " Layer (type)                Output Shape              Param #   \n",
      "=================================================================\n",
      " lstm (LSTM)                 (None, 5, 50)             10400     \n",
      "                                                                 \n",
      " lstm_1 (LSTM)               (None, 5, 50)             20200     \n",
      "                                                                 \n",
      " lstm_2 (LSTM)               (None, 50)                20200     \n",
      "                                                                 \n",
      " dense (Dense)               (None, 1)                 51        \n",
      "                                                                 \n",
      "=================================================================\n",
      "Total params: 50,851\n",
      "Trainable params: 50,851\n",
      "Non-trainable params: 0\n",
      "_________________________________________________________________\n"
     ]
    }
   ],
   "source": [
    "model.summary()"
   ]
  },
  {
   "cell_type": "code",
   "execution_count": 52,
   "metadata": {},
   "outputs": [
    {
     "name": "stdout",
     "output_type": "stream",
     "text": [
      "Epoch 1/100\n",
      "4/4 [==============================] - 11s 662ms/step - loss: 0.3037 - val_loss: 0.2088\n",
      "Epoch 2/100\n",
      "4/4 [==============================] - 0s 25ms/step - loss: 0.2325 - val_loss: 0.1380\n",
      "Epoch 3/100\n",
      "4/4 [==============================] - 0s 20ms/step - loss: 0.1510 - val_loss: 0.0579\n",
      "Epoch 4/100\n",
      "4/4 [==============================] - 0s 18ms/step - loss: 0.0649 - val_loss: 0.0052\n",
      "Epoch 5/100\n",
      "4/4 [==============================] - 0s 23ms/step - loss: 0.0316 - val_loss: 0.0424\n",
      "Epoch 6/100\n",
      "4/4 [==============================] - 0s 25ms/step - loss: 0.0519 - val_loss: 0.0157\n",
      "Epoch 7/100\n",
      "4/4 [==============================] - 0s 19ms/step - loss: 0.0269 - val_loss: 0.0052\n",
      "Epoch 8/100\n",
      "4/4 [==============================] - 0s 19ms/step - loss: 0.0253 - val_loss: 0.0085\n",
      "Epoch 9/100\n",
      "4/4 [==============================] - 0s 23ms/step - loss: 0.0273 - val_loss: 0.0066\n",
      "Epoch 10/100\n",
      "4/4 [==============================] - 0s 23ms/step - loss: 0.0218 - val_loss: 0.0045\n",
      "Epoch 11/100\n",
      "4/4 [==============================] - 0s 19ms/step - loss: 0.0181 - val_loss: 0.0079\n",
      "Epoch 12/100\n",
      "4/4 [==============================] - 0s 24ms/step - loss: 0.0198 - val_loss: 0.0076\n",
      "Epoch 13/100\n",
      "4/4 [==============================] - 0s 20ms/step - loss: 0.0165 - val_loss: 0.0040\n",
      "Epoch 14/100\n",
      "4/4 [==============================] - 0s 18ms/step - loss: 0.0139 - val_loss: 0.0042\n",
      "Epoch 15/100\n",
      "4/4 [==============================] - 0s 29ms/step - loss: 0.0133 - val_loss: 0.0039\n",
      "Epoch 16/100\n",
      "4/4 [==============================] - 0s 26ms/step - loss: 0.0117 - val_loss: 0.0037\n",
      "Epoch 17/100\n",
      "4/4 [==============================] - 0s 25ms/step - loss: 0.0109 - val_loss: 0.0037\n",
      "Epoch 18/100\n",
      "4/4 [==============================] - 0s 22ms/step - loss: 0.0104 - val_loss: 0.0038\n",
      "Epoch 19/100\n",
      "4/4 [==============================] - 0s 22ms/step - loss: 0.0100 - val_loss: 0.0038\n",
      "Epoch 20/100\n",
      "4/4 [==============================] - 0s 24ms/step - loss: 0.0098 - val_loss: 0.0043\n",
      "Epoch 21/100\n",
      "4/4 [==============================] - 0s 26ms/step - loss: 0.0098 - val_loss: 0.0041\n",
      "Epoch 22/100\n",
      "4/4 [==============================] - 0s 26ms/step - loss: 0.0098 - val_loss: 0.0041\n",
      "Epoch 23/100\n",
      "4/4 [==============================] - 0s 25ms/step - loss: 0.0100 - val_loss: 0.0040\n",
      "Epoch 24/100\n",
      "4/4 [==============================] - 0s 22ms/step - loss: 0.0097 - val_loss: 0.0049\n",
      "Epoch 25/100\n",
      "4/4 [==============================] - 0s 22ms/step - loss: 0.0101 - val_loss: 0.0052\n",
      "Epoch 26/100\n",
      "4/4 [==============================] - 0s 22ms/step - loss: 0.0099 - val_loss: 0.0041\n",
      "Epoch 27/100\n",
      "4/4 [==============================] - 0s 23ms/step - loss: 0.0098 - val_loss: 0.0039\n",
      "Epoch 28/100\n",
      "4/4 [==============================] - 0s 25ms/step - loss: 0.0097 - val_loss: 0.0045\n",
      "Epoch 29/100\n",
      "4/4 [==============================] - 0s 26ms/step - loss: 0.0097 - val_loss: 0.0047\n",
      "Epoch 30/100\n",
      "4/4 [==============================] - 0s 19ms/step - loss: 0.0098 - val_loss: 0.0042\n",
      "Epoch 31/100\n",
      "4/4 [==============================] - 0s 22ms/step - loss: 0.0098 - val_loss: 0.0039\n",
      "Epoch 32/100\n",
      "4/4 [==============================] - 0s 24ms/step - loss: 0.0099 - val_loss: 0.0042\n",
      "Epoch 33/100\n",
      "4/4 [==============================] - 0s 25ms/step - loss: 0.0096 - val_loss: 0.0049\n",
      "Epoch 34/100\n",
      "4/4 [==============================] - 0s 22ms/step - loss: 0.0098 - val_loss: 0.0040\n",
      "Epoch 35/100\n",
      "4/4 [==============================] - 0s 18ms/step - loss: 0.0095 - val_loss: 0.0038\n",
      "Epoch 36/100\n",
      "4/4 [==============================] - 0s 23ms/step - loss: 0.0097 - val_loss: 0.0039\n",
      "Epoch 37/100\n",
      "4/4 [==============================] - 0s 27ms/step - loss: 0.0095 - val_loss: 0.0042\n",
      "Epoch 38/100\n",
      "4/4 [==============================] - 0s 31ms/step - loss: 0.0095 - val_loss: 0.0042\n",
      "Epoch 39/100\n",
      "4/4 [==============================] - 0s 18ms/step - loss: 0.0095 - val_loss: 0.0044\n",
      "Epoch 40/100\n",
      "4/4 [==============================] - 0s 18ms/step - loss: 0.0096 - val_loss: 0.0040\n",
      "Epoch 41/100\n",
      "4/4 [==============================] - 0s 24ms/step - loss: 0.0096 - val_loss: 0.0043\n",
      "Epoch 42/100\n",
      "4/4 [==============================] - 0s 25ms/step - loss: 0.0094 - val_loss: 0.0039\n",
      "Epoch 43/100\n",
      "4/4 [==============================] - 0s 20ms/step - loss: 0.0095 - val_loss: 0.0039\n",
      "Epoch 44/100\n",
      "4/4 [==============================] - 0s 18ms/step - loss: 0.0096 - val_loss: 0.0041\n",
      "Epoch 45/100\n",
      "4/4 [==============================] - 0s 23ms/step - loss: 0.0095 - val_loss: 0.0040\n",
      "Epoch 46/100\n",
      "4/4 [==============================] - 0s 24ms/step - loss: 0.0096 - val_loss: 0.0038\n",
      "Epoch 47/100\n",
      "4/4 [==============================] - 0s 25ms/step - loss: 0.0097 - val_loss: 0.0039\n",
      "Epoch 48/100\n",
      "4/4 [==============================] - 0s 23ms/step - loss: 0.0094 - val_loss: 0.0041\n",
      "Epoch 49/100\n",
      "4/4 [==============================] - 0s 18ms/step - loss: 0.0094 - val_loss: 0.0039\n",
      "Epoch 50/100\n",
      "4/4 [==============================] - 0s 24ms/step - loss: 0.0093 - val_loss: 0.0040\n",
      "Epoch 51/100\n",
      "4/4 [==============================] - 0s 25ms/step - loss: 0.0093 - val_loss: 0.0040\n",
      "Epoch 52/100\n",
      "4/4 [==============================] - 0s 25ms/step - loss: 0.0093 - val_loss: 0.0040\n",
      "Epoch 53/100\n",
      "4/4 [==============================] - 0s 18ms/step - loss: 0.0095 - val_loss: 0.0039\n",
      "Epoch 54/100\n",
      "4/4 [==============================] - 0s 19ms/step - loss: 0.0094 - val_loss: 0.0041\n",
      "Epoch 55/100\n",
      "4/4 [==============================] - 0s 23ms/step - loss: 0.0095 - val_loss: 0.0037\n",
      "Epoch 56/100\n",
      "4/4 [==============================] - 0s 24ms/step - loss: 0.0094 - val_loss: 0.0041\n",
      "Epoch 57/100\n",
      "4/4 [==============================] - 0s 25ms/step - loss: 0.0093 - val_loss: 0.0044\n",
      "Epoch 58/100\n",
      "4/4 [==============================] - 0s 19ms/step - loss: 0.0094 - val_loss: 0.0040\n",
      "Epoch 59/100\n",
      "4/4 [==============================] - 0s 22ms/step - loss: 0.0092 - val_loss: 0.0037\n",
      "Epoch 60/100\n",
      "4/4 [==============================] - 0s 25ms/step - loss: 0.0093 - val_loss: 0.0040\n",
      "Epoch 61/100\n",
      "4/4 [==============================] - 0s 34ms/step - loss: 0.0093 - val_loss: 0.0039\n",
      "Epoch 62/100\n",
      "4/4 [==============================] - 0s 25ms/step - loss: 0.0091 - val_loss: 0.0037\n",
      "Epoch 63/100\n",
      "4/4 [==============================] - 0s 22ms/step - loss: 0.0095 - val_loss: 0.0038\n",
      "Epoch 64/100\n",
      "4/4 [==============================] - 0s 24ms/step - loss: 0.0092 - val_loss: 0.0045\n",
      "Epoch 65/100\n",
      "4/4 [==============================] - 0s 22ms/step - loss: 0.0093 - val_loss: 0.0040\n",
      "Epoch 66/100\n",
      "4/4 [==============================] - 0s 18ms/step - loss: 0.0092 - val_loss: 0.0041\n",
      "Epoch 67/100\n",
      "4/4 [==============================] - 0s 23ms/step - loss: 0.0091 - val_loss: 0.0042\n",
      "Epoch 68/100\n",
      "4/4 [==============================] - 0s 25ms/step - loss: 0.0092 - val_loss: 0.0039\n",
      "Epoch 69/100\n",
      "4/4 [==============================] - 0s 24ms/step - loss: 0.0091 - val_loss: 0.0040\n",
      "Epoch 70/100\n",
      "4/4 [==============================] - 0s 19ms/step - loss: 0.0093 - val_loss: 0.0042\n",
      "Epoch 71/100\n",
      "4/4 [==============================] - 0s 23ms/step - loss: 0.0090 - val_loss: 0.0037\n",
      "Epoch 72/100\n",
      "4/4 [==============================] - 0s 25ms/step - loss: 0.0093 - val_loss: 0.0037\n",
      "Epoch 73/100\n",
      "4/4 [==============================] - 0s 25ms/step - loss: 0.0090 - val_loss: 0.0042\n",
      "Epoch 74/100\n",
      "4/4 [==============================] - 0s 19ms/step - loss: 0.0091 - val_loss: 0.0039\n",
      "Epoch 75/100\n",
      "4/4 [==============================] - 0s 22ms/step - loss: 0.0090 - val_loss: 0.0037\n",
      "Epoch 76/100\n",
      "4/4 [==============================] - 0s 24ms/step - loss: 0.0091 - val_loss: 0.0039\n",
      "Epoch 77/100\n",
      "4/4 [==============================] - 0s 25ms/step - loss: 0.0090 - val_loss: 0.0038\n",
      "Epoch 78/100\n",
      "4/4 [==============================] - 0s 19ms/step - loss: 0.0092 - val_loss: 0.0036\n",
      "Epoch 79/100\n",
      "4/4 [==============================] - 0s 18ms/step - loss: 0.0090 - val_loss: 0.0042\n",
      "Epoch 80/100\n",
      "4/4 [==============================] - 0s 23ms/step - loss: 0.0090 - val_loss: 0.0036\n",
      "Epoch 81/100\n",
      "4/4 [==============================] - 0s 25ms/step - loss: 0.0089 - val_loss: 0.0036\n",
      "Epoch 82/100\n",
      "4/4 [==============================] - 0s 28ms/step - loss: 0.0089 - val_loss: 0.0037\n",
      "Epoch 83/100\n",
      "4/4 [==============================] - 0s 20ms/step - loss: 0.0088 - val_loss: 0.0036\n",
      "Epoch 84/100\n",
      "4/4 [==============================] - 0s 22ms/step - loss: 0.0089 - val_loss: 0.0036\n",
      "Epoch 85/100\n",
      "4/4 [==============================] - 0s 24ms/step - loss: 0.0092 - val_loss: 0.0040\n",
      "Epoch 86/100\n",
      "4/4 [==============================] - 0s 21ms/step - loss: 0.0090 - val_loss: 0.0036\n",
      "Epoch 87/100\n",
      "4/4 [==============================] - 0s 20ms/step - loss: 0.0088 - val_loss: 0.0042\n",
      "Epoch 88/100\n",
      "4/4 [==============================] - 0s 21ms/step - loss: 0.0088 - val_loss: 0.0036\n",
      "Epoch 89/100\n",
      "4/4 [==============================] - 0s 28ms/step - loss: 0.0090 - val_loss: 0.0036\n",
      "Epoch 90/100\n",
      "4/4 [==============================] - 0s 25ms/step - loss: 0.0088 - val_loss: 0.0039\n",
      "Epoch 91/100\n",
      "4/4 [==============================] - 0s 24ms/step - loss: 0.0088 - val_loss: 0.0035\n",
      "Epoch 92/100\n",
      "4/4 [==============================] - 0s 22ms/step - loss: 0.0089 - val_loss: 0.0041\n",
      "Epoch 93/100\n",
      "4/4 [==============================] - 0s 25ms/step - loss: 0.0088 - val_loss: 0.0035\n",
      "Epoch 94/100\n",
      "4/4 [==============================] - 0s 22ms/step - loss: 0.0086 - val_loss: 0.0035\n",
      "Epoch 95/100\n",
      "4/4 [==============================] - 0s 24ms/step - loss: 0.0086 - val_loss: 0.0036\n",
      "Epoch 96/100\n",
      "4/4 [==============================] - 0s 25ms/step - loss: 0.0086 - val_loss: 0.0035\n",
      "Epoch 97/100\n",
      "4/4 [==============================] - 0s 25ms/step - loss: 0.0085 - val_loss: 0.0038\n",
      "Epoch 98/100\n",
      "4/4 [==============================] - 0s 19ms/step - loss: 0.0085 - val_loss: 0.0034\n",
      "Epoch 99/100\n",
      "4/4 [==============================] - 0s 23ms/step - loss: 0.0085 - val_loss: 0.0034\n",
      "Epoch 100/100\n",
      "4/4 [==============================] - 0s 24ms/step - loss: 0.0084 - val_loss: 0.0035\n"
     ]
    },
    {
     "data": {
      "text/plain": [
       "<keras.callbacks.History at 0x20f156d6910>"
      ]
     },
     "execution_count": 52,
     "metadata": {},
     "output_type": "execute_result"
    }
   ],
   "source": [
    "model.fit(X_train,y_train,validation_data=(X_test,ytest),epochs=100,batch_size=64,verbose=1)"
   ]
  },
  {
   "cell_type": "code",
   "execution_count": 53,
   "metadata": {},
   "outputs": [],
   "source": [
    "import tensorflow as tf"
   ]
  },
  {
   "cell_type": "code",
   "execution_count": 54,
   "metadata": {},
   "outputs": [
    {
     "data": {
      "text/plain": [
       "'2.12.0-rc1'"
      ]
     },
     "execution_count": 54,
     "metadata": {},
     "output_type": "execute_result"
    }
   ],
   "source": [
    "tf.__version__"
   ]
  },
  {
   "cell_type": "code",
   "execution_count": 89,
   "metadata": {},
   "outputs": [
    {
     "name": "stdout",
     "output_type": "stream",
     "text": [
      "7/7 [==============================] - 0s 10ms/step\n",
      "4/4 [==============================] - 0s 6ms/step\n"
     ]
    }
   ],
   "source": [
    "### Lets Do the prediction and check performance metrics\n",
    "train_predict=model.predict(X_train)\n",
    "test_predict=model.predict(X_test)"
   ]
  },
  {
   "cell_type": "code",
   "execution_count": 90,
   "metadata": {},
   "outputs": [],
   "source": [
    "##Transformback to original form\n",
    "train_predict=scaler.inverse_transform(train_predict)\n",
    "test_predict=scaler.inverse_transform(test_predict)"
   ]
  },
  {
   "cell_type": "code",
   "execution_count": 91,
   "metadata": {},
   "outputs": [
    {
     "name": "stdout",
     "output_type": "stream",
     "text": [
      "(110, 5, 1)\n",
      "(110,)\n"
     ]
    },
    {
     "data": {
      "text/plain": [
       "(None, None)"
      ]
     },
     "execution_count": 91,
     "metadata": {},
     "output_type": "execute_result"
    }
   ],
   "source": [
    "print(X_test.shape), print(ytest.shape)"
   ]
  },
  {
   "cell_type": "code",
   "execution_count": 58,
   "metadata": {},
   "outputs": [
    {
     "data": {
      "text/plain": [
       "110.63471011093748"
      ]
     },
     "execution_count": 58,
     "metadata": {},
     "output_type": "execute_result"
    }
   ],
   "source": [
    "### Calculate RMSE performance metrics\n",
    "import math\n",
    "from sklearn.metrics import mean_squared_error\n",
    "math.sqrt(mean_squared_error(y_train,train_predict))"
   ]
  },
  {
   "cell_type": "code",
   "execution_count": 59,
   "metadata": {},
   "outputs": [
    {
     "data": {
      "text/plain": [
       "109.78529915041665"
      ]
     },
     "execution_count": 59,
     "metadata": {},
     "output_type": "execute_result"
    }
   ],
   "source": [
    "### Test Data RMSE\n",
    "math.sqrt(mean_squared_error(ytest,test_predict))"
   ]
  },
  {
   "cell_type": "code",
   "execution_count": 60,
   "metadata": {},
   "outputs": [
    {
     "data": {
      "image/png": "[encoded data removed]",
      "text/plain": [
       "<Figure size 640x480 with 1 Axes>"
      ]
     },
     "metadata": {},
     "output_type": "display_data"
    }
   ],
   "source": [
    "### Plotting \n",
    "# shift train predictions for plotting\n",
    "look_back=5\n",
    "trainPredictPlot = numpy.empty_like(df1)\n",
    "trainPredictPlot[:, :] = np.nan\n",
    "trainPredictPlot[look_back:len(train_predict)+look_back, :] = train_predict\n",
    "# shift test predictions for plotting\n",
    "testPredictPlot = numpy.empty_like(df1)\n",
    "testPredictPlot[:, :] = numpy.nan\n",
    "testPredictPlot[len(train_predict)+(look_back*2)+1:len(df1)-1, :] = test_predict\n",
    "# plot baseline and predictions\n",
    "plt.plot(scaler.inverse_transform(df1))\n",
    "plt.plot(trainPredictPlot)\n",
    "plt.plot(testPredictPlot)\n",
    "plt.show()"
   ]
  },
  {
   "cell_type": "code",
   "execution_count": 61,
   "metadata": {},
   "outputs": [
    {
     "data": {
      "text/plain": [
       "116"
      ]
     },
     "execution_count": 61,
     "metadata": {},
     "output_type": "execute_result"
    }
   ],
   "source": [
    "len(test_data)"
   ]
  },
  {
   "cell_type": "code",
   "execution_count": 106,
   "metadata": {},
   "outputs": [
    {
     "data": {
      "text/plain": [
       "111"
      ]
     },
     "execution_count": 106,
     "metadata": {},
     "output_type": "execute_result"
    }
   ],
   "source": [
    "116-5"
   ]
  },
  {
   "cell_type": "code",
   "execution_count": 95,
   "metadata": {},
   "outputs": [
    {
     "data": {
      "text/plain": [
       "(1, 5)"
      ]
     },
     "execution_count": 95,
     "metadata": {},
     "output_type": "execute_result"
    }
   ],
   "source": [
    "x_input=test_data[111:].reshape(1,-1)\n",
    "x_input.shape\n"
   ]
  },
  {
   "cell_type": "code",
   "execution_count": 96,
   "metadata": {},
   "outputs": [],
   "source": [
    "temp_input=list(x_input)\n",
    "temp_input=temp_input[0].tolist()"
   ]
  },
  {
   "cell_type": "code",
   "execution_count": 97,
   "metadata": {},
   "outputs": [
    {
     "data": {
      "text/plain": [
       "[0.4532056634987933,\n",
       " 0.49732480609606755,\n",
       " 0.486060258825046,\n",
       " 0.5114053469501756,\n",
       " 0.46634758757009553]"
      ]
     },
     "execution_count": 97,
     "metadata": {},
     "output_type": "execute_result"
    }
   ],
   "source": [
    "temp_input"
   ]
  },
  {
   "cell_type": "code",
   "execution_count": 98,
   "metadata": {},
   "outputs": [
    {
     "name": "stdout",
     "output_type": "stream",
     "text": [
      "[0.47429746]\n",
      "6\n",
      "1 day input [0.49732481 0.48606026 0.51140535 0.46634759 0.47429746]\n",
      "1 day output [[0.48207965]]\n",
      "2 day input [0.48606026 0.51140535 0.46634759 0.47429746 0.48207965]\n",
      "2 day output [[0.47766808]]\n",
      "3 day input [0.51140535 0.46634759 0.47429746 0.48207965 0.47766808]\n",
      "3 day output [[0.4756198]]\n",
      "4 day input [0.46634759 0.47429746 0.48207965 0.47766808 0.47561979]\n",
      "4 day output [[0.46678427]]\n",
      "5 day input [0.47429746 0.48207965 0.47766808 0.47561979 0.46678427]\n",
      "5 day output [[0.46888193]]\n",
      "6 day input [0.48207965 0.47766808 0.47561979 0.46678427 0.46888193]\n",
      "6 day output [[0.4681984]]\n",
      "7 day input [0.47766808 0.47561979 0.46678427 0.46888193 0.46819839]\n",
      "7 day output [[0.46496046]]\n",
      "8 day input [0.47561979 0.46678427 0.46888193 0.46819839 0.46496046]\n",
      "8 day output [[0.46236265]]\n",
      "9 day input [0.46678427 0.46888193 0.46819839 0.46496046 0.46236265]\n",
      "9 day output [[0.4597871]]\n",
      "[[0.4742974638938904], [0.4820796549320221], [0.47766807675361633], [0.4756197929382324], [0.46678426861763], [0.4688819348812103], [0.46819838881492615], [0.4649604558944702], [0.4623626470565796], [0.4597871005535126]]\n"
     ]
    }
   ],
   "source": [
    "# demonstrate prediction for next 10 days\n",
    "from numpy import array\n",
    "\n",
    "lst_output=[]\n",
    "n_steps=5\n",
    "i=0\n",
    "while(i<10):\n",
    "    \n",
    "    if(len(temp_input)>5):\n",
    "        #print(temp_input)\n",
    "        x_input=np.array(temp_input[1:])\n",
    "        print(\"{} day input {}\".format(i,x_input))\n",
    "        x_input=x_input.reshape(1,-1)\n",
    "        x_input = x_input.reshape((1, n_steps, 1))\n",
    "        #print(x_input)\n",
    "        yhat = model.predict(x_input, verbose=0)\n",
    "        print(\"{} day output {}\".format(i,yhat))\n",
    "        temp_input.extend(yhat[0].tolist())\n",
    "        temp_input=temp_input[1:]\n",
    "        #print(temp_input)\n",
    "        lst_output.extend(yhat.tolist())\n",
    "        i=i+1\n",
    "    else:\n",
    "        x_input = x_input.reshape((1, n_steps,1))\n",
    "        yhat = model.predict(x_input, verbose=0)\n",
    "        print(yhat[0])\n",
    "        temp_input.extend(yhat[0].tolist())\n",
    "        print(len(temp_input))\n",
    "        lst_output.extend(yhat.tolist())\n",
    "        i=i+1\n",
    "    \n",
    "\n",
    "print(lst_output)"
   ]
  },
  {
   "cell_type": "code",
   "execution_count": 99,
   "metadata": {},
   "outputs": [],
   "source": [
    "# day_new=np.arange(1,101)\n",
    "# day_pred=np.arange(101,131)\n",
    "day_new = np.arange(1, 6)\n",
    "day_pred = np.arange(6, 16)"
   ]
  },
  {
   "cell_type": "code",
   "execution_count": 100,
   "metadata": {},
   "outputs": [],
   "source": [
    "import matplotlib.pyplot as plt"
   ]
  },
  {
   "cell_type": "code",
   "execution_count": 101,
   "metadata": {},
   "outputs": [
    {
     "data": {
      "text/plain": [
       "331"
      ]
     },
     "execution_count": 101,
     "metadata": {},
     "output_type": "execute_result"
    }
   ],
   "source": [
    "len(df1)"
   ]
  },
  {
   "cell_type": "code",
   "execution_count": 107,
   "metadata": {},
   "outputs": [
    {
     "data": {
      "text/plain": [
       "326"
      ]
     },
     "execution_count": 107,
     "metadata": {},
     "output_type": "execute_result"
    }
   ],
   "source": [
    "331-5"
   ]
  },
  {
   "cell_type": "code",
   "execution_count": 102,
   "metadata": {},
   "outputs": [
    {
     "data": {
      "text/plain": [
       "[<matplotlib.lines.Line2D at 0x20f1fdcce90>]"
      ]
     },
     "execution_count": 102,
     "metadata": {},
     "output_type": "execute_result"
    },
    {
     "data": {
      "image/png": "[encoded data removed]",
      "text/plain": [
       "<Figure size 640x480 with 1 Axes>"
      ]
     },
     "metadata": {},
     "output_type": "display_data"
    }
   ],
   "source": [
    "plt.plot(day_new,scaler.inverse_transform(df1[326:]))\n",
    "plt.plot(day_pred,scaler.inverse_transform(lst_output))"
   ]
  },
  {
   "cell_type": "code",
   "execution_count": 103,
   "metadata": {},
   "outputs": [
    {
     "data": {
      "text/plain": [
       "[<matplotlib.lines.Line2D at 0x20f1fb29590>]"
      ]
     },
     "execution_count": 103,
     "metadata": {},
     "output_type": "execute_result"
    },
    {
     "data": {
      "image/png": "[encoded data removed]",
      "text/plain": [
       "<Figure size 640x480 with 1 Axes>"
      ]
     },
     "metadata": {},
     "output_type": "display_data"
    }
   ],
   "source": [
    "df3=df1.tolist()\n",
    "df3.extend(lst_output)\n",
    "plt.plot(df3[300:])"
   ]
  },
  {
   "cell_type": "code",
   "execution_count": 104,
   "metadata": {},
   "outputs": [],
   "source": [
    "df3=scaler.inverse_transform(df3).tolist()"
   ]
  },
  {
   "cell_type": "code",
   "execution_count": 105,
   "metadata": {},
   "outputs": [
    {
     "data": {
      "text/plain": [
       "[<matplotlib.lines.Line2D at 0x20f1fe95bd0>]"
      ]
     },
     "execution_count": 105,
     "metadata": {},
     "output_type": "execute_result"
    },
    {
     "data": {
      "image/png": "[encoded data removed]",
      "text/plain": [
       "<Figure size 640x480 with 1 Axes>"
      ]
     },
     "metadata": {},
     "output_type": "display_data"
    }
   ],
   "source": [
    "plt.plot(df3)"
   ]
  }
 ],
 "metadata": {
  "kernelspec": {
   "display_name": "Python 3",
   "language": "python",
   "name": "python3"
  },
  "language_info": {
   "codemirror_mode": {
    "name": "ipython",
    "version": 3
   },
   "file_extension": ".py",
   "mimetype": "text/x-python",
   "name": "python",
   "nbconvert_exporter": "python",
   "pygments_lexer": "ipython3",
   "version": "3.11.5"
  },
  "vscode": {
   "interpreter": {
    "hash": "1f6a27bcfbe46a917dbd192f4a82657396dda26148bae633192e8d28c70725f1"
   }
  }
 },
 "nbformat": 4,
 "nbformat_minor": 2
}
