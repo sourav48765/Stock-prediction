{
 "cells": [
  {
   "cell_type": "markdown",
   "metadata": {},
   "source": [
    "### Stock Market Prediction And Forecasting Using Stacked LSTM"
   ]
  },
  {
   "cell_type": "code",
   "execution_count": null,
   "metadata": {},
   "outputs": [],
   "source": [
    "### Keras and Tensorflow >2.0"
   ]
  },
  {
   "cell_type": "code",
   "execution_count": 4,
   "metadata": {},
   "outputs": [
    {
     "name": "stdout",
     "output_type": "stream",
     "text": [
      "[*********************100%***********************]  1 of 1 completed\n"
     ]
    }
   ],
   "source": [
    "import pandas as pd\n",
    "from pandas_datareader import data as pdr\n",
    "import yfinance as yf\n",
    "\n",
    "yf.pdr_override()\n",
    "\n",
    "df = pdr.get_data_yahoo(\"LICI.NS\")"
   ]
  },
  {
   "cell_type": "code",
   "execution_count": 5,
   "metadata": {},
   "outputs": [
    {
     "data": {
      "text/html": [
       "<div>\n",
       "<style scoped>\n",
       "    .dataframe tbody tr th:only-of-type {\n",
       "        vertical-align: middle;\n",
       "    }\n",
       "\n",
       "    .dataframe tbody tr th {\n",
       "        vertical-align: top;\n",
       "    }\n",
       "\n",
       "    .dataframe thead th {\n",
       "        text-align: right;\n",
       "    }\n",
       "</style>\n",
       "<table border=\"1\" class=\"dataframe\">\n",
       "  <thead>\n",
       "    <tr style=\"text-align: right;\">\n",
       "      <th></th>\n",
       "      <th>Open</th>\n",
       "      <th>High</th>\n",
       "      <th>Low</th>\n",
       "      <th>Close</th>\n",
       "      <th>Adj Close</th>\n",
       "      <th>Volume</th>\n",
       "    </tr>\n",
       "    <tr>\n",
       "      <th>Date</th>\n",
       "      <th></th>\n",
       "      <th></th>\n",
       "      <th></th>\n",
       "      <th></th>\n",
       "      <th></th>\n",
       "      <th></th>\n",
       "    </tr>\n",
       "  </thead>\n",
       "  <tbody>\n",
       "    <tr>\n",
       "      <th>2022-05-17</th>\n",
       "      <td>872.000000</td>\n",
       "      <td>918.950012</td>\n",
       "      <td>860.000000</td>\n",
       "      <td>875.250000</td>\n",
       "      <td>873.308594</td>\n",
       "      <td>48792877</td>\n",
       "    </tr>\n",
       "    <tr>\n",
       "      <th>2022-05-18</th>\n",
       "      <td>885.549988</td>\n",
       "      <td>891.000000</td>\n",
       "      <td>874.099976</td>\n",
       "      <td>876.349976</td>\n",
       "      <td>874.406128</td>\n",
       "      <td>8919761</td>\n",
       "    </tr>\n",
       "    <tr>\n",
       "      <th>2022-05-19</th>\n",
       "      <td>867.000000</td>\n",
       "      <td>867.000000</td>\n",
       "      <td>838.000000</td>\n",
       "      <td>840.849976</td>\n",
       "      <td>838.984863</td>\n",
       "      <td>7372427</td>\n",
       "    </tr>\n",
       "    <tr>\n",
       "      <th>2022-05-20</th>\n",
       "      <td>848.549988</td>\n",
       "      <td>856.799988</td>\n",
       "      <td>825.000000</td>\n",
       "      <td>826.150024</td>\n",
       "      <td>824.317505</td>\n",
       "      <td>7078291</td>\n",
       "    </tr>\n",
       "    <tr>\n",
       "      <th>2022-05-23</th>\n",
       "      <td>826.150024</td>\n",
       "      <td>852.700012</td>\n",
       "      <td>803.650024</td>\n",
       "      <td>816.849976</td>\n",
       "      <td>815.038086</td>\n",
       "      <td>12444648</td>\n",
       "    </tr>\n",
       "    <tr>\n",
       "      <th>...</th>\n",
       "      <td>...</td>\n",
       "      <td>...</td>\n",
       "      <td>...</td>\n",
       "      <td>...</td>\n",
       "      <td>...</td>\n",
       "      <td>...</td>\n",
       "    </tr>\n",
       "    <tr>\n",
       "      <th>2023-04-28</th>\n",
       "      <td>548.500000</td>\n",
       "      <td>552.799988</td>\n",
       "      <td>546.549988</td>\n",
       "      <td>549.900024</td>\n",
       "      <td>549.900024</td>\n",
       "      <td>1231240</td>\n",
       "    </tr>\n",
       "    <tr>\n",
       "      <th>2023-05-02</th>\n",
       "      <td>552.000000</td>\n",
       "      <td>554.599976</td>\n",
       "      <td>549.200012</td>\n",
       "      <td>550.049988</td>\n",
       "      <td>550.049988</td>\n",
       "      <td>1224198</td>\n",
       "    </tr>\n",
       "    <tr>\n",
       "      <th>2023-05-03</th>\n",
       "      <td>550.950012</td>\n",
       "      <td>552.900024</td>\n",
       "      <td>550.000000</td>\n",
       "      <td>551.349976</td>\n",
       "      <td>551.349976</td>\n",
       "      <td>856689</td>\n",
       "    </tr>\n",
       "    <tr>\n",
       "      <th>2023-05-04</th>\n",
       "      <td>552.000000</td>\n",
       "      <td>566.599976</td>\n",
       "      <td>549.099976</td>\n",
       "      <td>552.450012</td>\n",
       "      <td>552.450012</td>\n",
       "      <td>4283342</td>\n",
       "    </tr>\n",
       "    <tr>\n",
       "      <th>2023-05-05</th>\n",
       "      <td>552.500000</td>\n",
       "      <td>565.349976</td>\n",
       "      <td>551.650024</td>\n",
       "      <td>560.049988</td>\n",
       "      <td>560.049988</td>\n",
       "      <td>2503952</td>\n",
       "    </tr>\n",
       "  </tbody>\n",
       "</table>\n",
       "<p>241 rows × 6 columns</p>\n",
       "</div>"
      ],
      "text/plain": [
       "                  Open        High         Low       Close   Adj Close  \\\n",
       "Date                                                                     \n",
       "2022-05-17  872.000000  918.950012  860.000000  875.250000  873.308594   \n",
       "2022-05-18  885.549988  891.000000  874.099976  876.349976  874.406128   \n",
       "2022-05-19  867.000000  867.000000  838.000000  840.849976  838.984863   \n",
       "2022-05-20  848.549988  856.799988  825.000000  826.150024  824.317505   \n",
       "2022-05-23  826.150024  852.700012  803.650024  816.849976  815.038086   \n",
       "...                ...         ...         ...         ...         ...   \n",
       "2023-04-28  548.500000  552.799988  546.549988  549.900024  549.900024   \n",
       "2023-05-02  552.000000  554.599976  549.200012  550.049988  550.049988   \n",
       "2023-05-03  550.950012  552.900024  550.000000  551.349976  551.349976   \n",
       "2023-05-04  552.000000  566.599976  549.099976  552.450012  552.450012   \n",
       "2023-05-05  552.500000  565.349976  551.650024  560.049988  560.049988   \n",
       "\n",
       "              Volume  \n",
       "Date                  \n",
       "2022-05-17  48792877  \n",
       "2022-05-18   8919761  \n",
       "2022-05-19   7372427  \n",
       "2022-05-20   7078291  \n",
       "2022-05-23  12444648  \n",
       "...              ...  \n",
       "2023-04-28   1231240  \n",
       "2023-05-02   1224198  \n",
       "2023-05-03    856689  \n",
       "2023-05-04   4283342  \n",
       "2023-05-05   2503952  \n",
       "\n",
       "[241 rows x 6 columns]"
      ]
     },
     "execution_count": 5,
     "metadata": {},
     "output_type": "execute_result"
    }
   ],
   "source": [
    "df"
   ]
  },
  {
   "cell_type": "code",
   "execution_count": 6,
   "metadata": {},
   "outputs": [
    {
     "data": {
      "text/html": [
       "<div>\n",
       "<style scoped>\n",
       "    .dataframe tbody tr th:only-of-type {\n",
       "        vertical-align: middle;\n",
       "    }\n",
       "\n",
       "    .dataframe tbody tr th {\n",
       "        vertical-align: top;\n",
       "    }\n",
       "\n",
       "    .dataframe thead th {\n",
       "        text-align: right;\n",
       "    }\n",
       "</style>\n",
       "<table border=\"1\" class=\"dataframe\">\n",
       "  <thead>\n",
       "    <tr style=\"text-align: right;\">\n",
       "      <th></th>\n",
       "      <th>Open</th>\n",
       "      <th>High</th>\n",
       "      <th>Low</th>\n",
       "      <th>Close</th>\n",
       "      <th>Adj Close</th>\n",
       "      <th>Volume</th>\n",
       "    </tr>\n",
       "    <tr>\n",
       "      <th>Date</th>\n",
       "      <th></th>\n",
       "      <th></th>\n",
       "      <th></th>\n",
       "      <th></th>\n",
       "      <th></th>\n",
       "      <th></th>\n",
       "    </tr>\n",
       "  </thead>\n",
       "  <tbody>\n",
       "    <tr>\n",
       "      <th>2022-05-17</th>\n",
       "      <td>872.000000</td>\n",
       "      <td>918.950012</td>\n",
       "      <td>860.000000</td>\n",
       "      <td>875.250000</td>\n",
       "      <td>873.308594</td>\n",
       "      <td>48792877</td>\n",
       "    </tr>\n",
       "    <tr>\n",
       "      <th>2022-05-18</th>\n",
       "      <td>885.549988</td>\n",
       "      <td>891.000000</td>\n",
       "      <td>874.099976</td>\n",
       "      <td>876.349976</td>\n",
       "      <td>874.406128</td>\n",
       "      <td>8919761</td>\n",
       "    </tr>\n",
       "    <tr>\n",
       "      <th>2022-05-19</th>\n",
       "      <td>867.000000</td>\n",
       "      <td>867.000000</td>\n",
       "      <td>838.000000</td>\n",
       "      <td>840.849976</td>\n",
       "      <td>838.984863</td>\n",
       "      <td>7372427</td>\n",
       "    </tr>\n",
       "    <tr>\n",
       "      <th>2022-05-20</th>\n",
       "      <td>848.549988</td>\n",
       "      <td>856.799988</td>\n",
       "      <td>825.000000</td>\n",
       "      <td>826.150024</td>\n",
       "      <td>824.317505</td>\n",
       "      <td>7078291</td>\n",
       "    </tr>\n",
       "    <tr>\n",
       "      <th>2022-05-23</th>\n",
       "      <td>826.150024</td>\n",
       "      <td>852.700012</td>\n",
       "      <td>803.650024</td>\n",
       "      <td>816.849976</td>\n",
       "      <td>815.038086</td>\n",
       "      <td>12444648</td>\n",
       "    </tr>\n",
       "  </tbody>\n",
       "</table>\n",
       "</div>"
      ],
      "text/plain": [
       "                  Open        High         Low       Close   Adj Close  \\\n",
       "Date                                                                     \n",
       "2022-05-17  872.000000  918.950012  860.000000  875.250000  873.308594   \n",
       "2022-05-18  885.549988  891.000000  874.099976  876.349976  874.406128   \n",
       "2022-05-19  867.000000  867.000000  838.000000  840.849976  838.984863   \n",
       "2022-05-20  848.549988  856.799988  825.000000  826.150024  824.317505   \n",
       "2022-05-23  826.150024  852.700012  803.650024  816.849976  815.038086   \n",
       "\n",
       "              Volume  \n",
       "Date                  \n",
       "2022-05-17  48792877  \n",
       "2022-05-18   8919761  \n",
       "2022-05-19   7372427  \n",
       "2022-05-20   7078291  \n",
       "2022-05-23  12444648  "
      ]
     },
     "execution_count": 6,
     "metadata": {},
     "output_type": "execute_result"
    }
   ],
   "source": [
    "df.head()"
   ]
  },
  {
   "cell_type": "code",
   "execution_count": 7,
   "metadata": {},
   "outputs": [
    {
     "data": {
      "text/html": [
       "<div>\n",
       "<style scoped>\n",
       "    .dataframe tbody tr th:only-of-type {\n",
       "        vertical-align: middle;\n",
       "    }\n",
       "\n",
       "    .dataframe tbody tr th {\n",
       "        vertical-align: top;\n",
       "    }\n",
       "\n",
       "    .dataframe thead th {\n",
       "        text-align: right;\n",
       "    }\n",
       "</style>\n",
       "<table border=\"1\" class=\"dataframe\">\n",
       "  <thead>\n",
       "    <tr style=\"text-align: right;\">\n",
       "      <th></th>\n",
       "      <th>Open</th>\n",
       "      <th>High</th>\n",
       "      <th>Low</th>\n",
       "      <th>Close</th>\n",
       "      <th>Adj Close</th>\n",
       "      <th>Volume</th>\n",
       "    </tr>\n",
       "    <tr>\n",
       "      <th>Date</th>\n",
       "      <th></th>\n",
       "      <th></th>\n",
       "      <th></th>\n",
       "      <th></th>\n",
       "      <th></th>\n",
       "      <th></th>\n",
       "    </tr>\n",
       "  </thead>\n",
       "  <tbody>\n",
       "    <tr>\n",
       "      <th>2023-04-28</th>\n",
       "      <td>548.500000</td>\n",
       "      <td>552.799988</td>\n",
       "      <td>546.549988</td>\n",
       "      <td>549.900024</td>\n",
       "      <td>549.900024</td>\n",
       "      <td>1231240</td>\n",
       "    </tr>\n",
       "    <tr>\n",
       "      <th>2023-05-02</th>\n",
       "      <td>552.000000</td>\n",
       "      <td>554.599976</td>\n",
       "      <td>549.200012</td>\n",
       "      <td>550.049988</td>\n",
       "      <td>550.049988</td>\n",
       "      <td>1224198</td>\n",
       "    </tr>\n",
       "    <tr>\n",
       "      <th>2023-05-03</th>\n",
       "      <td>550.950012</td>\n",
       "      <td>552.900024</td>\n",
       "      <td>550.000000</td>\n",
       "      <td>551.349976</td>\n",
       "      <td>551.349976</td>\n",
       "      <td>856689</td>\n",
       "    </tr>\n",
       "    <tr>\n",
       "      <th>2023-05-04</th>\n",
       "      <td>552.000000</td>\n",
       "      <td>566.599976</td>\n",
       "      <td>549.099976</td>\n",
       "      <td>552.450012</td>\n",
       "      <td>552.450012</td>\n",
       "      <td>4283342</td>\n",
       "    </tr>\n",
       "    <tr>\n",
       "      <th>2023-05-05</th>\n",
       "      <td>552.500000</td>\n",
       "      <td>565.349976</td>\n",
       "      <td>551.650024</td>\n",
       "      <td>560.049988</td>\n",
       "      <td>560.049988</td>\n",
       "      <td>2503952</td>\n",
       "    </tr>\n",
       "  </tbody>\n",
       "</table>\n",
       "</div>"
      ],
      "text/plain": [
       "                  Open        High         Low       Close   Adj Close  \\\n",
       "Date                                                                     \n",
       "2023-04-28  548.500000  552.799988  546.549988  549.900024  549.900024   \n",
       "2023-05-02  552.000000  554.599976  549.200012  550.049988  550.049988   \n",
       "2023-05-03  550.950012  552.900024  550.000000  551.349976  551.349976   \n",
       "2023-05-04  552.000000  566.599976  549.099976  552.450012  552.450012   \n",
       "2023-05-05  552.500000  565.349976  551.650024  560.049988  560.049988   \n",
       "\n",
       "             Volume  \n",
       "Date                 \n",
       "2023-04-28  1231240  \n",
       "2023-05-02  1224198  \n",
       "2023-05-03   856689  \n",
       "2023-05-04  4283342  \n",
       "2023-05-05  2503952  "
      ]
     },
     "execution_count": 7,
     "metadata": {},
     "output_type": "execute_result"
    }
   ],
   "source": [
    "df.tail()"
   ]
  },
  {
   "cell_type": "code",
   "execution_count": 8,
   "metadata": {},
   "outputs": [],
   "source": [
    "df1=df.reset_index()['Close']"
   ]
  },
  {
   "cell_type": "code",
   "execution_count": 9,
   "metadata": {},
   "outputs": [
    {
     "data": {
      "text/plain": [
       "0      875.250000\n",
       "1      876.349976\n",
       "2      840.849976\n",
       "3      826.150024\n",
       "4      816.849976\n",
       "          ...    \n",
       "236    549.900024\n",
       "237    550.049988\n",
       "238    551.349976\n",
       "239    552.450012\n",
       "240    560.049988\n",
       "Name: Close, Length: 241, dtype: float64"
      ]
     },
     "execution_count": 9,
     "metadata": {},
     "output_type": "execute_result"
    }
   ],
   "source": [
    "df1"
   ]
  },
  {
   "cell_type": "code",
   "execution_count": 10,
   "metadata": {},
   "outputs": [
    {
     "data": {
      "text/plain": [
       "[<matplotlib.lines.Line2D at 0x1e97c8ea350>]"
      ]
     },
     "execution_count": 10,
     "metadata": {},
     "output_type": "execute_result"
    },
    {
     "data": {
      "image/png": "[encoded data removed]",
      "text/plain": [
       "<Figure size 640x480 with 1 Axes>"
      ]
     },
     "metadata": {},
     "output_type": "display_data"
    }
   ],
   "source": [
    "import matplotlib.pyplot as plt\n",
    "plt.plot(df1)"
   ]
  },
  {
   "cell_type": "code",
   "execution_count": 291,
   "metadata": {},
   "outputs": [],
   "source": [
    "### LSTM are sensitive to the scale of the data. so we apply MinMax scaler "
   ]
  },
  {
   "cell_type": "code",
   "execution_count": 11,
   "metadata": {},
   "outputs": [],
   "source": [
    "import numpy as np"
   ]
  },
  {
   "cell_type": "code",
   "execution_count": 12,
   "metadata": {},
   "outputs": [
    {
     "data": {
      "text/plain": [
       "0      875.250000\n",
       "1      876.349976\n",
       "2      840.849976\n",
       "3      826.150024\n",
       "4      816.849976\n",
       "          ...    \n",
       "236    549.900024\n",
       "237    550.049988\n",
       "238    551.349976\n",
       "239    552.450012\n",
       "240    560.049988\n",
       "Name: Close, Length: 241, dtype: float64"
      ]
     },
     "execution_count": 12,
     "metadata": {},
     "output_type": "execute_result"
    }
   ],
   "source": [
    "df1"
   ]
  },
  {
   "cell_type": "code",
   "execution_count": 13,
   "metadata": {},
   "outputs": [],
   "source": [
    "from sklearn.preprocessing import MinMaxScaler\n",
    "scaler=MinMaxScaler(feature_range=(0,1))\n",
    "df1=scaler.fit_transform(np.array(df1).reshape(-1,1))"
   ]
  },
  {
   "cell_type": "code",
   "execution_count": 14,
   "metadata": {},
   "outputs": [
    {
     "name": "stdout",
     "output_type": "stream",
     "text": [
      "[[0.99680704]\n",
      " [1.        ]\n",
      " [0.8969521 ]\n",
      " [0.85428171]\n",
      " [0.82728592]\n",
      " [0.84542816]\n",
      " [0.83730047]\n",
      " [0.81219172]\n",
      " [0.84107402]\n",
      " [0.88795363]\n",
      " [0.81117565]\n",
      " [0.80856328]\n",
      " [0.79492028]\n",
      " [0.77910022]\n",
      " [0.712627  ]\n",
      " [0.64194492]\n",
      " [0.59854866]\n",
      " [0.55108864]\n",
      " [0.51625555]\n",
      " [0.39593621]\n",
      " [0.41349786]\n",
      " [0.45950667]\n",
      " [0.39912917]\n",
      " [0.3561684 ]\n",
      " [0.37605239]\n",
      " [0.38708283]\n",
      " [0.3969521 ]\n",
      " [0.38693773]\n",
      " [0.37677808]\n",
      " [0.38592166]\n",
      " [0.38171263]\n",
      " [0.42568948]\n",
      " [0.41233686]\n",
      " [0.42031945]\n",
      " [0.4657475 ]\n",
      " [0.49579114]\n",
      " [0.49666194]\n",
      " [0.48243835]\n",
      " [0.51161103]\n",
      " [0.54092899]\n",
      " [0.53918723]\n",
      " [0.54281567]\n",
      " [0.52380265]\n",
      " [0.5127722 ]\n",
      " [0.47793911]\n",
      " [0.45573295]\n",
      " [0.45239488]\n",
      " [0.4519594 ]\n",
      " [0.45515254]\n",
      " [0.44150954]\n",
      " [0.41654572]\n",
      " [0.41364296]\n",
      " [0.41523962]\n",
      " [0.42365751]\n",
      " [0.43846168]\n",
      " [0.44600878]\n",
      " [0.42510889]\n",
      " [0.41175627]\n",
      " [0.45137881]\n",
      " [0.43004361]\n",
      " [0.43759071]\n",
      " [0.43773599]\n",
      " [0.4370103 ]\n",
      " [0.48127736]\n",
      " [0.48214815]\n",
      " [0.47721342]\n",
      " [0.44731506]\n",
      " [0.41640062]\n",
      " [0.404209  ]\n",
      " [0.41915827]\n",
      " [0.42380261]\n",
      " [0.42670537]\n",
      " [0.40145152]\n",
      " [0.41117569]\n",
      " [0.39724249]\n",
      " [0.38548635]\n",
      " [0.37140787]\n",
      " [0.35108857]\n",
      " [0.35210464]\n",
      " [0.35413643]\n",
      " [0.35253995]\n",
      " [0.34934699]\n",
      " [0.40174173]\n",
      " [0.38200301]\n",
      " [0.40856313]\n",
      " [0.35689408]\n",
      " [0.35674898]\n",
      " [0.36139332]\n",
      " [0.35007268]\n",
      " [0.34223519]\n",
      " [0.32206099]\n",
      " [0.28650221]\n",
      " [0.28142239]\n",
      " [0.26008719]\n",
      " [0.25457188]\n",
      " [0.26066778]\n",
      " [0.25761974]\n",
      " [0.28287377]\n",
      " [0.28171277]\n",
      " [0.26894056]\n",
      " [0.25413657]\n",
      " [0.25442678]\n",
      " [0.24325123]\n",
      " [0.23149492]\n",
      " [0.23497826]\n",
      " [0.22322213]\n",
      " [0.22060958]\n",
      " [0.21828741]\n",
      " [0.20072576]\n",
      " [0.16647326]\n",
      " [0.19724242]\n",
      " [0.1849057 ]\n",
      " [0.1849057 ]\n",
      " [0.17663291]\n",
      " [0.20928893]\n",
      " [0.21291738]\n",
      " [0.25413657]\n",
      " [0.27227881]\n",
      " [0.27924532]\n",
      " [0.29433969]\n",
      " [0.28867928]\n",
      " [0.25834543]\n",
      " [0.27822942]\n",
      " [0.38548635]\n",
      " [0.35660388]\n",
      " [0.32162569]\n",
      " [0.32510885]\n",
      " [0.31044996]\n",
      " [0.27634256]\n",
      " [0.27271411]\n",
      " [0.2593615 ]\n",
      " [0.26821487]\n",
      " [0.27837453]\n",
      " [0.28432514]\n",
      " [0.30464445]\n",
      " [0.30319307]\n",
      " [0.34557344]\n",
      " [0.34658933]\n",
      " [0.3490566 ]\n",
      " [0.34789561]\n",
      " [0.3550074 ]\n",
      " [0.37880987]\n",
      " [0.40638607]\n",
      " [0.47997108]\n",
      " [0.54121919]\n",
      " [0.55863574]\n",
      " [0.51349789]\n",
      " [0.45486215]\n",
      " [0.58853411]\n",
      " [0.60406397]\n",
      " [0.49288839]\n",
      " [0.43468795]\n",
      " [0.36836001]\n",
      " [0.45326567]\n",
      " [0.46661829]\n",
      " [0.45050802]\n",
      " [0.44078385]\n",
      " [0.44339623]\n",
      " [0.51567496]\n",
      " [0.58853411]\n",
      " [0.57808425]\n",
      " [0.56879539]\n",
      " [0.50928886]\n",
      " [0.52177068]\n",
      " [0.53164013]\n",
      " [0.53193033]\n",
      " [0.50377373]\n",
      " [0.52525403]\n",
      " [0.51480417]\n",
      " [0.50464452]\n",
      " [0.50725689]\n",
      " [0.49274311]\n",
      " [0.48388973]\n",
      " [0.49071132]\n",
      " [0.49419448]\n",
      " [0.4573296 ]\n",
      " [0.3892599 ]\n",
      " [0.36182881]\n",
      " [0.35253995]\n",
      " [0.19332376]\n",
      " [0.19521045]\n",
      " [0.19506535]\n",
      " [0.1975328 ]\n",
      " [0.20667638]\n",
      " [0.22757627]\n",
      " [0.23599434]\n",
      " [0.25602326]\n",
      " [0.21727151]\n",
      " [0.19216259]\n",
      " [0.20072576]\n",
      " [0.20595069]\n",
      " [0.20551538]\n",
      " [0.19346887]\n",
      " [0.18955021]\n",
      " [0.18606687]\n",
      " [0.17140798]\n",
      " [0.15312046]\n",
      " [0.10420907]\n",
      " [0.13512351]\n",
      " [0.20275773]\n",
      " [0.20101597]\n",
      " [0.24267064]\n",
      " [0.2316402 ]\n",
      " [0.20638617]\n",
      " [0.19361397]\n",
      " [0.18476059]\n",
      " [0.14586357]\n",
      " [0.13541371]\n",
      " [0.13236585]\n",
      " [0.11785207]\n",
      " [0.13947765]\n",
      " [0.12496386]\n",
      " [0.11814227]\n",
      " [0.11872286]\n",
      " [0.10725693]\n",
      " [0.0817127 ]\n",
      " [0.03555878]\n",
      " [0.01436869]\n",
      " [0.        ]\n",
      " [0.00725689]\n",
      " [0.03686506]\n",
      " [0.05254002]\n",
      " [0.0542816 ]\n",
      " [0.05065316]\n",
      " [0.0541365 ]\n",
      " [0.05065316]\n",
      " [0.05544278]\n",
      " [0.03701016]\n",
      " [0.04818588]\n",
      " [0.04252547]\n",
      " [0.05820043]\n",
      " [0.04687961]\n",
      " [0.05094354]\n",
      " [0.0477504 ]\n",
      " [0.04615392]\n",
      " [0.0402033 ]\n",
      " [0.05239492]\n",
      " [0.05283022]\n",
      " [0.05660377]\n",
      " [0.05979691]\n",
      " [0.0818578 ]]\n"
     ]
    }
   ],
   "source": [
    "print(df1)"
   ]
  },
  {
   "cell_type": "code",
   "execution_count": 15,
   "metadata": {},
   "outputs": [],
   "source": [
    "##splitting dataset into train and test split\n",
    "training_size=int(len(df1)*0.65)\n",
    "test_size=len(df1)-training_size\n",
    "train_data,test_data=df1[0:training_size,:],df1[training_size:len(df1),:1]"
   ]
  },
  {
   "cell_type": "code",
   "execution_count": 16,
   "metadata": {},
   "outputs": [
    {
     "data": {
      "text/plain": [
       "(156, 85)"
      ]
     },
     "execution_count": 16,
     "metadata": {},
     "output_type": "execute_result"
    }
   ],
   "source": [
    "training_size,test_size"
   ]
  },
  {
   "cell_type": "code",
   "execution_count": 17,
   "metadata": {},
   "outputs": [
    {
     "data": {
      "text/plain": [
       "array([[0.99680704],\n",
       "       [1.        ],\n",
       "       [0.8969521 ],\n",
       "       [0.85428171],\n",
       "       [0.82728592],\n",
       "       [0.84542816],\n",
       "       [0.83730047],\n",
       "       [0.81219172],\n",
       "       [0.84107402],\n",
       "       [0.88795363],\n",
       "       [0.81117565],\n",
       "       [0.80856328],\n",
       "       [0.79492028],\n",
       "       [0.77910022],\n",
       "       [0.712627  ],\n",
       "       [0.64194492],\n",
       "       [0.59854866],\n",
       "       [0.55108864],\n",
       "       [0.51625555],\n",
       "       [0.39593621],\n",
       "       [0.41349786],\n",
       "       [0.45950667],\n",
       "       [0.39912917],\n",
       "       [0.3561684 ],\n",
       "       [0.37605239],\n",
       "       [0.38708283],\n",
       "       [0.3969521 ],\n",
       "       [0.38693773],\n",
       "       [0.37677808],\n",
       "       [0.38592166],\n",
       "       [0.38171263],\n",
       "       [0.42568948],\n",
       "       [0.41233686],\n",
       "       [0.42031945],\n",
       "       [0.4657475 ],\n",
       "       [0.49579114],\n",
       "       [0.49666194],\n",
       "       [0.48243835],\n",
       "       [0.51161103],\n",
       "       [0.54092899],\n",
       "       [0.53918723],\n",
       "       [0.54281567],\n",
       "       [0.52380265],\n",
       "       [0.5127722 ],\n",
       "       [0.47793911],\n",
       "       [0.45573295],\n",
       "       [0.45239488],\n",
       "       [0.4519594 ],\n",
       "       [0.45515254],\n",
       "       [0.44150954],\n",
       "       [0.41654572],\n",
       "       [0.41364296],\n",
       "       [0.41523962],\n",
       "       [0.42365751],\n",
       "       [0.43846168],\n",
       "       [0.44600878],\n",
       "       [0.42510889],\n",
       "       [0.41175627],\n",
       "       [0.45137881],\n",
       "       [0.43004361],\n",
       "       [0.43759071],\n",
       "       [0.43773599],\n",
       "       [0.4370103 ],\n",
       "       [0.48127736],\n",
       "       [0.48214815],\n",
       "       [0.47721342],\n",
       "       [0.44731506],\n",
       "       [0.41640062],\n",
       "       [0.404209  ],\n",
       "       [0.41915827],\n",
       "       [0.42380261],\n",
       "       [0.42670537],\n",
       "       [0.40145152],\n",
       "       [0.41117569],\n",
       "       [0.39724249],\n",
       "       [0.38548635],\n",
       "       [0.37140787],\n",
       "       [0.35108857],\n",
       "       [0.35210464],\n",
       "       [0.35413643],\n",
       "       [0.35253995],\n",
       "       [0.34934699],\n",
       "       [0.40174173],\n",
       "       [0.38200301],\n",
       "       [0.40856313],\n",
       "       [0.35689408],\n",
       "       [0.35674898],\n",
       "       [0.36139332],\n",
       "       [0.35007268],\n",
       "       [0.34223519],\n",
       "       [0.32206099],\n",
       "       [0.28650221],\n",
       "       [0.28142239],\n",
       "       [0.26008719],\n",
       "       [0.25457188],\n",
       "       [0.26066778],\n",
       "       [0.25761974],\n",
       "       [0.28287377],\n",
       "       [0.28171277],\n",
       "       [0.26894056],\n",
       "       [0.25413657],\n",
       "       [0.25442678],\n",
       "       [0.24325123],\n",
       "       [0.23149492],\n",
       "       [0.23497826],\n",
       "       [0.22322213],\n",
       "       [0.22060958],\n",
       "       [0.21828741],\n",
       "       [0.20072576],\n",
       "       [0.16647326],\n",
       "       [0.19724242],\n",
       "       [0.1849057 ],\n",
       "       [0.1849057 ],\n",
       "       [0.17663291],\n",
       "       [0.20928893],\n",
       "       [0.21291738],\n",
       "       [0.25413657],\n",
       "       [0.27227881],\n",
       "       [0.27924532],\n",
       "       [0.29433969],\n",
       "       [0.28867928],\n",
       "       [0.25834543],\n",
       "       [0.27822942],\n",
       "       [0.38548635],\n",
       "       [0.35660388],\n",
       "       [0.32162569],\n",
       "       [0.32510885],\n",
       "       [0.31044996],\n",
       "       [0.27634256],\n",
       "       [0.27271411],\n",
       "       [0.2593615 ],\n",
       "       [0.26821487],\n",
       "       [0.27837453],\n",
       "       [0.28432514],\n",
       "       [0.30464445],\n",
       "       [0.30319307],\n",
       "       [0.34557344],\n",
       "       [0.34658933],\n",
       "       [0.3490566 ],\n",
       "       [0.34789561],\n",
       "       [0.3550074 ],\n",
       "       [0.37880987],\n",
       "       [0.40638607],\n",
       "       [0.47997108],\n",
       "       [0.54121919],\n",
       "       [0.55863574],\n",
       "       [0.51349789],\n",
       "       [0.45486215],\n",
       "       [0.58853411],\n",
       "       [0.60406397],\n",
       "       [0.49288839],\n",
       "       [0.43468795],\n",
       "       [0.36836001],\n",
       "       [0.45326567],\n",
       "       [0.46661829],\n",
       "       [0.45050802]])"
      ]
     },
     "execution_count": 17,
     "metadata": {},
     "output_type": "execute_result"
    }
   ],
   "source": [
    "train_data"
   ]
  },
  {
   "cell_type": "code",
   "execution_count": 18,
   "metadata": {},
   "outputs": [],
   "source": [
    "import numpy\n",
    "# convert an array of values into a dataset matrix\n",
    "def create_dataset(dataset, time_step=1):\n",
    "\tdataX, dataY = [], []\n",
    "\tfor i in range(len(dataset)-time_step-1):\n",
    "\t\ta = dataset[i:(i+time_step), 0]   ###i=0, 0,1,2,3-----99   100 \n",
    "\t\tdataX.append(a)\n",
    "\t\tdataY.append(dataset[i + time_step, 0])\n",
    "\treturn numpy.array(dataX), numpy.array(dataY)"
   ]
  },
  {
   "cell_type": "code",
   "execution_count": 19,
   "metadata": {},
   "outputs": [],
   "source": [
    "# reshape into X=t,t+1,t+2,t+3 and Y=t+4\n",
    "time_step = 3\n",
    "X_train, y_train = create_dataset(train_data, time_step)\n",
    "X_test, ytest = create_dataset(test_data, time_step)"
   ]
  },
  {
   "cell_type": "code",
   "execution_count": 20,
   "metadata": {},
   "outputs": [
    {
     "name": "stdout",
     "output_type": "stream",
     "text": [
      "(152, 3)\n",
      "(152,)\n"
     ]
    },
    {
     "data": {
      "text/plain": [
       "(None, None)"
      ]
     },
     "execution_count": 20,
     "metadata": {},
     "output_type": "execute_result"
    }
   ],
   "source": [
    "print(X_train.shape), print(y_train.shape)"
   ]
  },
  {
   "cell_type": "code",
   "execution_count": 21,
   "metadata": {},
   "outputs": [
    {
     "name": "stdout",
     "output_type": "stream",
     "text": [
      "[0.58853411 0.57808425 0.56879539 0.50928886 0.52177068 0.53164013\n",
      " 0.53193033 0.50377373 0.52525403 0.51480417 0.50464452 0.50725689\n",
      " 0.49274311 0.48388973 0.49071132 0.49419448 0.4573296  0.3892599\n",
      " 0.36182881 0.35253995 0.19332376 0.19521045 0.19506535 0.1975328\n",
      " 0.20667638 0.22757627 0.23599434 0.25602326 0.21727151 0.19216259\n",
      " 0.20072576 0.20595069 0.20551538 0.19346887 0.18955021 0.18606687\n",
      " 0.17140798 0.15312046 0.10420907 0.13512351 0.20275773 0.20101597\n",
      " 0.24267064 0.2316402  0.20638617 0.19361397 0.18476059 0.14586357\n",
      " 0.13541371 0.13236585 0.11785207 0.13947765 0.12496386 0.11814227\n",
      " 0.11872286 0.10725693 0.0817127  0.03555878 0.01436869 0.\n",
      " 0.00725689 0.03686506 0.05254002 0.0542816  0.05065316 0.0541365\n",
      " 0.05065316 0.05544278 0.03701016 0.04818588 0.04252547 0.05820043\n",
      " 0.04687961 0.05094354 0.0477504  0.04615392 0.0402033  0.05239492\n",
      " 0.05283022 0.05660377 0.05979691]\n"
     ]
    }
   ],
   "source": [
    "\n",
    "print(ytest)\n"
   ]
  },
  {
   "cell_type": "code",
   "execution_count": 58,
   "metadata": {},
   "outputs": [
    {
     "name": "stdout",
     "output_type": "stream",
     "text": [
      "(81, 3, 1)\n",
      "(81,)\n"
     ]
    },
    {
     "data": {
      "text/plain": [
       "(None, None)"
      ]
     },
     "execution_count": 58,
     "metadata": {},
     "output_type": "execute_result"
    }
   ],
   "source": [
    "print(X_test.shape), print(ytest.shape)"
   ]
  },
  {
   "cell_type": "code",
   "execution_count": 60,
   "metadata": {},
   "outputs": [],
   "source": [
    "# reshape input to be [samples, time steps, features] which is required for LSTM\n",
    "X_train = X_train.reshape((X_train.shape[0], time_step, 1))\n",
    "\n",
    "# reshape X_test to match the input shape of the model\n",
    "X_test = X_test.reshape((X_test.shape[0], time_step, 1))"
   ]
  },
  {
   "cell_type": "code",
   "execution_count": 61,
   "metadata": {},
   "outputs": [],
   "source": [
    "### Create the Stacked LSTM model\n",
    "from tensorflow.keras.models import Sequential\n",
    "from tensorflow.keras.layers import Dense\n",
    "from tensorflow.keras.layers import LSTM"
   ]
  },
  {
   "cell_type": "code",
   "execution_count": 62,
   "metadata": {},
   "outputs": [],
   "source": [
    "model=Sequential()\n",
    "model.add(LSTM(50,return_sequences=True,input_shape=(time_step,1)))\n",
    "model.add(LSTM(50,return_sequences=True))\n",
    "model.add(LSTM(50))\n",
    "model.add(Dense(1))\n",
    "model.compile(loss='mean_squared_error',optimizer='adam')\n"
   ]
  },
  {
   "cell_type": "code",
   "execution_count": 63,
   "metadata": {},
   "outputs": [
    {
     "name": "stdout",
     "output_type": "stream",
     "text": [
      "Model: \"sequential_1\"\n",
      "_________________________________________________________________\n",
      " Layer (type)                Output Shape              Param #   \n",
      "=================================================================\n",
      " lstm_3 (LSTM)               (None, 3, 50)             10400     \n",
      "                                                                 \n",
      " lstm_4 (LSTM)               (None, 3, 50)             20200     \n",
      "                                                                 \n",
      " lstm_5 (LSTM)               (None, 50)                20200     \n",
      "                                                                 \n",
      " dense_1 (Dense)             (None, 1)                 51        \n",
      "                                                                 \n",
      "=================================================================\n",
      "Total params: 50,851\n",
      "Trainable params: 50,851\n",
      "Non-trainable params: 0\n",
      "_________________________________________________________________\n"
     ]
    }
   ],
   "source": [
    "model.summary()"
   ]
  },
  {
   "cell_type": "code",
   "execution_count": 27,
   "metadata": {},
   "outputs": [
    {
     "name": "stdout",
     "output_type": "stream",
     "text": [
      "Epoch 1/100\n",
      "3/3 [==============================] - 6s 602ms/step - loss: 0.1870 - val_loss: 0.0658\n",
      "Epoch 2/100\n",
      "3/3 [==============================] - 0s 28ms/step - loss: 0.1637 - val_loss: 0.0546\n",
      "Epoch 3/100\n",
      "3/3 [==============================] - 0s 27ms/step - loss: 0.1391 - val_loss: 0.0432\n",
      "Epoch 4/100\n",
      "3/3 [==============================] - 0s 24ms/step - loss: 0.1108 - val_loss: 0.0322\n",
      "Epoch 5/100\n",
      "3/3 [==============================] - 0s 25ms/step - loss: 0.0795 - val_loss: 0.0238\n",
      "Epoch 6/100\n",
      "3/3 [==============================] - 0s 24ms/step - loss: 0.0469 - val_loss: 0.0227\n",
      "Epoch 7/100\n",
      "3/3 [==============================] - 0s 26ms/step - loss: 0.0214 - val_loss: 0.0371\n",
      "Epoch 8/100\n",
      "3/3 [==============================] - 0s 25ms/step - loss: 0.0132 - val_loss: 0.0657\n",
      "Epoch 9/100\n",
      "3/3 [==============================] - 0s 26ms/step - loss: 0.0232 - val_loss: 0.0730\n",
      "Epoch 10/100\n",
      "3/3 [==============================] - 0s 26ms/step - loss: 0.0229 - val_loss: 0.0566\n",
      "Epoch 11/100\n",
      "3/3 [==============================] - 0s 24ms/step - loss: 0.0142 - val_loss: 0.0407\n",
      "Epoch 12/100\n",
      "3/3 [==============================] - 0s 24ms/step - loss: 0.0111 - val_loss: 0.0317\n",
      "Epoch 13/100\n",
      "3/3 [==============================] - 0s 24ms/step - loss: 0.0122 - val_loss: 0.0280\n",
      "Epoch 14/100\n",
      "3/3 [==============================] - 0s 24ms/step - loss: 0.0137 - val_loss: 0.0270\n",
      "Epoch 15/100\n",
      "3/3 [==============================] - 0s 25ms/step - loss: 0.0132 - val_loss: 0.0281\n",
      "Epoch 16/100\n",
      "3/3 [==============================] - 0s 24ms/step - loss: 0.0113 - val_loss: 0.0309\n",
      "Epoch 17/100\n",
      "3/3 [==============================] - 0s 25ms/step - loss: 0.0095 - val_loss: 0.0346\n",
      "Epoch 18/100\n",
      "3/3 [==============================] - 0s 24ms/step - loss: 0.0092 - val_loss: 0.0372\n",
      "Epoch 19/100\n",
      "3/3 [==============================] - 0s 24ms/step - loss: 0.0094 - val_loss: 0.0360\n",
      "Epoch 20/100\n",
      "3/3 [==============================] - 0s 35ms/step - loss: 0.0088 - val_loss: 0.0318\n",
      "Epoch 21/100\n",
      "3/3 [==============================] - 0s 24ms/step - loss: 0.0077 - val_loss: 0.0272\n",
      "Epoch 22/100\n",
      "3/3 [==============================] - 0s 24ms/step - loss: 0.0070 - val_loss: 0.0238\n",
      "Epoch 23/100\n",
      "3/3 [==============================] - 0s 24ms/step - loss: 0.0067 - val_loss: 0.0218\n",
      "Epoch 24/100\n",
      "3/3 [==============================] - 0s 24ms/step - loss: 0.0062 - val_loss: 0.0210\n",
      "Epoch 25/100\n",
      "3/3 [==============================] - 0s 25ms/step - loss: 0.0055 - val_loss: 0.0206\n",
      "Epoch 26/100\n",
      "3/3 [==============================] - 0s 23ms/step - loss: 0.0049 - val_loss: 0.0202\n",
      "Epoch 27/100\n",
      "3/3 [==============================] - 0s 24ms/step - loss: 0.0046 - val_loss: 0.0188\n",
      "Epoch 28/100\n",
      "3/3 [==============================] - 0s 24ms/step - loss: 0.0041 - val_loss: 0.0164\n",
      "Epoch 29/100\n",
      "3/3 [==============================] - 0s 24ms/step - loss: 0.0037 - val_loss: 0.0142\n",
      "Epoch 30/100\n",
      "3/3 [==============================] - 0s 24ms/step - loss: 0.0034 - val_loss: 0.0127\n",
      "Epoch 31/100\n",
      "3/3 [==============================] - 0s 23ms/step - loss: 0.0031 - val_loss: 0.0117\n",
      "Epoch 32/100\n",
      "3/3 [==============================] - 0s 24ms/step - loss: 0.0029 - val_loss: 0.0110\n",
      "Epoch 33/100\n",
      "3/3 [==============================] - 0s 24ms/step - loss: 0.0027 - val_loss: 0.0101\n",
      "Epoch 34/100\n",
      "3/3 [==============================] - 0s 26ms/step - loss: 0.0026 - val_loss: 0.0092\n",
      "Epoch 35/100\n",
      "3/3 [==============================] - 0s 24ms/step - loss: 0.0026 - val_loss: 0.0085\n",
      "Epoch 36/100\n",
      "3/3 [==============================] - 0s 22ms/step - loss: 0.0025 - val_loss: 0.0079\n",
      "Epoch 37/100\n",
      "3/3 [==============================] - 0s 24ms/step - loss: 0.0025 - val_loss: 0.0077\n",
      "Epoch 38/100\n",
      "3/3 [==============================] - 0s 24ms/step - loss: 0.0026 - val_loss: 0.0077\n",
      "Epoch 39/100\n",
      "3/3 [==============================] - 0s 24ms/step - loss: 0.0026 - val_loss: 0.0074\n",
      "Epoch 40/100\n",
      "3/3 [==============================] - 0s 24ms/step - loss: 0.0026 - val_loss: 0.0072\n",
      "Epoch 41/100\n",
      "3/3 [==============================] - 0s 24ms/step - loss: 0.0026 - val_loss: 0.0072\n",
      "Epoch 42/100\n",
      "3/3 [==============================] - 0s 23ms/step - loss: 0.0025 - val_loss: 0.0075\n",
      "Epoch 43/100\n",
      "3/3 [==============================] - 0s 24ms/step - loss: 0.0025 - val_loss: 0.0079\n",
      "Epoch 44/100\n",
      "3/3 [==============================] - 0s 24ms/step - loss: 0.0025 - val_loss: 0.0080\n",
      "Epoch 45/100\n",
      "3/3 [==============================] - 0s 24ms/step - loss: 0.0025 - val_loss: 0.0078\n",
      "Epoch 46/100\n",
      "3/3 [==============================] - 0s 24ms/step - loss: 0.0025 - val_loss: 0.0078\n",
      "Epoch 47/100\n",
      "3/3 [==============================] - 0s 34ms/step - loss: 0.0025 - val_loss: 0.0079\n",
      "Epoch 48/100\n",
      "3/3 [==============================] - 0s 23ms/step - loss: 0.0025 - val_loss: 0.0080\n",
      "Epoch 49/100\n",
      "3/3 [==============================] - 0s 24ms/step - loss: 0.0025 - val_loss: 0.0080\n",
      "Epoch 50/100\n",
      "3/3 [==============================] - 0s 24ms/step - loss: 0.0025 - val_loss: 0.0078\n",
      "Epoch 51/100\n",
      "3/3 [==============================] - 0s 23ms/step - loss: 0.0025 - val_loss: 0.0080\n",
      "Epoch 52/100\n",
      "3/3 [==============================] - 0s 24ms/step - loss: 0.0026 - val_loss: 0.0085\n",
      "Epoch 53/100\n",
      "3/3 [==============================] - 0s 23ms/step - loss: 0.0025 - val_loss: 0.0082\n",
      "Epoch 54/100\n",
      "3/3 [==============================] - 0s 25ms/step - loss: 0.0025 - val_loss: 0.0081\n",
      "Epoch 55/100\n",
      "3/3 [==============================] - 0s 24ms/step - loss: 0.0025 - val_loss: 0.0079\n",
      "Epoch 56/100\n",
      "3/3 [==============================] - 0s 24ms/step - loss: 0.0025 - val_loss: 0.0079\n",
      "Epoch 57/100\n",
      "3/3 [==============================] - 0s 23ms/step - loss: 0.0025 - val_loss: 0.0078\n",
      "Epoch 58/100\n",
      "3/3 [==============================] - 0s 24ms/step - loss: 0.0025 - val_loss: 0.0079\n",
      "Epoch 59/100\n",
      "3/3 [==============================] - 0s 24ms/step - loss: 0.0025 - val_loss: 0.0080\n",
      "Epoch 60/100\n",
      "3/3 [==============================] - 0s 22ms/step - loss: 0.0025 - val_loss: 0.0075\n",
      "Epoch 61/100\n",
      "3/3 [==============================] - 0s 25ms/step - loss: 0.0025 - val_loss: 0.0073\n",
      "Epoch 62/100\n",
      "3/3 [==============================] - 0s 25ms/step - loss: 0.0025 - val_loss: 0.0073\n",
      "Epoch 63/100\n",
      "3/3 [==============================] - 0s 24ms/step - loss: 0.0025 - val_loss: 0.0076\n",
      "Epoch 64/100\n",
      "3/3 [==============================] - 0s 24ms/step - loss: 0.0025 - val_loss: 0.0077\n",
      "Epoch 65/100\n",
      "3/3 [==============================] - 0s 24ms/step - loss: 0.0025 - val_loss: 0.0076\n",
      "Epoch 66/100\n",
      "3/3 [==============================] - 0s 24ms/step - loss: 0.0025 - val_loss: 0.0072\n",
      "Epoch 67/100\n",
      "3/3 [==============================] - 0s 25ms/step - loss: 0.0025 - val_loss: 0.0070\n",
      "Epoch 68/100\n",
      "3/3 [==============================] - 0s 23ms/step - loss: 0.0025 - val_loss: 0.0070\n",
      "Epoch 69/100\n",
      "3/3 [==============================] - 0s 24ms/step - loss: 0.0024 - val_loss: 0.0073\n",
      "Epoch 70/100\n",
      "3/3 [==============================] - 0s 24ms/step - loss: 0.0025 - val_loss: 0.0074\n",
      "Epoch 71/100\n",
      "3/3 [==============================] - 0s 33ms/step - loss: 0.0025 - val_loss: 0.0069\n",
      "Epoch 72/100\n",
      "3/3 [==============================] - 0s 25ms/step - loss: 0.0025 - val_loss: 0.0068\n",
      "Epoch 73/100\n",
      "3/3 [==============================] - 0s 24ms/step - loss: 0.0025 - val_loss: 0.0071\n",
      "Epoch 74/100\n",
      "3/3 [==============================] - 0s 24ms/step - loss: 0.0025 - val_loss: 0.0071\n",
      "Epoch 75/100\n",
      "3/3 [==============================] - 0s 24ms/step - loss: 0.0025 - val_loss: 0.0067\n",
      "Epoch 76/100\n",
      "3/3 [==============================] - 0s 25ms/step - loss: 0.0025 - val_loss: 0.0068\n",
      "Epoch 77/100\n",
      "3/3 [==============================] - 0s 24ms/step - loss: 0.0025 - val_loss: 0.0069\n",
      "Epoch 78/100\n",
      "3/3 [==============================] - 0s 25ms/step - loss: 0.0025 - val_loss: 0.0073\n",
      "Epoch 79/100\n",
      "3/3 [==============================] - 0s 34ms/step - loss: 0.0024 - val_loss: 0.0070\n",
      "Epoch 80/100\n",
      "3/3 [==============================] - 0s 24ms/step - loss: 0.0024 - val_loss: 0.0070\n",
      "Epoch 81/100\n",
      "3/3 [==============================] - 0s 24ms/step - loss: 0.0024 - val_loss: 0.0072\n",
      "Epoch 82/100\n",
      "3/3 [==============================] - 0s 24ms/step - loss: 0.0024 - val_loss: 0.0071\n",
      "Epoch 83/100\n",
      "3/3 [==============================] - 0s 24ms/step - loss: 0.0024 - val_loss: 0.0069\n",
      "Epoch 84/100\n",
      "3/3 [==============================] - 0s 25ms/step - loss: 0.0024 - val_loss: 0.0067\n",
      "Epoch 85/100\n",
      "3/3 [==============================] - 0s 24ms/step - loss: 0.0024 - val_loss: 0.0066\n",
      "Epoch 86/100\n",
      "3/3 [==============================] - 0s 24ms/step - loss: 0.0025 - val_loss: 0.0065\n",
      "Epoch 87/100\n",
      "3/3 [==============================] - 0s 25ms/step - loss: 0.0024 - val_loss: 0.0062\n",
      "Epoch 88/100\n",
      "3/3 [==============================] - 0s 24ms/step - loss: 0.0025 - val_loss: 0.0062\n",
      "Epoch 89/100\n",
      "3/3 [==============================] - 0s 27ms/step - loss: 0.0025 - val_loss: 0.0066\n",
      "Epoch 90/100\n",
      "3/3 [==============================] - 0s 24ms/step - loss: 0.0024 - val_loss: 0.0065\n",
      "Epoch 91/100\n",
      "3/3 [==============================] - 0s 22ms/step - loss: 0.0024 - val_loss: 0.0063\n",
      "Epoch 92/100\n",
      "3/3 [==============================] - 0s 24ms/step - loss: 0.0024 - val_loss: 0.0064\n",
      "Epoch 93/100\n",
      "3/3 [==============================] - 0s 24ms/step - loss: 0.0024 - val_loss: 0.0065\n",
      "Epoch 94/100\n",
      "3/3 [==============================] - 0s 24ms/step - loss: 0.0024 - val_loss: 0.0069\n",
      "Epoch 95/100\n",
      "3/3 [==============================] - 0s 24ms/step - loss: 0.0025 - val_loss: 0.0068\n",
      "Epoch 96/100\n",
      "3/3 [==============================] - 0s 37ms/step - loss: 0.0024 - val_loss: 0.0063\n",
      "Epoch 97/100\n",
      "3/3 [==============================] - 0s 24ms/step - loss: 0.0024 - val_loss: 0.0061\n",
      "Epoch 98/100\n",
      "3/3 [==============================] - 0s 24ms/step - loss: 0.0024 - val_loss: 0.0064\n",
      "Epoch 99/100\n",
      "3/3 [==============================] - 0s 23ms/step - loss: 0.0024 - val_loss: 0.0063\n",
      "Epoch 100/100\n",
      "3/3 [==============================] - 0s 24ms/step - loss: 0.0025 - val_loss: 0.0062\n"
     ]
    },
    {
     "data": {
      "text/plain": [
       "<keras.callbacks.History at 0x1e9004dca50>"
      ]
     },
     "execution_count": 27,
     "metadata": {},
     "output_type": "execute_result"
    }
   ],
   "source": [
    "model.fit(X_train,y_train,validation_data=(X_test,ytest),epochs=100,batch_size=64,verbose=1)"
   ]
  },
  {
   "cell_type": "code",
   "execution_count": 28,
   "metadata": {},
   "outputs": [],
   "source": [
    "import tensorflow as tf"
   ]
  },
  {
   "cell_type": "code",
   "execution_count": 29,
   "metadata": {},
   "outputs": [
    {
     "data": {
      "text/plain": [
       "'2.12.0-rc1'"
      ]
     },
     "execution_count": 29,
     "metadata": {},
     "output_type": "execute_result"
    }
   ],
   "source": [
    "tf.__version__"
   ]
  },
  {
   "cell_type": "code",
   "execution_count": 30,
   "metadata": {},
   "outputs": [
    {
     "name": "stdout",
     "output_type": "stream",
     "text": [
      "5/5 [==============================] - 1s 6ms/step\n",
      "3/3 [==============================] - 0s 4ms/step\n"
     ]
    }
   ],
   "source": [
    "### Lets Do the prediction and check performance metrics\n",
    "train_predict=model.predict(X_train)\n",
    "test_predict=model.predict(X_test)"
   ]
  },
  {
   "cell_type": "code",
   "execution_count": 31,
   "metadata": {},
   "outputs": [],
   "source": [
    "##Transformback to original form\n",
    "train_predict=scaler.inverse_transform(train_predict)\n",
    "test_predict=scaler.inverse_transform(test_predict)"
   ]
  },
  {
   "cell_type": "code",
   "execution_count": 32,
   "metadata": {},
   "outputs": [
    {
     "data": {
      "text/plain": [
       "676.9697861862724"
      ]
     },
     "execution_count": 32,
     "metadata": {},
     "output_type": "execute_result"
    }
   ],
   "source": [
    "### Calculate RMSE performance metrics\n",
    "import math\n",
    "from sklearn.metrics import mean_squared_error\n",
    "math.sqrt(mean_squared_error(y_train,train_predict))"
   ]
  },
  {
   "cell_type": "code",
   "execution_count": 33,
   "metadata": {},
   "outputs": [
    {
     "data": {
      "text/plain": [
       "626.1870539541848"
      ]
     },
     "execution_count": 33,
     "metadata": {},
     "output_type": "execute_result"
    }
   ],
   "source": [
    "### Test Data RMSE\n",
    "math.sqrt(mean_squared_error(ytest,test_predict))"
   ]
  },
  {
   "cell_type": "code",
   "execution_count": 34,
   "metadata": {},
   "outputs": [
    {
     "data": {
      "image/png": "[encoded data removed]",
      "text/plain": [
       "<Figure size 640x480 with 1 Axes>"
      ]
     },
     "metadata": {},
     "output_type": "display_data"
    }
   ],
   "source": [
    "# ### Plotting \n",
    "# # shift train predictions for plotting\n",
    "# look_back=100\n",
    "# trainPredictPlot = numpy.empty_like(df1)\n",
    "# trainPredictPlot[:, :] = np.nan\n",
    "# trainPredictPlot[look_back:len(train_predict)+look_back, :] = train_predict\n",
    "# # shift test predictions for plotting\n",
    "# testPredictPlot = numpy.empty_like(df1)\n",
    "# testPredictPlot[:, :] = numpy.nan\n",
    "# testPredictPlot[len(train_predict)+(look_back*2)+1:len(df1)-1, :] = test_predict\n",
    "# # plot baseline and predictions\n",
    "# plt.plot(scaler.inverse_transform(df1))\n",
    "# plt.plot(trainPredictPlot)\n",
    "# plt.plot(testPredictPlot)\n",
    "# plt.show()\n",
    "### Plotting \n",
    "# shift train predictions for plotting\n",
    "# shift train predictions for plotting\n",
    "look_back = 3\n",
    "trainPredictPlot = np.full((len(df1), 1), np.nan)\n",
    "train_predict_len = len(X_train) - look_back\n",
    "trainPredictPlot[look_back:look_back+train_predict_len, :] = train_predict[:train_predict_len]\n",
    "# shift test predictions for plotting\n",
    "testPredictPlot = np.full((len(df1), 1), np.nan)\n",
    "testPredictPlot[len(train_predict)+(look_back*2)+1:len(df1)-1, :] = np.resize(test_predict, (max(0, (len(df1)-1)-(len(train_predict)+(look_back*2)+1)), 1))\n",
    "\n",
    "# plot baseline and predictions\n",
    "plt.plot(scaler.inverse_transform(df1))\n",
    "plt.plot(trainPredictPlot)\n",
    "plt.plot(testPredictPlot)\n",
    "plt.show()\n",
    "\n",
    "\n",
    "\n",
    "\n"
   ]
  },
  {
   "cell_type": "code",
   "execution_count": 35,
   "metadata": {},
   "outputs": [
    {
     "data": {
      "text/plain": [
       "85"
      ]
     },
     "execution_count": 35,
     "metadata": {},
     "output_type": "execute_result"
    }
   ],
   "source": [
    "len(test_data)"
   ]
  },
  {
   "cell_type": "code",
   "execution_count": 45,
   "metadata": {},
   "outputs": [
    {
     "data": {
      "text/plain": [
       "(1, 3)"
      ]
     },
     "execution_count": 45,
     "metadata": {},
     "output_type": "execute_result"
    }
   ],
   "source": [
    "x_input=test_data[82:].reshape(1,-1)\n",
    "x_input.shape\n"
   ]
  },
  {
   "cell_type": "code",
   "execution_count": 46,
   "metadata": {},
   "outputs": [],
   "source": [
    "temp_input=list(x_input)\n",
    "temp_input=temp_input[0].tolist()"
   ]
  },
  {
   "cell_type": "code",
   "execution_count": 47,
   "metadata": {},
   "outputs": [
    {
     "data": {
      "text/plain": [
       "[0.05660377358490565, 0.05979691326877723, 0.08185780031068579]"
      ]
     },
     "execution_count": 47,
     "metadata": {},
     "output_type": "execute_result"
    }
   ],
   "source": [
    "temp_input"
   ]
  },
  {
   "cell_type": "code",
   "execution_count": 48,
   "metadata": {},
   "outputs": [
    {
     "name": "stdout",
     "output_type": "stream",
     "text": [
      "[0.1470226]\n",
      "4\n",
      "1 day input [0.05979691 0.0818578  0.1470226 ]\n",
      "1 day output [[0.15706913]]\n",
      "2 day input [0.0818578  0.1470226  0.15706913]\n",
      "2 day output [[0.17933972]]\n",
      "3 day input [0.1470226  0.15706913 0.17933972]\n",
      "3 day output [[0.20857193]]\n",
      "4 day input [0.15706913 0.17933972 0.20857193]\n",
      "4 day output [[0.21953629]]\n",
      "5 day input [0.17933972 0.20857193 0.21953629]\n",
      "5 day output [[0.23572211]]\n",
      "6 day input [0.20857193 0.21953629 0.23572211]\n",
      "6 day output [[0.25142142]]\n",
      "7 day input [0.21953629 0.23572211 0.25142142]\n",
      "7 day output [[0.2608469]]\n",
      "8 day input [0.23572211 0.25142142 0.26084691]\n",
      "8 day output [[0.27194694]]\n",
      "9 day input [0.25142142 0.26084691 0.27194694]\n",
      "9 day output [[0.28165781]]\n",
      "[[0.14702260494232178], [0.157069131731987], [0.1793397217988968], [0.2085719257593155], [0.21953628957271576], [0.2357221096754074], [0.25142142176628113], [0.26084691286087036], [0.2719469368457794], [0.2816578149795532]]\n"
     ]
    }
   ],
   "source": [
    "# demonstrate prediction for next 10 days\n",
    "from numpy import array\n",
    "\n",
    "lst_output=[]\n",
    "n_steps=3\n",
    "i=0\n",
    "while(i<10):\n",
    "    \n",
    "    if(len(temp_input)>3):\n",
    "        #print(temp_input)\n",
    "        x_input=np.array(temp_input[1:])\n",
    "        print(\"{} day input {}\".format(i,x_input))\n",
    "        x_input=x_input.reshape(1,-1)\n",
    "        x_input = x_input.reshape((1, n_steps, 1))\n",
    "        #print(x_input)\n",
    "        yhat = model.predict(x_input, verbose=0)\n",
    "        print(\"{} day output {}\".format(i,yhat))\n",
    "        temp_input.extend(yhat[0].tolist())\n",
    "        temp_input=temp_input[1:]\n",
    "        #print(temp_input)\n",
    "        lst_output.extend(yhat.tolist())\n",
    "        i=i+1\n",
    "    else:\n",
    "        x_input = x_input.reshape((1, n_steps,1))\n",
    "        yhat = model.predict(x_input, verbose=0)\n",
    "        print(yhat[0])\n",
    "        temp_input.extend(yhat[0].tolist())\n",
    "        print(len(temp_input))\n",
    "        lst_output.extend(yhat.tolist())\n",
    "        i=i+1\n",
    "    \n",
    "\n",
    "print(lst_output)\n",
    "\n"
   ]
  },
  {
   "cell_type": "code",
   "execution_count": 49,
   "metadata": {},
   "outputs": [],
   "source": [
    "# day_new=np.arange(1,101)\n",
    "# day_pred=np.arange(101,131)\n",
    "day_new = np.arange(1, 4)\n",
    "day_pred = np.arange(4, 14)"
   ]
  },
  {
   "cell_type": "code",
   "execution_count": 50,
   "metadata": {},
   "outputs": [],
   "source": [
    "import matplotlib.pyplot as plt"
   ]
  },
  {
   "cell_type": "code",
   "execution_count": 51,
   "metadata": {},
   "outputs": [
    {
     "data": {
      "text/plain": [
       "241"
      ]
     },
     "execution_count": 51,
     "metadata": {},
     "output_type": "execute_result"
    }
   ],
   "source": [
    "len(df1)\n"
   ]
  },
  {
   "cell_type": "code",
   "execution_count": 54,
   "metadata": {},
   "outputs": [
    {
     "data": {
      "text/plain": [
       "[<matplotlib.lines.Line2D at 0x1e90e0b6f10>]"
      ]
     },
     "execution_count": 54,
     "metadata": {},
     "output_type": "execute_result"
    },
    {
     "data": {
      "image/png": "[encoded data removed]",
      "text/plain": [
       "<Figure size 640x480 with 1 Axes>"
      ]
     },
     "metadata": {},
     "output_type": "display_data"
    }
   ],
   "source": [
    "# plt.plot(day_new,scaler.inverse_transform(df1[1158:]))\n",
    "# plt.plot(day_pred,scaler.inverse_transform(lst_output))\n",
    "plt.plot(day_new, scaler.inverse_transform(df1[238:]))\n",
    "plt.plot(day_pred, scaler.inverse_transform(lst_output))\n"
   ]
  },
  {
   "cell_type": "code",
   "execution_count": 55,
   "metadata": {},
   "outputs": [
    {
     "data": {
      "text/plain": [
       "[<matplotlib.lines.Line2D at 0x1e90e0ed490>]"
      ]
     },
     "execution_count": 55,
     "metadata": {},
     "output_type": "execute_result"
    },
    {
     "data": {
      "image/png": "[encoded data removed]",
      "text/plain": [
       "<Figure size 640x480 with 1 Axes>"
      ]
     },
     "metadata": {},
     "output_type": "display_data"
    }
   ],
   "source": [
    "df3=df1.tolist()\n",
    "df3.extend(lst_output)\n",
    "plt.plot(df3[1:])"
   ]
  },
  {
   "cell_type": "code",
   "execution_count": 56,
   "metadata": {},
   "outputs": [],
   "source": [
    "df3=scaler.inverse_transform(df3).tolist()"
   ]
  },
  {
   "cell_type": "code",
   "execution_count": 57,
   "metadata": {},
   "outputs": [
    {
     "data": {
      "text/plain": [
       "[<matplotlib.lines.Line2D at 0x1e90e371410>]"
      ]
     },
     "execution_count": 57,
     "metadata": {},
     "output_type": "execute_result"
    },
    {
     "data": {
      "image/png": "[encoded data removed]",
      "text/plain": [
       "<Figure size 640x480 with 1 Axes>"
      ]
     },
     "metadata": {},
     "output_type": "display_data"
    }
   ],
   "source": [
    "plt.plot(df3)"
   ]
  }
 ],
 "metadata": {
  "kernelspec": {
   "display_name": "Python 3",
   "language": "python",
   "name": "python3"
  },
  "language_info": {
   "codemirror_mode": {
    "name": "ipython",
    "version": 3
   },
   "file_extension": ".py",
   "mimetype": "text/x-python",
   "name": "python",
   "nbconvert_exporter": "python",
   "pygments_lexer": "ipython3",
   "version": "3.11.2"
  },
  "vscode": {
   "interpreter": {
    "hash": "1f6a27bcfbe46a917dbd192f4a82657396dda26148bae633192e8d28c70725f1"
   }
  }
 },
 "nbformat": 4,
 "nbformat_minor": 2
}
