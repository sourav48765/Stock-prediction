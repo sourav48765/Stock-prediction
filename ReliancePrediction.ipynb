{
 "cells": [
  {
   "cell_type": "markdown",
   "metadata": {},
   "source": [
    "### Stock Market Prediction And Forecasting Using Stacked LSTM"
   ]
  },
  {
   "cell_type": "code",
   "execution_count": 1,
   "metadata": {},
   "outputs": [],
   "source": [
    "### Keras and Tensorflow >2.0"
   ]
  },
  {
   "cell_type": "code",
   "execution_count": 1,
   "metadata": {},
   "outputs": [
    {
     "name": "stdout",
     "output_type": "stream",
     "text": [
      "[*********************100%***********************]  1 of 1 completed\n"
     ]
    }
   ],
   "source": [
    "import pandas as pd\n",
    "from pandas_datareader import data as pdr\n",
    "import yfinance as yf\n",
    "\n",
    "yf.pdr_override()\n",
    "\n",
    "df = pdr.get_data_yahoo(\"LICI.NS\")"
   ]
  },
  {
   "cell_type": "code",
   "execution_count": 2,
   "metadata": {},
   "outputs": [
    {
     "data": {
      "text/html": [
       "<div>\n",
       "<style scoped>\n",
       "    .dataframe tbody tr th:only-of-type {\n",
       "        vertical-align: middle;\n",
       "    }\n",
       "\n",
       "    .dataframe tbody tr th {\n",
       "        vertical-align: top;\n",
       "    }\n",
       "\n",
       "    .dataframe thead th {\n",
       "        text-align: right;\n",
       "    }\n",
       "</style>\n",
       "<table border=\"1\" class=\"dataframe\">\n",
       "  <thead>\n",
       "    <tr style=\"text-align: right;\">\n",
       "      <th></th>\n",
       "      <th>Open</th>\n",
       "      <th>High</th>\n",
       "      <th>Low</th>\n",
       "      <th>Close</th>\n",
       "      <th>Adj Close</th>\n",
       "      <th>Volume</th>\n",
       "    </tr>\n",
       "    <tr>\n",
       "      <th>Date</th>\n",
       "      <th></th>\n",
       "      <th></th>\n",
       "      <th></th>\n",
       "      <th></th>\n",
       "      <th></th>\n",
       "      <th></th>\n",
       "    </tr>\n",
       "  </thead>\n",
       "  <tbody>\n",
       "    <tr>\n",
       "      <th>2022-05-17</th>\n",
       "      <td>872.000000</td>\n",
       "      <td>918.950012</td>\n",
       "      <td>860.000000</td>\n",
       "      <td>875.250000</td>\n",
       "      <td>865.802429</td>\n",
       "      <td>48792877</td>\n",
       "    </tr>\n",
       "    <tr>\n",
       "      <th>2022-05-18</th>\n",
       "      <td>885.549988</td>\n",
       "      <td>891.000000</td>\n",
       "      <td>874.099976</td>\n",
       "      <td>876.349976</td>\n",
       "      <td>866.890564</td>\n",
       "      <td>8919761</td>\n",
       "    </tr>\n",
       "    <tr>\n",
       "      <th>2022-05-19</th>\n",
       "      <td>867.000000</td>\n",
       "      <td>867.000000</td>\n",
       "      <td>838.000000</td>\n",
       "      <td>840.849976</td>\n",
       "      <td>831.773743</td>\n",
       "      <td>7372427</td>\n",
       "    </tr>\n",
       "    <tr>\n",
       "      <th>2022-05-20</th>\n",
       "      <td>848.549988</td>\n",
       "      <td>856.799988</td>\n",
       "      <td>825.000000</td>\n",
       "      <td>826.150024</td>\n",
       "      <td>817.232422</td>\n",
       "      <td>7078291</td>\n",
       "    </tr>\n",
       "    <tr>\n",
       "      <th>2022-05-23</th>\n",
       "      <td>826.150024</td>\n",
       "      <td>852.700012</td>\n",
       "      <td>803.650024</td>\n",
       "      <td>816.849976</td>\n",
       "      <td>808.032776</td>\n",
       "      <td>12444648</td>\n",
       "    </tr>\n",
       "    <tr>\n",
       "      <th>...</th>\n",
       "      <td>...</td>\n",
       "      <td>...</td>\n",
       "      <td>...</td>\n",
       "      <td>...</td>\n",
       "      <td>...</td>\n",
       "      <td>...</td>\n",
       "    </tr>\n",
       "    <tr>\n",
       "      <th>2024-03-26</th>\n",
       "      <td>909.099976</td>\n",
       "      <td>918.000000</td>\n",
       "      <td>892.200012</td>\n",
       "      <td>897.450012</td>\n",
       "      <td>897.450012</td>\n",
       "      <td>3883441</td>\n",
       "    </tr>\n",
       "    <tr>\n",
       "      <th>2024-03-27</th>\n",
       "      <td>900.950012</td>\n",
       "      <td>913.000000</td>\n",
       "      <td>888.950012</td>\n",
       "      <td>892.500000</td>\n",
       "      <td>892.500000</td>\n",
       "      <td>7788410</td>\n",
       "    </tr>\n",
       "    <tr>\n",
       "      <th>2024-03-28</th>\n",
       "      <td>902.650024</td>\n",
       "      <td>928.000000</td>\n",
       "      <td>901.750000</td>\n",
       "      <td>916.150024</td>\n",
       "      <td>916.150024</td>\n",
       "      <td>4191452</td>\n",
       "    </tr>\n",
       "    <tr>\n",
       "      <th>2024-04-01</th>\n",
       "      <td>925.000000</td>\n",
       "      <td>984.450012</td>\n",
       "      <td>924.000000</td>\n",
       "      <td>970.599976</td>\n",
       "      <td>970.599976</td>\n",
       "      <td>4863536</td>\n",
       "    </tr>\n",
       "    <tr>\n",
       "      <th>2024-04-02</th>\n",
       "      <td>972.650024</td>\n",
       "      <td>1001.799988</td>\n",
       "      <td>961.299988</td>\n",
       "      <td>998.400024</td>\n",
       "      <td>998.400024</td>\n",
       "      <td>5915915</td>\n",
       "    </tr>\n",
       "  </tbody>\n",
       "</table>\n",
       "<p>465 rows × 6 columns</p>\n",
       "</div>"
      ],
      "text/plain": [
       "                  Open         High         Low       Close   Adj Close  \\\n",
       "Date                                                                      \n",
       "2022-05-17  872.000000   918.950012  860.000000  875.250000  865.802429   \n",
       "2022-05-18  885.549988   891.000000  874.099976  876.349976  866.890564   \n",
       "2022-05-19  867.000000   867.000000  838.000000  840.849976  831.773743   \n",
       "2022-05-20  848.549988   856.799988  825.000000  826.150024  817.232422   \n",
       "2022-05-23  826.150024   852.700012  803.650024  816.849976  808.032776   \n",
       "...                ...          ...         ...         ...         ...   \n",
       "2024-03-26  909.099976   918.000000  892.200012  897.450012  897.450012   \n",
       "2024-03-27  900.950012   913.000000  888.950012  892.500000  892.500000   \n",
       "2024-03-28  902.650024   928.000000  901.750000  916.150024  916.150024   \n",
       "2024-04-01  925.000000   984.450012  924.000000  970.599976  970.599976   \n",
       "2024-04-02  972.650024  1001.799988  961.299988  998.400024  998.400024   \n",
       "\n",
       "              Volume  \n",
       "Date                  \n",
       "2022-05-17  48792877  \n",
       "2022-05-18   8919761  \n",
       "2022-05-19   7372427  \n",
       "2022-05-20   7078291  \n",
       "2022-05-23  12444648  \n",
       "...              ...  \n",
       "2024-03-26   3883441  \n",
       "2024-03-27   7788410  \n",
       "2024-03-28   4191452  \n",
       "2024-04-01   4863536  \n",
       "2024-04-02   5915915  \n",
       "\n",
       "[465 rows x 6 columns]"
      ]
     },
     "execution_count": 2,
     "metadata": {},
     "output_type": "execute_result"
    }
   ],
   "source": [
    "df"
   ]
  },
  {
   "cell_type": "code",
   "execution_count": 3,
   "metadata": {},
   "outputs": [
    {
     "data": {
      "text/html": [
       "<div>\n",
       "<style scoped>\n",
       "    .dataframe tbody tr th:only-of-type {\n",
       "        vertical-align: middle;\n",
       "    }\n",
       "\n",
       "    .dataframe tbody tr th {\n",
       "        vertical-align: top;\n",
       "    }\n",
       "\n",
       "    .dataframe thead th {\n",
       "        text-align: right;\n",
       "    }\n",
       "</style>\n",
       "<table border=\"1\" class=\"dataframe\">\n",
       "  <thead>\n",
       "    <tr style=\"text-align: right;\">\n",
       "      <th></th>\n",
       "      <th>Open</th>\n",
       "      <th>High</th>\n",
       "      <th>Low</th>\n",
       "      <th>Close</th>\n",
       "      <th>Adj Close</th>\n",
       "      <th>Volume</th>\n",
       "    </tr>\n",
       "    <tr>\n",
       "      <th>Date</th>\n",
       "      <th></th>\n",
       "      <th></th>\n",
       "      <th></th>\n",
       "      <th></th>\n",
       "      <th></th>\n",
       "      <th></th>\n",
       "    </tr>\n",
       "  </thead>\n",
       "  <tbody>\n",
       "    <tr>\n",
       "      <th>2022-05-17</th>\n",
       "      <td>872.000000</td>\n",
       "      <td>918.950012</td>\n",
       "      <td>860.000000</td>\n",
       "      <td>875.250000</td>\n",
       "      <td>865.802429</td>\n",
       "      <td>48792877</td>\n",
       "    </tr>\n",
       "    <tr>\n",
       "      <th>2022-05-18</th>\n",
       "      <td>885.549988</td>\n",
       "      <td>891.000000</td>\n",
       "      <td>874.099976</td>\n",
       "      <td>876.349976</td>\n",
       "      <td>866.890564</td>\n",
       "      <td>8919761</td>\n",
       "    </tr>\n",
       "    <tr>\n",
       "      <th>2022-05-19</th>\n",
       "      <td>867.000000</td>\n",
       "      <td>867.000000</td>\n",
       "      <td>838.000000</td>\n",
       "      <td>840.849976</td>\n",
       "      <td>831.773743</td>\n",
       "      <td>7372427</td>\n",
       "    </tr>\n",
       "    <tr>\n",
       "      <th>2022-05-20</th>\n",
       "      <td>848.549988</td>\n",
       "      <td>856.799988</td>\n",
       "      <td>825.000000</td>\n",
       "      <td>826.150024</td>\n",
       "      <td>817.232422</td>\n",
       "      <td>7078291</td>\n",
       "    </tr>\n",
       "    <tr>\n",
       "      <th>2022-05-23</th>\n",
       "      <td>826.150024</td>\n",
       "      <td>852.700012</td>\n",
       "      <td>803.650024</td>\n",
       "      <td>816.849976</td>\n",
       "      <td>808.032776</td>\n",
       "      <td>12444648</td>\n",
       "    </tr>\n",
       "  </tbody>\n",
       "</table>\n",
       "</div>"
      ],
      "text/plain": [
       "                  Open        High         Low       Close   Adj Close  \\\n",
       "Date                                                                     \n",
       "2022-05-17  872.000000  918.950012  860.000000  875.250000  865.802429   \n",
       "2022-05-18  885.549988  891.000000  874.099976  876.349976  866.890564   \n",
       "2022-05-19  867.000000  867.000000  838.000000  840.849976  831.773743   \n",
       "2022-05-20  848.549988  856.799988  825.000000  826.150024  817.232422   \n",
       "2022-05-23  826.150024  852.700012  803.650024  816.849976  808.032776   \n",
       "\n",
       "              Volume  \n",
       "Date                  \n",
       "2022-05-17  48792877  \n",
       "2022-05-18   8919761  \n",
       "2022-05-19   7372427  \n",
       "2022-05-20   7078291  \n",
       "2022-05-23  12444648  "
      ]
     },
     "execution_count": 3,
     "metadata": {},
     "output_type": "execute_result"
    }
   ],
   "source": [
    "df.head()"
   ]
  },
  {
   "cell_type": "code",
   "execution_count": 4,
   "metadata": {},
   "outputs": [
    {
     "data": {
      "text/html": [
       "<div>\n",
       "<style scoped>\n",
       "    .dataframe tbody tr th:only-of-type {\n",
       "        vertical-align: middle;\n",
       "    }\n",
       "\n",
       "    .dataframe tbody tr th {\n",
       "        vertical-align: top;\n",
       "    }\n",
       "\n",
       "    .dataframe thead th {\n",
       "        text-align: right;\n",
       "    }\n",
       "</style>\n",
       "<table border=\"1\" class=\"dataframe\">\n",
       "  <thead>\n",
       "    <tr style=\"text-align: right;\">\n",
       "      <th></th>\n",
       "      <th>Open</th>\n",
       "      <th>High</th>\n",
       "      <th>Low</th>\n",
       "      <th>Close</th>\n",
       "      <th>Adj Close</th>\n",
       "      <th>Volume</th>\n",
       "    </tr>\n",
       "    <tr>\n",
       "      <th>Date</th>\n",
       "      <th></th>\n",
       "      <th></th>\n",
       "      <th></th>\n",
       "      <th></th>\n",
       "      <th></th>\n",
       "      <th></th>\n",
       "    </tr>\n",
       "  </thead>\n",
       "  <tbody>\n",
       "    <tr>\n",
       "      <th>2024-03-26</th>\n",
       "      <td>909.099976</td>\n",
       "      <td>918.000000</td>\n",
       "      <td>892.200012</td>\n",
       "      <td>897.450012</td>\n",
       "      <td>897.450012</td>\n",
       "      <td>3883441</td>\n",
       "    </tr>\n",
       "    <tr>\n",
       "      <th>2024-03-27</th>\n",
       "      <td>900.950012</td>\n",
       "      <td>913.000000</td>\n",
       "      <td>888.950012</td>\n",
       "      <td>892.500000</td>\n",
       "      <td>892.500000</td>\n",
       "      <td>7788410</td>\n",
       "    </tr>\n",
       "    <tr>\n",
       "      <th>2024-03-28</th>\n",
       "      <td>902.650024</td>\n",
       "      <td>928.000000</td>\n",
       "      <td>901.750000</td>\n",
       "      <td>916.150024</td>\n",
       "      <td>916.150024</td>\n",
       "      <td>4191452</td>\n",
       "    </tr>\n",
       "    <tr>\n",
       "      <th>2024-04-01</th>\n",
       "      <td>925.000000</td>\n",
       "      <td>984.450012</td>\n",
       "      <td>924.000000</td>\n",
       "      <td>970.599976</td>\n",
       "      <td>970.599976</td>\n",
       "      <td>4863536</td>\n",
       "    </tr>\n",
       "    <tr>\n",
       "      <th>2024-04-02</th>\n",
       "      <td>972.650024</td>\n",
       "      <td>1001.799988</td>\n",
       "      <td>961.299988</td>\n",
       "      <td>998.400024</td>\n",
       "      <td>998.400024</td>\n",
       "      <td>5915915</td>\n",
       "    </tr>\n",
       "  </tbody>\n",
       "</table>\n",
       "</div>"
      ],
      "text/plain": [
       "                  Open         High         Low       Close   Adj Close  \\\n",
       "Date                                                                      \n",
       "2024-03-26  909.099976   918.000000  892.200012  897.450012  897.450012   \n",
       "2024-03-27  900.950012   913.000000  888.950012  892.500000  892.500000   \n",
       "2024-03-28  902.650024   928.000000  901.750000  916.150024  916.150024   \n",
       "2024-04-01  925.000000   984.450012  924.000000  970.599976  970.599976   \n",
       "2024-04-02  972.650024  1001.799988  961.299988  998.400024  998.400024   \n",
       "\n",
       "             Volume  \n",
       "Date                 \n",
       "2024-03-26  3883441  \n",
       "2024-03-27  7788410  \n",
       "2024-03-28  4191452  \n",
       "2024-04-01  4863536  \n",
       "2024-04-02  5915915  "
      ]
     },
     "execution_count": 4,
     "metadata": {},
     "output_type": "execute_result"
    }
   ],
   "source": [
    "df.tail()"
   ]
  },
  {
   "cell_type": "code",
   "execution_count": 5,
   "metadata": {},
   "outputs": [],
   "source": [
    "df1=df.reset_index()['Close']"
   ]
  },
  {
   "cell_type": "code",
   "execution_count": 6,
   "metadata": {},
   "outputs": [
    {
     "data": {
      "text/plain": [
       "0      875.250000\n",
       "1      876.349976\n",
       "2      840.849976\n",
       "3      826.150024\n",
       "4      816.849976\n",
       "          ...    \n",
       "460    897.450012\n",
       "461    892.500000\n",
       "462    916.150024\n",
       "463    970.599976\n",
       "464    998.400024\n",
       "Name: Close, Length: 465, dtype: float64"
      ]
     },
     "execution_count": 6,
     "metadata": {},
     "output_type": "execute_result"
    }
   ],
   "source": [
    "df1"
   ]
  },
  {
   "cell_type": "code",
   "execution_count": 7,
   "metadata": {},
   "outputs": [
    {
     "data": {
      "text/plain": [
       "[<matplotlib.lines.Line2D at 0x1d41b00e210>]"
      ]
     },
     "execution_count": 7,
     "metadata": {},
     "output_type": "execute_result"
    },
    {
     "data": {
      "image/png": "[encoded data removed]",
      "text/plain": [
       "<Figure size 640x480 with 1 Axes>"
      ]
     },
     "metadata": {},
     "output_type": "display_data"
    }
   ],
   "source": [
    "import matplotlib.pyplot as plt\n",
    "plt.plot(df1)"
   ]
  },
  {
   "cell_type": "code",
   "execution_count": 8,
   "metadata": {},
   "outputs": [],
   "source": [
    "### LSTM are sensitive to the scale of the data. so we apply MinMax scaler "
   ]
  },
  {
   "cell_type": "code",
   "execution_count": 9,
   "metadata": {},
   "outputs": [],
   "source": [
    "import numpy as np"
   ]
  },
  {
   "cell_type": "code",
   "execution_count": 10,
   "metadata": {},
   "outputs": [
    {
     "data": {
      "text/plain": [
       "0      875.250000\n",
       "1      876.349976\n",
       "2      840.849976\n",
       "3      826.150024\n",
       "4      816.849976\n",
       "          ...    \n",
       "460    897.450012\n",
       "461    892.500000\n",
       "462    916.150024\n",
       "463    970.599976\n",
       "464    998.400024\n",
       "Name: Close, Length: 465, dtype: float64"
      ]
     },
     "execution_count": 10,
     "metadata": {},
     "output_type": "execute_result"
    }
   ],
   "source": [
    "df1"
   ]
  },
  {
   "cell_type": "code",
   "execution_count": 11,
   "metadata": {},
   "outputs": [],
   "source": [
    "from sklearn.preprocessing import MinMaxScaler\n",
    "scaler=MinMaxScaler(feature_range=(0,1))\n",
    "df1=scaler.fit_transform(np.array(df1).reshape(-1,1))"
   ]
  },
  {
   "cell_type": "code",
   "execution_count": 12,
   "metadata": {},
   "outputs": [
    {
     "name": "stdout",
     "output_type": "stream",
     "text": [
      "[[0.59888387]\n",
      " [0.60080221]\n",
      " [0.5388908 ]\n",
      " [0.51325434]\n",
      " [0.49703521]\n",
      " [0.5079351 ]\n",
      " [0.50305197]\n",
      " [0.48796658]\n",
      " [0.50531913]\n",
      " [0.5334845 ]\n",
      " [0.48735612]\n",
      " [0.4857866 ]\n",
      " [0.47758986]\n",
      " [0.46808513]\n",
      " [0.42814787]\n",
      " [0.38568192]\n",
      " [0.35960935]\n",
      " [0.33109527]\n",
      " [0.31016747]\n",
      " [0.23787935]\n",
      " [0.24843043]\n",
      " [0.27607262]\n",
      " [0.23979769]\n",
      " [0.21398676]\n",
      " [0.22593311]\n",
      " [0.23256022]\n",
      " [0.2384897 ]\n",
      " [0.23247304]\n",
      " [0.2263691 ]\n",
      " [0.23186259]\n",
      " [0.22933379]\n",
      " [0.25575518]\n",
      " [0.2477329 ]\n",
      " [0.25252885]\n",
      " [0.27982212]\n",
      " [0.29787241]\n",
      " [0.29839559]\n",
      " [0.28985003]\n",
      " [0.30737704]\n",
      " [0.32499133]\n",
      " [0.32394488]\n",
      " [0.32612486]\n",
      " [0.31470179]\n",
      " [0.30807467]\n",
      " [0.28714687]\n",
      " [0.27380536]\n",
      " [0.27179984]\n",
      " [0.2715382 ]\n",
      " [0.27345665]\n",
      " [0.26525991]\n",
      " [0.25026159]\n",
      " [0.2485176 ]\n",
      " [0.24947688]\n",
      " [0.25453437]\n",
      " [0.26342875]\n",
      " [0.26796306]\n",
      " [0.25540636]\n",
      " [0.24738408]\n",
      " [0.27118939]\n",
      " [0.25837115]\n",
      " [0.26290546]\n",
      " [0.26299275]\n",
      " [0.26255675]\n",
      " [0.2891525 ]\n",
      " [0.28967567]\n",
      " [0.28671088]\n",
      " [0.26874787]\n",
      " [0.25017441]\n",
      " [0.24284966]\n",
      " [0.25183121]\n",
      " [0.25462154]\n",
      " [0.25636553]\n",
      " [0.24119296]\n",
      " [0.24703526]\n",
      " [0.23866416]\n",
      " [0.23160105]\n",
      " [0.22314267]\n",
      " [0.21093479]\n",
      " [0.21154525]\n",
      " [0.21276595]\n",
      " [0.21180678]\n",
      " [0.20988844]\n",
      " [0.24136732]\n",
      " [0.22950825]\n",
      " [0.24546563]\n",
      " [0.21442275]\n",
      " [0.21433558]\n",
      " [0.21712591]\n",
      " [0.21032444]\n",
      " [0.20561566]\n",
      " [0.19349496]\n",
      " [0.17213116]\n",
      " [0.16907919]\n",
      " [0.15626096]\n",
      " [0.15294735]\n",
      " [0.15660978]\n",
      " [0.15477851]\n",
      " [0.16995118]\n",
      " [0.16925365]\n",
      " [0.16158008]\n",
      " [0.15268581]\n",
      " [0.15286017]\n",
      " [0.14614588]\n",
      " [0.13908266]\n",
      " [0.14117546]\n",
      " [0.13411235]\n",
      " [0.13254272]\n",
      " [0.13114756]\n",
      " [0.12059648]\n",
      " [0.1000175 ]\n",
      " [0.11850368]\n",
      " [0.11109175]\n",
      " [0.11109175]\n",
      " [0.10612144]\n",
      " [0.12574125]\n",
      " [0.12792123]\n",
      " [0.15268581]\n",
      " [0.16358571]\n",
      " [0.1677712 ]\n",
      " [0.17683994]\n",
      " [0.17343915]\n",
      " [0.1552145 ]\n",
      " [0.16716085]\n",
      " [0.23160105]\n",
      " [0.2142484 ]\n",
      " [0.19323342]\n",
      " [0.19532612]\n",
      " [0.18651902]\n",
      " [0.16602722]\n",
      " [0.16384724]\n",
      " [0.15582496]\n",
      " [0.16114409]\n",
      " [0.16724803]\n",
      " [0.17082317]\n",
      " [0.18303106]\n",
      " [0.18215906]\n",
      " [0.20762128]\n",
      " [0.20823163]\n",
      " [0.20971398]\n",
      " [0.20901645]\n",
      " [0.21328923]\n",
      " [0.22758981]\n",
      " [0.24415765]\n",
      " [0.28836768]\n",
      " [0.32516569]\n",
      " [0.33562958]\n",
      " [0.30851067]\n",
      " [0.27328219]\n",
      " [0.35359259]\n",
      " [0.36292296]\n",
      " [0.29612843]\n",
      " [0.26116148]\n",
      " [0.22131151]\n",
      " [0.27232302]\n",
      " [0.2803453 ]\n",
      " [0.27066621]\n",
      " [0.26482391]\n",
      " [0.26639343]\n",
      " [0.30981866]\n",
      " [0.35359259]\n",
      " [0.34731429]\n",
      " [0.34173353]\n",
      " [0.30598187]\n",
      " [0.31348098]\n",
      " [0.31941056]\n",
      " [0.31958492]\n",
      " [0.30266837]\n",
      " [0.31557378]\n",
      " [0.30929548]\n",
      " [0.30319154]\n",
      " [0.30476106]\n",
      " [0.29604115]\n",
      " [0.29072202]\n",
      " [0.29482044]\n",
      " [0.29691314]\n",
      " [0.27476464]\n",
      " [0.23386821]\n",
      " [0.21738755]\n",
      " [0.21180678]\n",
      " [0.11614934]\n",
      " [0.11728287]\n",
      " [0.11719569]\n",
      " [0.11867814]\n",
      " [0.12417162]\n",
      " [0.13672832]\n",
      " [0.14178592]\n",
      " [0.15381934]\n",
      " [0.13053721]\n",
      " [0.11545171]\n",
      " [0.12059648]\n",
      " [0.12373563]\n",
      " [0.12347409]\n",
      " [0.11623652]\n",
      " [0.11388219]\n",
      " [0.11178939]\n",
      " [0.10298229]\n",
      " [0.09199511]\n",
      " [0.06260904]\n",
      " [0.0811825 ]\n",
      " [0.12181729]\n",
      " [0.12077084]\n",
      " [0.14579706]\n",
      " [0.13916994]\n",
      " [0.12399727]\n",
      " [0.1163237 ]\n",
      " [0.11100457]\n",
      " [0.08763515]\n",
      " [0.08135686]\n",
      " [0.0795257 ]\n",
      " [0.07080578]\n",
      " [0.08379848]\n",
      " [0.07507856]\n",
      " [0.07098014]\n",
      " [0.07132895]\n",
      " [0.0644402 ]\n",
      " [0.04909317]\n",
      " [0.02136379]\n",
      " [0.00863274]\n",
      " [0.        ]\n",
      " [0.00435996]\n",
      " [0.02214861]\n",
      " [0.03156616]\n",
      " [0.03261251]\n",
      " [0.03043253]\n",
      " [0.03252533]\n",
      " [0.03043253]\n",
      " [0.03331014]\n",
      " [0.02223579]\n",
      " [0.02895018]\n",
      " [0.0255494 ]\n",
      " [0.03496695]\n",
      " [0.02816537]\n",
      " [0.03060699]\n",
      " [0.02868854]\n",
      " [0.02772938]\n",
      " [0.02415423]\n",
      " [0.03147898]\n",
      " [0.03174052]\n",
      " [0.03400767]\n",
      " [0.03592612]\n",
      " [0.04918035]\n",
      " [0.05380195]\n",
      " [0.04447157]\n",
      " [0.04525638]\n",
      " [0.05083715]\n",
      " [0.05275549]\n",
      " [0.06243468]\n",
      " [0.06217304]\n",
      " [0.066533  ]\n",
      " [0.06330667]\n",
      " [0.05781309]\n",
      " [0.07961287]\n",
      " [0.1016743 ]\n",
      " [0.10821424]\n",
      " [0.12513079]\n",
      " [0.1263516 ]\n",
      " [0.12792123]\n",
      " [0.12042212]\n",
      " [0.11039422]\n",
      " [0.11388219]\n",
      " [0.11335891]\n",
      " [0.11292291]\n",
      " [0.11492853]\n",
      " [0.12120683]\n",
      " [0.12478208]\n",
      " [0.12225329]\n",
      " [0.11370772]\n",
      " [0.11693416]\n",
      " [0.11187656]\n",
      " [0.1125742 ]\n",
      " [0.12661324]\n",
      " [0.15076737]\n",
      " [0.17178234]\n",
      " [0.18172307]\n",
      " [0.19166379]\n",
      " [0.1623649 ]\n",
      " [0.14658187]\n",
      " [0.14815139]\n",
      " [0.15373216]\n",
      " [0.17509595]\n",
      " [0.16951519]\n",
      " [0.1640217 ]\n",
      " [0.16550405]\n",
      " [0.16750967]\n",
      " [0.15826647]\n",
      " [0.15120336]\n",
      " [0.15687131]\n",
      " [0.15451697]\n",
      " [0.14623305]\n",
      " [0.151465  ]\n",
      " [0.15530179]\n",
      " [0.15495297]\n",
      " [0.15434251]\n",
      " [0.16812002]\n",
      " [0.1811999 ]\n",
      " [0.16532969]\n",
      " [0.15905129]\n",
      " [0.16759685]\n",
      " [0.17160799]\n",
      " [0.16550405]\n",
      " [0.18852465]\n",
      " [0.2012557 ]\n",
      " [0.1907918 ]\n",
      " [0.19654693]\n",
      " [0.22087551]\n",
      " [0.21573074]\n",
      " [0.19497741]\n",
      " [0.19550058]\n",
      " [0.19157662]\n",
      " [0.22322985]\n",
      " [0.21616674]\n",
      " [0.20474367]\n",
      " [0.22288114]\n",
      " [0.20744682]\n",
      " [0.20980126]\n",
      " [0.23029306]\n",
      " [0.22113715]\n",
      " [0.21564356]\n",
      " [0.20317404]\n",
      " [0.21512039]\n",
      " [0.20936527]\n",
      " [0.20788282]\n",
      " [0.19785491]\n",
      " [0.19863973]\n",
      " [0.22104987]\n",
      " [0.22349149]\n",
      " [0.25488318]\n",
      " [0.25156957]\n",
      " [0.24816889]\n",
      " [0.25671435]\n",
      " [0.22288114]\n",
      " [0.22227068]\n",
      " [0.22488665]\n",
      " [0.23657136]\n",
      " [0.22994425]\n",
      " [0.2159052 ]\n",
      " [0.21398676]\n",
      " [0.20831881]\n",
      " [0.20020935]\n",
      " [0.19724456]\n",
      " [0.19724456]\n",
      " [0.20657483]\n",
      " [0.20561566]\n",
      " [0.19794209]\n",
      " [0.18416469]\n",
      " [0.18468786]\n",
      " [0.19619811]\n",
      " [0.18041508]\n",
      " [0.1807639 ]\n",
      " [0.18399023]\n",
      " [0.18390305]\n",
      " [0.17928156]\n",
      " [0.18364151]\n",
      " [0.20465649]\n",
      " [0.18268224]\n",
      " [0.17936873]\n",
      " [0.17980473]\n",
      " [0.14928502]\n",
      " [0.13812349]\n",
      " [0.12757241]\n",
      " [0.13045003]\n",
      " [0.12617725]\n",
      " [0.12277646]\n",
      " [0.1188525 ]\n",
      " [0.12975239]\n",
      " [0.13289154]\n",
      " [0.13873395]\n",
      " [0.13768749]\n",
      " [0.14213463]\n",
      " [0.14466343]\n",
      " [0.13672832]\n",
      " [0.12853158]\n",
      " [0.13071156]\n",
      " [0.13507152]\n",
      " [0.14440189]\n",
      " [0.13978029]\n",
      " [0.13786196]\n",
      " [0.13411235]\n",
      " [0.14972102]\n",
      " [0.25427283]\n",
      " [0.24843043]\n",
      " [0.25994078]\n",
      " [0.25749916]\n",
      " [0.24250095]\n",
      " [0.3263865 ]\n",
      " [0.31775376]\n",
      " [0.37347404]\n",
      " [0.4422742 ]\n",
      " [0.41960242]\n",
      " [0.41698644]\n",
      " [0.45326127]\n",
      " [0.47645623]\n",
      " [0.49424488]\n",
      " [0.46093484]\n",
      " [0.47052675]\n",
      " [0.45727241]\n",
      " [0.40006978]\n",
      " [0.40573773]\n",
      " [0.45509243]\n",
      " [0.43503663]\n",
      " [0.50497042]\n",
      " [0.51456232]\n",
      " [0.52432859]\n",
      " [0.57010815]\n",
      " [0.53339732]\n",
      " [0.53522848]\n",
      " [0.52912454]\n",
      " [0.54508203]\n",
      " [0.50924309]\n",
      " [0.52424141]\n",
      " [0.53496684]\n",
      " [0.52694456]\n",
      " [0.51874782]\n",
      " [0.51874782]\n",
      " [0.62905476]\n",
      " [0.62024766]\n",
      " [0.64414025]\n",
      " [0.64536106]\n",
      " [0.59888387]\n",
      " [0.65460415]\n",
      " [0.64815139]\n",
      " [0.66925355]\n",
      " [0.69942454]\n",
      " [0.72881061]\n",
      " [0.70657483]\n",
      " [0.72131151]\n",
      " [0.81444015]\n",
      " [0.86152769]\n",
      " [0.89396574]\n",
      " [1.        ]\n",
      " [0.95744677]\n",
      " [0.85559821]\n",
      " [0.8364144 ]\n",
      " [0.93939658]\n",
      " [0.91428318]\n",
      " [0.88594346]\n",
      " [0.90748161]\n",
      " [0.8899547 ]\n",
      " [0.88542039]\n",
      " [0.92875833]\n",
      " [0.93242065]\n",
      " [0.88821072]\n",
      " [0.88655381]\n",
      " [0.82856647]\n",
      " [0.85620857]\n",
      " [0.86824199]\n",
      " [0.88079879]\n",
      " [0.86396931]\n",
      " [0.83440878]\n",
      " [0.85969664]\n",
      " [0.83719921]\n",
      " [0.792466  ]\n",
      " [0.65905129]\n",
      " [0.74407047]\n",
      " [0.68590867]\n",
      " [0.64972102]\n",
      " [0.60638297]\n",
      " [0.58432165]\n",
      " [0.6451866 ]\n",
      " [0.6531217 ]\n",
      " [0.63760032]\n",
      " [0.62896758]\n",
      " [0.67021282]\n",
      " [0.76517262]\n",
      " [0.81365544]]\n"
     ]
    }
   ],
   "source": [
    "print(df1)"
   ]
  },
  {
   "cell_type": "code",
   "execution_count": 13,
   "metadata": {},
   "outputs": [],
   "source": [
    "##splitting dataset into train and test split\n",
    "training_size=int(len(df1)*0.65)\n",
    "test_size=len(df1)-training_size\n",
    "train_data,test_data=df1[0:training_size,:],df1[training_size:len(df1),:1]"
   ]
  },
  {
   "cell_type": "code",
   "execution_count": 14,
   "metadata": {},
   "outputs": [
    {
     "data": {
      "text/plain": [
       "(302, 163)"
      ]
     },
     "execution_count": 14,
     "metadata": {},
     "output_type": "execute_result"
    }
   ],
   "source": [
    "training_size,test_size"
   ]
  },
  {
   "cell_type": "code",
   "execution_count": 15,
   "metadata": {},
   "outputs": [
    {
     "data": {
      "text/plain": [
       "array([[0.59888387],\n",
       "       [0.60080221],\n",
       "       [0.5388908 ],\n",
       "       [0.51325434],\n",
       "       [0.49703521],\n",
       "       [0.5079351 ],\n",
       "       [0.50305197],\n",
       "       [0.48796658],\n",
       "       [0.50531913],\n",
       "       [0.5334845 ],\n",
       "       [0.48735612],\n",
       "       [0.4857866 ],\n",
       "       [0.47758986],\n",
       "       [0.46808513],\n",
       "       [0.42814787],\n",
       "       [0.38568192],\n",
       "       [0.35960935],\n",
       "       [0.33109527],\n",
       "       [0.31016747],\n",
       "       [0.23787935],\n",
       "       [0.24843043],\n",
       "       [0.27607262],\n",
       "       [0.23979769],\n",
       "       [0.21398676],\n",
       "       [0.22593311],\n",
       "       [0.23256022],\n",
       "       [0.2384897 ],\n",
       "       [0.23247304],\n",
       "       [0.2263691 ],\n",
       "       [0.23186259],\n",
       "       [0.22933379],\n",
       "       [0.25575518],\n",
       "       [0.2477329 ],\n",
       "       [0.25252885],\n",
       "       [0.27982212],\n",
       "       [0.29787241],\n",
       "       [0.29839559],\n",
       "       [0.28985003],\n",
       "       [0.30737704],\n",
       "       [0.32499133],\n",
       "       [0.32394488],\n",
       "       [0.32612486],\n",
       "       [0.31470179],\n",
       "       [0.30807467],\n",
       "       [0.28714687],\n",
       "       [0.27380536],\n",
       "       [0.27179984],\n",
       "       [0.2715382 ],\n",
       "       [0.27345665],\n",
       "       [0.26525991],\n",
       "       [0.25026159],\n",
       "       [0.2485176 ],\n",
       "       [0.24947688],\n",
       "       [0.25453437],\n",
       "       [0.26342875],\n",
       "       [0.26796306],\n",
       "       [0.25540636],\n",
       "       [0.24738408],\n",
       "       [0.27118939],\n",
       "       [0.25837115],\n",
       "       [0.26290546],\n",
       "       [0.26299275],\n",
       "       [0.26255675],\n",
       "       [0.2891525 ],\n",
       "       [0.28967567],\n",
       "       [0.28671088],\n",
       "       [0.26874787],\n",
       "       [0.25017441],\n",
       "       [0.24284966],\n",
       "       [0.25183121],\n",
       "       [0.25462154],\n",
       "       [0.25636553],\n",
       "       [0.24119296],\n",
       "       [0.24703526],\n",
       "       [0.23866416],\n",
       "       [0.23160105],\n",
       "       [0.22314267],\n",
       "       [0.21093479],\n",
       "       [0.21154525],\n",
       "       [0.21276595],\n",
       "       [0.21180678],\n",
       "       [0.20988844],\n",
       "       [0.24136732],\n",
       "       [0.22950825],\n",
       "       [0.24546563],\n",
       "       [0.21442275],\n",
       "       [0.21433558],\n",
       "       [0.21712591],\n",
       "       [0.21032444],\n",
       "       [0.20561566],\n",
       "       [0.19349496],\n",
       "       [0.17213116],\n",
       "       [0.16907919],\n",
       "       [0.15626096],\n",
       "       [0.15294735],\n",
       "       [0.15660978],\n",
       "       [0.15477851],\n",
       "       [0.16995118],\n",
       "       [0.16925365],\n",
       "       [0.16158008],\n",
       "       [0.15268581],\n",
       "       [0.15286017],\n",
       "       [0.14614588],\n",
       "       [0.13908266],\n",
       "       [0.14117546],\n",
       "       [0.13411235],\n",
       "       [0.13254272],\n",
       "       [0.13114756],\n",
       "       [0.12059648],\n",
       "       [0.1000175 ],\n",
       "       [0.11850368],\n",
       "       [0.11109175],\n",
       "       [0.11109175],\n",
       "       [0.10612144],\n",
       "       [0.12574125],\n",
       "       [0.12792123],\n",
       "       [0.15268581],\n",
       "       [0.16358571],\n",
       "       [0.1677712 ],\n",
       "       [0.17683994],\n",
       "       [0.17343915],\n",
       "       [0.1552145 ],\n",
       "       [0.16716085],\n",
       "       [0.23160105],\n",
       "       [0.2142484 ],\n",
       "       [0.19323342],\n",
       "       [0.19532612],\n",
       "       [0.18651902],\n",
       "       [0.16602722],\n",
       "       [0.16384724],\n",
       "       [0.15582496],\n",
       "       [0.16114409],\n",
       "       [0.16724803],\n",
       "       [0.17082317],\n",
       "       [0.18303106],\n",
       "       [0.18215906],\n",
       "       [0.20762128],\n",
       "       [0.20823163],\n",
       "       [0.20971398],\n",
       "       [0.20901645],\n",
       "       [0.21328923],\n",
       "       [0.22758981],\n",
       "       [0.24415765],\n",
       "       [0.28836768],\n",
       "       [0.32516569],\n",
       "       [0.33562958],\n",
       "       [0.30851067],\n",
       "       [0.27328219],\n",
       "       [0.35359259],\n",
       "       [0.36292296],\n",
       "       [0.29612843],\n",
       "       [0.26116148],\n",
       "       [0.22131151],\n",
       "       [0.27232302],\n",
       "       [0.2803453 ],\n",
       "       [0.27066621],\n",
       "       [0.26482391],\n",
       "       [0.26639343],\n",
       "       [0.30981866],\n",
       "       [0.35359259],\n",
       "       [0.34731429],\n",
       "       [0.34173353],\n",
       "       [0.30598187],\n",
       "       [0.31348098],\n",
       "       [0.31941056],\n",
       "       [0.31958492],\n",
       "       [0.30266837],\n",
       "       [0.31557378],\n",
       "       [0.30929548],\n",
       "       [0.30319154],\n",
       "       [0.30476106],\n",
       "       [0.29604115],\n",
       "       [0.29072202],\n",
       "       [0.29482044],\n",
       "       [0.29691314],\n",
       "       [0.27476464],\n",
       "       [0.23386821],\n",
       "       [0.21738755],\n",
       "       [0.21180678],\n",
       "       [0.11614934],\n",
       "       [0.11728287],\n",
       "       [0.11719569],\n",
       "       [0.11867814],\n",
       "       [0.12417162],\n",
       "       [0.13672832],\n",
       "       [0.14178592],\n",
       "       [0.15381934],\n",
       "       [0.13053721],\n",
       "       [0.11545171],\n",
       "       [0.12059648],\n",
       "       [0.12373563],\n",
       "       [0.12347409],\n",
       "       [0.11623652],\n",
       "       [0.11388219],\n",
       "       [0.11178939],\n",
       "       [0.10298229],\n",
       "       [0.09199511],\n",
       "       [0.06260904],\n",
       "       [0.0811825 ],\n",
       "       [0.12181729],\n",
       "       [0.12077084],\n",
       "       [0.14579706],\n",
       "       [0.13916994],\n",
       "       [0.12399727],\n",
       "       [0.1163237 ],\n",
       "       [0.11100457],\n",
       "       [0.08763515],\n",
       "       [0.08135686],\n",
       "       [0.0795257 ],\n",
       "       [0.07080578],\n",
       "       [0.08379848],\n",
       "       [0.07507856],\n",
       "       [0.07098014],\n",
       "       [0.07132895],\n",
       "       [0.0644402 ],\n",
       "       [0.04909317],\n",
       "       [0.02136379],\n",
       "       [0.00863274],\n",
       "       [0.        ],\n",
       "       [0.00435996],\n",
       "       [0.02214861],\n",
       "       [0.03156616],\n",
       "       [0.03261251],\n",
       "       [0.03043253],\n",
       "       [0.03252533],\n",
       "       [0.03043253],\n",
       "       [0.03331014],\n",
       "       [0.02223579],\n",
       "       [0.02895018],\n",
       "       [0.0255494 ],\n",
       "       [0.03496695],\n",
       "       [0.02816537],\n",
       "       [0.03060699],\n",
       "       [0.02868854],\n",
       "       [0.02772938],\n",
       "       [0.02415423],\n",
       "       [0.03147898],\n",
       "       [0.03174052],\n",
       "       [0.03400767],\n",
       "       [0.03592612],\n",
       "       [0.04918035],\n",
       "       [0.05380195],\n",
       "       [0.04447157],\n",
       "       [0.04525638],\n",
       "       [0.05083715],\n",
       "       [0.05275549],\n",
       "       [0.06243468],\n",
       "       [0.06217304],\n",
       "       [0.066533  ],\n",
       "       [0.06330667],\n",
       "       [0.05781309],\n",
       "       [0.07961287],\n",
       "       [0.1016743 ],\n",
       "       [0.10821424],\n",
       "       [0.12513079],\n",
       "       [0.1263516 ],\n",
       "       [0.12792123],\n",
       "       [0.12042212],\n",
       "       [0.11039422],\n",
       "       [0.11388219],\n",
       "       [0.11335891],\n",
       "       [0.11292291],\n",
       "       [0.11492853],\n",
       "       [0.12120683],\n",
       "       [0.12478208],\n",
       "       [0.12225329],\n",
       "       [0.11370772],\n",
       "       [0.11693416],\n",
       "       [0.11187656],\n",
       "       [0.1125742 ],\n",
       "       [0.12661324],\n",
       "       [0.15076737],\n",
       "       [0.17178234],\n",
       "       [0.18172307],\n",
       "       [0.19166379],\n",
       "       [0.1623649 ],\n",
       "       [0.14658187],\n",
       "       [0.14815139],\n",
       "       [0.15373216],\n",
       "       [0.17509595],\n",
       "       [0.16951519],\n",
       "       [0.1640217 ],\n",
       "       [0.16550405],\n",
       "       [0.16750967],\n",
       "       [0.15826647],\n",
       "       [0.15120336],\n",
       "       [0.15687131],\n",
       "       [0.15451697],\n",
       "       [0.14623305],\n",
       "       [0.151465  ],\n",
       "       [0.15530179],\n",
       "       [0.15495297],\n",
       "       [0.15434251],\n",
       "       [0.16812002],\n",
       "       [0.1811999 ],\n",
       "       [0.16532969],\n",
       "       [0.15905129],\n",
       "       [0.16759685],\n",
       "       [0.17160799],\n",
       "       [0.16550405],\n",
       "       [0.18852465],\n",
       "       [0.2012557 ]])"
      ]
     },
     "execution_count": 15,
     "metadata": {},
     "output_type": "execute_result"
    }
   ],
   "source": [
    "train_data"
   ]
  },
  {
   "cell_type": "code",
   "execution_count": 16,
   "metadata": {},
   "outputs": [],
   "source": [
    "import numpy\n",
    "# convert an array of values into a dataset matrix\n",
    "def create_dataset(dataset, time_step=1):\n",
    "\tdataX, dataY = [], []\n",
    "\tfor i in range(len(dataset)-time_step-1):\n",
    "\t\ta = dataset[i:(i+time_step), 0]   ###i=0, 0,1,2,3-----99   100 \n",
    "\t\tdataX.append(a)\n",
    "\t\tdataY.append(dataset[i + time_step, 0])\n",
    "\treturn numpy.array(dataX), numpy.array(dataY)"
   ]
  },
  {
   "cell_type": "code",
   "execution_count": 17,
   "metadata": {},
   "outputs": [],
   "source": [
    "# reshape into X=t,t+1,t+2,t+3 and Y=t+4\n",
    "time_step = 3\n",
    "X_train, y_train = create_dataset(train_data, time_step)\n",
    "X_test, ytest = create_dataset(test_data, time_step)"
   ]
  },
  {
   "cell_type": "code",
   "execution_count": 18,
   "metadata": {},
   "outputs": [
    {
     "name": "stdout",
     "output_type": "stream",
     "text": [
      "(298, 3)\n",
      "(298,)\n"
     ]
    },
    {
     "data": {
      "text/plain": [
       "(None, None)"
      ]
     },
     "execution_count": 18,
     "metadata": {},
     "output_type": "execute_result"
    }
   ],
   "source": [
    "print(X_train.shape), print(y_train.shape)"
   ]
  },
  {
   "cell_type": "code",
   "execution_count": 19,
   "metadata": {},
   "outputs": [
    {
     "name": "stdout",
     "output_type": "stream",
     "text": [
      "[0.21573074 0.19497741 0.19550058 0.19157662 0.22322985 0.21616674\n",
      " 0.20474367 0.22288114 0.20744682 0.20980126 0.23029306 0.22113715\n",
      " 0.21564356 0.20317404 0.21512039 0.20936527 0.20788282 0.19785491\n",
      " 0.19863973 0.22104987 0.22349149 0.25488318 0.25156957 0.24816889\n",
      " 0.25671435 0.22288114 0.22227068 0.22488665 0.23657136 0.22994425\n",
      " 0.2159052  0.21398676 0.20831881 0.20020935 0.19724456 0.19724456\n",
      " 0.20657483 0.20561566 0.19794209 0.18416469 0.18468786 0.19619811\n",
      " 0.18041508 0.1807639  0.18399023 0.18390305 0.17928156 0.18364151\n",
      " 0.20465649 0.18268224 0.17936873 0.17980473 0.14928502 0.13812349\n",
      " 0.12757241 0.13045003 0.12617725 0.12277646 0.1188525  0.12975239\n",
      " 0.13289154 0.13873395 0.13768749 0.14213463 0.14466343 0.13672832\n",
      " 0.12853158 0.13071156 0.13507152 0.14440189 0.13978029 0.13786196\n",
      " 0.13411235 0.14972102 0.25427283 0.24843043 0.25994078 0.25749916\n",
      " 0.24250095 0.3263865  0.31775376 0.37347404 0.4422742  0.41960242\n",
      " 0.41698644 0.45326127 0.47645623 0.49424488 0.46093484 0.47052675\n",
      " 0.45727241 0.40006978 0.40573773 0.45509243 0.43503663 0.50497042\n",
      " 0.51456232 0.52432859 0.57010815 0.53339732 0.53522848 0.52912454\n",
      " 0.54508203 0.50924309 0.52424141 0.53496684 0.52694456 0.51874782\n",
      " 0.51874782 0.62905476 0.62024766 0.64414025 0.64536106 0.59888387\n",
      " 0.65460415 0.64815139 0.66925355 0.69942454 0.72881061 0.70657483\n",
      " 0.72131151 0.81444015 0.86152769 0.89396574 1.         0.95744677\n",
      " 0.85559821 0.8364144  0.93939658 0.91428318 0.88594346 0.90748161\n",
      " 0.8899547  0.88542039 0.92875833 0.93242065 0.88821072 0.88655381\n",
      " 0.82856647 0.85620857 0.86824199 0.88079879 0.86396931 0.83440878\n",
      " 0.85969664 0.83719921 0.792466   0.65905129 0.74407047 0.68590867\n",
      " 0.64972102 0.60638297 0.58432165 0.6451866  0.6531217  0.63760032\n",
      " 0.62896758 0.67021282 0.76517262]\n"
     ]
    }
   ],
   "source": [
    "\n",
    "print(ytest)\n"
   ]
  },
  {
   "cell_type": "code",
   "execution_count": 20,
   "metadata": {},
   "outputs": [
    {
     "name": "stdout",
     "output_type": "stream",
     "text": [
      "(159, 3)\n",
      "(159,)\n"
     ]
    },
    {
     "data": {
      "text/plain": [
       "(None, None)"
      ]
     },
     "execution_count": 20,
     "metadata": {},
     "output_type": "execute_result"
    }
   ],
   "source": [
    "print(X_test.shape), print(ytest.shape)"
   ]
  },
  {
   "cell_type": "code",
   "execution_count": 21,
   "metadata": {},
   "outputs": [],
   "source": [
    "# reshape input to be [samples, time steps, features] which is required for LSTM\n",
    "X_train = X_train.reshape((X_train.shape[0], time_step, 1))\n",
    "\n",
    "# reshape X_test to match the input shape of the model\n",
    "X_test = X_test.reshape((X_test.shape[0], time_step, 1))"
   ]
  },
  {
   "cell_type": "code",
   "execution_count": 22,
   "metadata": {},
   "outputs": [],
   "source": [
    "### Create the Stacked LSTM model\n",
    "from tensorflow.keras.models import Sequential\n",
    "from tensorflow.keras.layers import Dense\n",
    "from tensorflow.keras.layers import LSTM"
   ]
  },
  {
   "cell_type": "code",
   "execution_count": 23,
   "metadata": {},
   "outputs": [],
   "source": [
    "model=Sequential()\n",
    "model.add(LSTM(50,return_sequences=True,input_shape=(time_step,1)))\n",
    "model.add(LSTM(50,return_sequences=True))\n",
    "model.add(LSTM(50))\n",
    "model.add(Dense(1))\n",
    "model.compile(loss='mean_squared_error',optimizer='adam')\n"
   ]
  },
  {
   "cell_type": "code",
   "execution_count": 24,
   "metadata": {},
   "outputs": [
    {
     "name": "stdout",
     "output_type": "stream",
     "text": [
      "Model: \"sequential\"\n",
      "_________________________________________________________________\n",
      " Layer (type)                Output Shape              Param #   \n",
      "=================================================================\n",
      " lstm (LSTM)                 (None, 3, 50)             10400     \n",
      "                                                                 \n",
      " lstm_1 (LSTM)               (None, 3, 50)             20200     \n",
      "                                                                 \n",
      " lstm_2 (LSTM)               (None, 50)                20200     \n",
      "                                                                 \n",
      " dense (Dense)               (None, 1)                 51        \n",
      "                                                                 \n",
      "=================================================================\n",
      "Total params: 50,851\n",
      "Trainable params: 50,851\n",
      "Non-trainable params: 0\n",
      "_________________________________________________________________\n"
     ]
    }
   ],
   "source": [
    "model.summary()"
   ]
  },
  {
   "cell_type": "code",
   "execution_count": 25,
   "metadata": {},
   "outputs": [
    {
     "name": "stdout",
     "output_type": "stream",
     "text": [
      "Epoch 1/100\n"
     ]
    },
    {
     "name": "stdout",
     "output_type": "stream",
     "text": [
      "5/5 [==============================] - 6s 292ms/step - loss: 0.0429 - val_loss: 0.2166\n",
      "Epoch 2/100\n",
      "5/5 [==============================] - 0s 17ms/step - loss: 0.0292 - val_loss: 0.1707\n",
      "Epoch 3/100\n",
      "5/5 [==============================] - 0s 15ms/step - loss: 0.0160 - val_loss: 0.1152\n",
      "Epoch 4/100\n",
      "5/5 [==============================] - 0s 14ms/step - loss: 0.0088 - val_loss: 0.0687\n",
      "Epoch 5/100\n",
      "5/5 [==============================] - 0s 14ms/step - loss: 0.0107 - val_loss: 0.0644\n",
      "Epoch 6/100\n",
      "5/5 [==============================] - 0s 15ms/step - loss: 0.0088 - val_loss: 0.0813\n",
      "Epoch 7/100\n",
      "5/5 [==============================] - 0s 15ms/step - loss: 0.0076 - val_loss: 0.0911\n",
      "Epoch 8/100\n",
      "5/5 [==============================] - 0s 17ms/step - loss: 0.0076 - val_loss: 0.0842\n",
      "Epoch 9/100\n",
      "5/5 [==============================] - 0s 17ms/step - loss: 0.0066 - val_loss: 0.0612\n",
      "Epoch 10/100\n",
      "5/5 [==============================] - 0s 21ms/step - loss: 0.0054 - val_loss: 0.0412\n",
      "Epoch 11/100\n",
      "5/5 [==============================] - 0s 19ms/step - loss: 0.0047 - val_loss: 0.0311\n",
      "Epoch 12/100\n",
      "5/5 [==============================] - 0s 17ms/step - loss: 0.0034 - val_loss: 0.0241\n",
      "Epoch 13/100\n",
      "5/5 [==============================] - 0s 17ms/step - loss: 0.0024 - val_loss: 0.0107\n",
      "Epoch 14/100\n",
      "5/5 [==============================] - 0s 18ms/step - loss: 0.0014 - val_loss: 0.0030\n",
      "Epoch 15/100\n",
      "5/5 [==============================] - 0s 21ms/step - loss: 9.9372e-04 - val_loss: 0.0057\n",
      "Epoch 16/100\n",
      "5/5 [==============================] - 0s 18ms/step - loss: 0.0010 - val_loss: 0.0092\n",
      "Epoch 17/100\n",
      "5/5 [==============================] - 0s 19ms/step - loss: 0.0011 - val_loss: 0.0114\n",
      "Epoch 18/100\n",
      "5/5 [==============================] - 0s 17ms/step - loss: 9.8462e-04 - val_loss: 0.0052\n",
      "Epoch 19/100\n",
      "5/5 [==============================] - 0s 19ms/step - loss: 9.2170e-04 - val_loss: 0.0034\n",
      "Epoch 20/100\n",
      "5/5 [==============================] - 0s 17ms/step - loss: 8.6779e-04 - val_loss: 0.0029\n",
      "Epoch 21/100\n",
      "5/5 [==============================] - 0s 17ms/step - loss: 8.8163e-04 - val_loss: 0.0029\n",
      "Epoch 22/100\n",
      "5/5 [==============================] - 0s 18ms/step - loss: 8.7346e-04 - val_loss: 0.0029\n",
      "Epoch 23/100\n",
      "5/5 [==============================] - 0s 17ms/step - loss: 8.5306e-04 - val_loss: 0.0028\n",
      "Epoch 24/100\n",
      "5/5 [==============================] - 0s 17ms/step - loss: 8.4347e-04 - val_loss: 0.0029\n",
      "Epoch 25/100\n",
      "5/5 [==============================] - 0s 17ms/step - loss: 8.3456e-04 - val_loss: 0.0028\n",
      "Epoch 26/100\n",
      "5/5 [==============================] - 0s 17ms/step - loss: 8.3659e-04 - val_loss: 0.0028\n",
      "Epoch 27/100\n",
      "5/5 [==============================] - 0s 17ms/step - loss: 8.3122e-04 - val_loss: 0.0028\n",
      "Epoch 28/100\n",
      "5/5 [==============================] - 0s 22ms/step - loss: 8.1717e-04 - val_loss: 0.0026\n",
      "Epoch 29/100\n",
      "5/5 [==============================] - 0s 16ms/step - loss: 8.2246e-04 - val_loss: 0.0027\n",
      "Epoch 30/100\n",
      "5/5 [==============================] - 0s 13ms/step - loss: 8.1749e-04 - val_loss: 0.0028\n",
      "Epoch 31/100\n",
      "5/5 [==============================] - 0s 14ms/step - loss: 8.4999e-04 - val_loss: 0.0025\n",
      "Epoch 32/100\n",
      "5/5 [==============================] - 0s 14ms/step - loss: 8.1360e-04 - val_loss: 0.0031\n",
      "Epoch 33/100\n",
      "5/5 [==============================] - 0s 19ms/step - loss: 8.0111e-04 - val_loss: 0.0025\n",
      "Epoch 34/100\n",
      "5/5 [==============================] - 0s 17ms/step - loss: 7.9406e-04 - val_loss: 0.0029\n",
      "Epoch 35/100\n",
      "5/5 [==============================] - 0s 16ms/step - loss: 8.0351e-04 - val_loss: 0.0029\n",
      "Epoch 36/100\n",
      "5/5 [==============================] - 0s 15ms/step - loss: 7.9091e-04 - val_loss: 0.0027\n",
      "Epoch 37/100\n",
      "5/5 [==============================] - 0s 16ms/step - loss: 8.0223e-04 - val_loss: 0.0032\n",
      "Epoch 38/100\n",
      "5/5 [==============================] - 0s 18ms/step - loss: 7.8246e-04 - val_loss: 0.0027\n",
      "Epoch 39/100\n",
      "5/5 [==============================] - 0s 16ms/step - loss: 7.7182e-04 - val_loss: 0.0033\n",
      "Epoch 40/100\n",
      "5/5 [==============================] - 0s 17ms/step - loss: 7.7552e-04 - val_loss: 0.0032\n",
      "Epoch 41/100\n",
      "5/5 [==============================] - 0s 17ms/step - loss: 7.6885e-04 - val_loss: 0.0031\n",
      "Epoch 42/100\n",
      "5/5 [==============================] - 0s 16ms/step - loss: 7.6318e-04 - val_loss: 0.0036\n",
      "Epoch 43/100\n",
      "5/5 [==============================] - 0s 17ms/step - loss: 7.6043e-04 - val_loss: 0.0034\n",
      "Epoch 44/100\n",
      "5/5 [==============================] - 0s 17ms/step - loss: 7.6201e-04 - val_loss: 0.0038\n",
      "Epoch 45/100\n",
      "5/5 [==============================] - 0s 12ms/step - loss: 7.6380e-04 - val_loss: 0.0037\n",
      "Epoch 46/100\n",
      "5/5 [==============================] - 0s 15ms/step - loss: 7.6076e-04 - val_loss: 0.0038\n",
      "Epoch 47/100\n",
      "5/5 [==============================] - 0s 20ms/step - loss: 7.6087e-04 - val_loss: 0.0041\n",
      "Epoch 48/100\n",
      "5/5 [==============================] - 0s 16ms/step - loss: 7.6902e-04 - val_loss: 0.0037\n",
      "Epoch 49/100\n",
      "5/5 [==============================] - 0s 23ms/step - loss: 7.7181e-04 - val_loss: 0.0044\n",
      "Epoch 50/100\n",
      "5/5 [==============================] - 0s 15ms/step - loss: 7.7633e-04 - val_loss: 0.0038\n",
      "Epoch 51/100\n",
      "5/5 [==============================] - 0s 19ms/step - loss: 7.6109e-04 - val_loss: 0.0046\n",
      "Epoch 52/100\n",
      "5/5 [==============================] - 0s 17ms/step - loss: 7.4489e-04 - val_loss: 0.0041\n",
      "Epoch 53/100\n",
      "5/5 [==============================] - 0s 16ms/step - loss: 7.5912e-04 - val_loss: 0.0046\n",
      "Epoch 54/100\n",
      "5/5 [==============================] - 0s 16ms/step - loss: 7.5763e-04 - val_loss: 0.0049\n",
      "Epoch 55/100\n",
      "5/5 [==============================] - 0s 13ms/step - loss: 7.3956e-04 - val_loss: 0.0042\n",
      "Epoch 56/100\n",
      "5/5 [==============================] - 0s 15ms/step - loss: 7.4655e-04 - val_loss: 0.0049\n",
      "Epoch 57/100\n",
      "5/5 [==============================] - 0s 15ms/step - loss: 7.4180e-04 - val_loss: 0.0048\n",
      "Epoch 58/100\n",
      "5/5 [==============================] - 0s 15ms/step - loss: 7.4192e-04 - val_loss: 0.0052\n",
      "Epoch 59/100\n",
      "5/5 [==============================] - 0s 17ms/step - loss: 7.3959e-04 - val_loss: 0.0050\n",
      "Epoch 60/100\n",
      "5/5 [==============================] - 0s 15ms/step - loss: 7.3574e-04 - val_loss: 0.0052\n",
      "Epoch 61/100\n",
      "5/5 [==============================] - 0s 15ms/step - loss: 7.3688e-04 - val_loss: 0.0051\n",
      "Epoch 62/100\n",
      "5/5 [==============================] - 0s 17ms/step - loss: 7.5385e-04 - val_loss: 0.0052\n",
      "Epoch 63/100\n",
      "5/5 [==============================] - 0s 16ms/step - loss: 7.4573e-04 - val_loss: 0.0055\n",
      "Epoch 64/100\n",
      "5/5 [==============================] - 0s 17ms/step - loss: 7.3527e-04 - val_loss: 0.0054\n",
      "Epoch 65/100\n",
      "5/5 [==============================] - 0s 17ms/step - loss: 7.4156e-04 - val_loss: 0.0056\n",
      "Epoch 66/100\n",
      "5/5 [==============================] - 0s 18ms/step - loss: 7.3861e-04 - val_loss: 0.0054\n",
      "Epoch 67/100\n",
      "5/5 [==============================] - 0s 18ms/step - loss: 7.4089e-04 - val_loss: 0.0053\n",
      "Epoch 68/100\n",
      "5/5 [==============================] - 0s 16ms/step - loss: 7.5194e-04 - val_loss: 0.0058\n",
      "Epoch 69/100\n",
      "5/5 [==============================] - 0s 16ms/step - loss: 7.4969e-04 - val_loss: 0.0054\n",
      "Epoch 70/100\n",
      "5/5 [==============================] - 0s 13ms/step - loss: 7.2652e-04 - val_loss: 0.0064\n",
      "Epoch 71/100\n",
      "5/5 [==============================] - 0s 14ms/step - loss: 7.5477e-04 - val_loss: 0.0052\n",
      "Epoch 72/100\n",
      "5/5 [==============================] - 0s 25ms/step - loss: 7.7171e-04 - val_loss: 0.0063\n",
      "Epoch 73/100\n",
      "5/5 [==============================] - 0s 19ms/step - loss: 7.4038e-04 - val_loss: 0.0051\n",
      "Epoch 74/100\n",
      "5/5 [==============================] - 0s 17ms/step - loss: 7.3300e-04 - val_loss: 0.0060\n",
      "Epoch 75/100\n",
      "5/5 [==============================] - 0s 18ms/step - loss: 7.5482e-04 - val_loss: 0.0054\n",
      "Epoch 76/100\n",
      "5/5 [==============================] - 0s 19ms/step - loss: 7.5482e-04 - val_loss: 0.0058\n",
      "Epoch 77/100\n",
      "5/5 [==============================] - 0s 18ms/step - loss: 7.3549e-04 - val_loss: 0.0063\n",
      "Epoch 78/100\n",
      "5/5 [==============================] - 0s 17ms/step - loss: 7.2885e-04 - val_loss: 0.0056\n",
      "Epoch 79/100\n",
      "5/5 [==============================] - 0s 18ms/step - loss: 7.3079e-04 - val_loss: 0.0064\n",
      "Epoch 80/100\n",
      "5/5 [==============================] - 0s 18ms/step - loss: 7.2873e-04 - val_loss: 0.0059\n",
      "Epoch 81/100\n",
      "5/5 [==============================] - 0s 18ms/step - loss: 7.3610e-04 - val_loss: 0.0059\n",
      "Epoch 82/100\n",
      "5/5 [==============================] - 0s 18ms/step - loss: 7.2648e-04 - val_loss: 0.0057\n",
      "Epoch 83/100\n",
      "5/5 [==============================] - 0s 19ms/step - loss: 7.2629e-04 - val_loss: 0.0058\n",
      "Epoch 84/100\n",
      "5/5 [==============================] - 0s 16ms/step - loss: 7.3439e-04 - val_loss: 0.0061\n",
      "Epoch 85/100\n",
      "5/5 [==============================] - 0s 21ms/step - loss: 7.2437e-04 - val_loss: 0.0068\n",
      "Epoch 86/100\n",
      "5/5 [==============================] - 0s 19ms/step - loss: 7.2203e-04 - val_loss: 0.0059\n",
      "Epoch 87/100\n",
      "5/5 [==============================] - 0s 18ms/step - loss: 7.4104e-04 - val_loss: 0.0060\n",
      "Epoch 88/100\n",
      "5/5 [==============================] - 0s 16ms/step - loss: 7.2572e-04 - val_loss: 0.0058\n",
      "Epoch 89/100\n",
      "5/5 [==============================] - 0s 13ms/step - loss: 7.2235e-04 - val_loss: 0.0056\n",
      "Epoch 90/100\n",
      "5/5 [==============================] - 0s 15ms/step - loss: 7.3010e-04 - val_loss: 0.0063\n",
      "Epoch 91/100\n",
      "5/5 [==============================] - 0s 18ms/step - loss: 7.2389e-04 - val_loss: 0.0061\n",
      "Epoch 92/100\n",
      "5/5 [==============================] - 0s 15ms/step - loss: 7.2202e-04 - val_loss: 0.0063\n",
      "Epoch 93/100\n",
      "5/5 [==============================] - 0s 15ms/step - loss: 7.2129e-04 - val_loss: 0.0059\n",
      "Epoch 94/100\n",
      "5/5 [==============================] - 0s 18ms/step - loss: 7.2405e-04 - val_loss: 0.0063\n",
      "Epoch 95/100\n",
      "5/5 [==============================] - 0s 17ms/step - loss: 7.3076e-04 - val_loss: 0.0061\n",
      "Epoch 96/100\n",
      "5/5 [==============================] - 0s 15ms/step - loss: 7.4606e-04 - val_loss: 0.0061\n",
      "Epoch 97/100\n",
      "5/5 [==============================] - 0s 17ms/step - loss: 7.4292e-04 - val_loss: 0.0065\n",
      "Epoch 98/100\n",
      "5/5 [==============================] - 0s 15ms/step - loss: 8.0017e-04 - val_loss: 0.0061\n",
      "Epoch 99/100\n",
      "5/5 [==============================] - 0s 13ms/step - loss: 7.6172e-04 - val_loss: 0.0068\n",
      "Epoch 100/100\n",
      "5/5 [==============================] - 0s 17ms/step - loss: 7.1838e-04 - val_loss: 0.0058\n"
     ]
    },
    {
     "data": {
      "text/plain": [
       "<keras.callbacks.History at 0x1d436b94ad0>"
      ]
     },
     "execution_count": 25,
     "metadata": {},
     "output_type": "execute_result"
    }
   ],
   "source": [
    "model.fit(X_train,y_train,validation_data=(X_test,ytest),epochs=100,batch_size=64,verbose=1)"
   ]
  },
  {
   "cell_type": "code",
   "execution_count": 26,
   "metadata": {},
   "outputs": [],
   "source": [
    "import tensorflow as tf"
   ]
  },
  {
   "cell_type": "code",
   "execution_count": 27,
   "metadata": {},
   "outputs": [
    {
     "data": {
      "text/plain": [
       "'2.12.0-rc1'"
      ]
     },
     "execution_count": 27,
     "metadata": {},
     "output_type": "execute_result"
    }
   ],
   "source": [
    "tf.__version__"
   ]
  },
  {
   "cell_type": "code",
   "execution_count": 28,
   "metadata": {},
   "outputs": [
    {
     "name": "stdout",
     "output_type": "stream",
     "text": [
      "10/10 [==============================] - 1s 3ms/step\n",
      "5/5 [==============================] - 0s 4ms/step\n"
     ]
    }
   ],
   "source": [
    "### Lets Do the prediction and check performance metrics\n",
    "train_predict=model.predict(X_train)\n",
    "test_predict=model.predict(X_test)"
   ]
  },
  {
   "cell_type": "code",
   "execution_count": 29,
   "metadata": {},
   "outputs": [],
   "source": [
    "##Transformback to original form\n",
    "train_predict=scaler.inverse_transform(train_predict)\n",
    "test_predict=scaler.inverse_transform(test_predict)"
   ]
  },
  {
   "cell_type": "code",
   "execution_count": 30,
   "metadata": {},
   "outputs": [
    {
     "data": {
      "text/plain": [
       "646.7618641431925"
      ]
     },
     "execution_count": 30,
     "metadata": {},
     "output_type": "execute_result"
    }
   ],
   "source": [
    "### Calculate RMSE performance metrics\n",
    "import math\n",
    "from sklearn.metrics import mean_squared_error\n",
    "math.sqrt(mean_squared_error(y_train,train_predict))"
   ]
  },
  {
   "cell_type": "code",
   "execution_count": 31,
   "metadata": {},
   "outputs": [
    {
     "data": {
      "text/plain": [
       "763.4499326184156"
      ]
     },
     "execution_count": 31,
     "metadata": {},
     "output_type": "execute_result"
    }
   ],
   "source": [
    "### Test Data RMSE\n",
    "math.sqrt(mean_squared_error(ytest,test_predict))"
   ]
  },
  {
   "cell_type": "code",
   "execution_count": 32,
   "metadata": {},
   "outputs": [
    {
     "data": {
      "image/png": "[encoded data removed]",
      "text/plain": [
       "<Figure size 640x480 with 1 Axes>"
      ]
     },
     "metadata": {},
     "output_type": "display_data"
    }
   ],
   "source": [
    "# ### Plotting \n",
    "# # shift train predictions for plotting\n",
    "# look_back=100\n",
    "# trainPredictPlot = numpy.empty_like(df1)\n",
    "# trainPredictPlot[:, :] = np.nan\n",
    "# trainPredictPlot[look_back:len(train_predict)+look_back, :] = train_predict\n",
    "# # shift test predictions for plotting\n",
    "# testPredictPlot = numpy.empty_like(df1)\n",
    "# testPredictPlot[:, :] = numpy.nan\n",
    "# testPredictPlot[len(train_predict)+(look_back*2)+1:len(df1)-1, :] = test_predict\n",
    "# # plot baseline and predictions\n",
    "# plt.plot(scaler.inverse_transform(df1))\n",
    "# plt.plot(trainPredictPlot)\n",
    "# plt.plot(testPredictPlot)\n",
    "# plt.show()\n",
    "### Plotting \n",
    "# shift train predictions for plotting\n",
    "# shift train predictions for plotting\n",
    "look_back = 3\n",
    "trainPredictPlot = np.full((len(df1), 1), np.nan)\n",
    "train_predict_len = len(X_train) - look_back\n",
    "trainPredictPlot[look_back:look_back+train_predict_len, :] = train_predict[:train_predict_len]\n",
    "# shift test predictions for plotting\n",
    "testPredictPlot = np.full((len(df1), 1), np.nan)\n",
    "testPredictPlot[len(train_predict)+(look_back*2)+1:len(df1)-1, :] = np.resize(test_predict, (max(0, (len(df1)-1)-(len(train_predict)+(look_back*2)+1)), 1))\n",
    "\n",
    "# plot baseline and predictions\n",
    "plt.plot(scaler.inverse_transform(df1))\n",
    "plt.plot(trainPredictPlot)\n",
    "plt.plot(testPredictPlot)\n",
    "plt.show()\n",
    "\n",
    "\n",
    "\n",
    "\n"
   ]
  },
  {
   "cell_type": "code",
   "execution_count": 33,
   "metadata": {},
   "outputs": [
    {
     "data": {
      "text/plain": [
       "163"
      ]
     },
     "execution_count": 33,
     "metadata": {},
     "output_type": "execute_result"
    }
   ],
   "source": [
    "len(test_data)"
   ]
  },
  {
   "cell_type": "code",
   "execution_count": 38,
   "metadata": {},
   "outputs": [
    {
     "data": {
      "text/plain": [
       "160"
      ]
     },
     "execution_count": 38,
     "metadata": {},
     "output_type": "execute_result"
    }
   ],
   "source": [
    "163-3"
   ]
  },
  {
   "cell_type": "code",
   "execution_count": 64,
   "metadata": {},
   "outputs": [
    {
     "data": {
      "text/plain": [
       "(1, 3)"
      ]
     },
     "execution_count": 64,
     "metadata": {},
     "output_type": "execute_result"
    }
   ],
   "source": [
    "x_input=test_data[len(test_data)-time_step:].reshape(1,-1)\n",
    "x_input.shape\n"
   ]
  },
  {
   "cell_type": "code",
   "execution_count": 65,
   "metadata": {},
   "outputs": [],
   "source": [
    "temp_input=list(x_input)\n",
    "temp_input=temp_input[0].tolist()"
   ]
  },
  {
   "cell_type": "code",
   "execution_count": 66,
   "metadata": {},
   "outputs": [
    {
     "data": {
      "text/plain": [
       "[0.6702128225767479, 0.7651726217632155, 0.8136554394201085]"
      ]
     },
     "execution_count": 66,
     "metadata": {},
     "output_type": "execute_result"
    }
   ],
   "source": [
    "temp_input"
   ]
  },
  {
   "cell_type": "code",
   "execution_count": 67,
   "metadata": {},
   "outputs": [
    {
     "name": "stdout",
     "output_type": "stream",
     "text": [
      "[0.63713056]\n",
      "4\n",
      "1 day input [0.76517262 0.81365544 0.63713056]\n",
      "1 day output [[0.67140454]]\n",
      "2 day input [0.81365544 0.63713056 0.67140454]\n",
      "2 day output [[0.6545074]]\n",
      "3 day input [0.63713056 0.67140454 0.6545074 ]\n",
      "3 day output [[0.58748835]]\n",
      "4 day input [0.67140454 0.6545074  0.58748835]\n",
      "4 day output [[0.5920338]]\n",
      "5 day input [0.6545074  0.58748835 0.5920338 ]\n",
      "5 day output [[0.5691129]]\n",
      "6 day input [0.58748835 0.5920338  0.5691129 ]\n",
      "6 day output [[0.53866947]]\n",
      "7 day input [0.5920338  0.5691129  0.53866947]\n",
      "7 day output [[0.5321016]]\n",
      "8 day input [0.5691129  0.53866947 0.53210157]\n",
      "8 day output [[0.5135424]]\n",
      "9 day input [0.53866947 0.53210157 0.51354241]\n",
      "9 day output [[0.49623582]]\n",
      "[[0.6371305584907532], [0.6714045405387878], [0.6545073986053467], [0.5874883532524109], [0.5920338034629822], [0.5691128969192505], [0.5386694669723511], [0.532101571559906], [0.5135424137115479], [0.49623581767082214]]\n"
     ]
    }
   ],
   "source": [
    "# demonstrate prediction for next 10 days\n",
    "from numpy import array\n",
    "\n",
    "lst_output=[]\n",
    "n_steps=3\n",
    "i=0\n",
    "while(i<10):\n",
    "    \n",
    "    if(len(temp_input)>3):\n",
    "        #print(temp_input)\n",
    "        x_input=np.array(temp_input[1:])\n",
    "        print(\"{} day input {}\".format(i,x_input))\n",
    "        x_input=x_input.reshape(1,-1)\n",
    "        x_input = x_input.reshape((1, n_steps, 1))\n",
    "        #print(x_input)\n",
    "        yhat = model.predict(x_input, verbose=0)\n",
    "        print(\"{} day output {}\".format(i,yhat))\n",
    "        temp_input.extend(yhat[0].tolist())\n",
    "        temp_input=temp_input[1:]\n",
    "        #print(temp_input)\n",
    "        lst_output.extend(yhat.tolist())\n",
    "        i=i+1\n",
    "    else:\n",
    "        x_input = x_input.reshape((1, n_steps,1))\n",
    "        yhat = model.predict(x_input, verbose=0)\n",
    "        print(yhat[0])\n",
    "        temp_input.extend(yhat[0].tolist())\n",
    "        print(len(temp_input))\n",
    "        lst_output.extend(yhat.tolist())\n",
    "        i=i+1\n",
    "    \n",
    "\n",
    "print(lst_output)\n",
    "\n"
   ]
  },
  {
   "cell_type": "code",
   "execution_count": 68,
   "metadata": {},
   "outputs": [],
   "source": [
    "# day_new=np.arange(1,101)\n",
    "# day_pred=np.arange(101,131)\n",
    "day_new = np.arange(1, 4)\n",
    "day_pred = np.arange(4, 14)"
   ]
  },
  {
   "cell_type": "code",
   "execution_count": 44,
   "metadata": {},
   "outputs": [],
   "source": [
    "import matplotlib.pyplot as plt"
   ]
  },
  {
   "cell_type": "code",
   "execution_count": 69,
   "metadata": {},
   "outputs": [
    {
     "data": {
      "text/plain": [
       "465"
      ]
     },
     "execution_count": 69,
     "metadata": {},
     "output_type": "execute_result"
    }
   ],
   "source": [
    "len(df1)\n"
   ]
  },
  {
   "cell_type": "code",
   "execution_count": 47,
   "metadata": {},
   "outputs": [
    {
     "data": {
      "text/plain": [
       "462"
      ]
     },
     "execution_count": 47,
     "metadata": {},
     "output_type": "execute_result"
    }
   ],
   "source": [
    "465-3"
   ]
  },
  {
   "cell_type": "code",
   "execution_count": 70,
   "metadata": {},
   "outputs": [
    {
     "data": {
      "text/plain": [
       "[<matplotlib.lines.Line2D at 0x1d44b7bad10>]"
      ]
     },
     "execution_count": 70,
     "metadata": {},
     "output_type": "execute_result"
    },
    {
     "data": {
      "image/png": "[encoded data removed]",
      "text/plain": [
       "<Figure size 640x480 with 1 Axes>"
      ]
     },
     "metadata": {},
     "output_type": "display_data"
    }
   ],
   "source": [
    "# plt.plot(day_new,scaler.inverse_transform(df1[1158:]))\n",
    "# plt.plot(day_pred,scaler.inverse_transform(lst_output))\n",
    "plt.plot(day_new, scaler.inverse_transform(df1[len(df1)-time_step:]))\n",
    "plt.plot(day_pred, scaler.inverse_transform(lst_output))\n"
   ]
  },
  {
   "cell_type": "code",
   "execution_count": 62,
   "metadata": {},
   "outputs": [
    {
     "data": {
      "text/plain": [
       "[<matplotlib.lines.Line2D at 0x1d44b7525d0>]"
      ]
     },
     "execution_count": 62,
     "metadata": {},
     "output_type": "execute_result"
    },
    {
     "data": {
      "image/png": "[encoded data removed]",
      "text/plain": [
       "<Figure size 640x480 with 1 Axes>"
      ]
     },
     "metadata": {},
     "output_type": "display_data"
    }
   ],
   "source": [
    "# the full view of the stock chart including the predicted days(lst_output)\n",
    "df3=df1.tolist()\n",
    "df3.extend(lst_output)\n",
    "plt.plot(df3[1:])"
   ]
  },
  {
   "cell_type": "code",
   "execution_count": 51,
   "metadata": {},
   "outputs": [],
   "source": [
    "df3=scaler.inverse_transform(df3).tolist()"
   ]
  },
  {
   "cell_type": "code",
   "execution_count": 52,
   "metadata": {},
   "outputs": [
    {
     "data": {
      "text/plain": [
       "[<matplotlib.lines.Line2D at 0x1d44b4a2090>]"
      ]
     },
     "execution_count": 52,
     "metadata": {},
     "output_type": "execute_result"
    },
    {
     "data": {
      "image/png": "[encoded data removed]",
      "text/plain": [
       "<Figure size 640x480 with 1 Axes>"
      ]
     },
     "metadata": {},
     "output_type": "display_data"
    }
   ],
   "source": [
    "plt.plot(df3)"
   ]
  }
 ],
 "metadata": {
  "kernelspec": {
   "display_name": "Python 3",
   "language": "python",
   "name": "python3"
  },
  "language_info": {
   "codemirror_mode": {
    "name": "ipython",
    "version": 3
   },
   "file_extension": ".py",
   "mimetype": "text/x-python",
   "name": "python",
   "nbconvert_exporter": "python",
   "pygments_lexer": "ipython3",
   "version": "3.11.5"
  },
  "vscode": {
   "interpreter": {
    "hash": "1f6a27bcfbe46a917dbd192f4a82657396dda26148bae633192e8d28c70725f1"
   }
  }
 },
 "nbformat": 4,
 "nbformat_minor": 2
}
